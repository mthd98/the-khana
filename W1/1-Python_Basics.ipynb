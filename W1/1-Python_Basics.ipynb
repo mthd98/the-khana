{
  "nbformat": 4,
  "nbformat_minor": 0,
  "metadata": {
    "colab": {
      "name": "1- Python Basics.ipynb",
      "provenance": [],
      "collapsed_sections": [
        "EFg25iKI5mQ3"
      ],
      "toc_visible": true
    },
    "kernelspec": {
      "display_name": "Python 3",
      "language": "python",
      "name": "python3"
    },
    "language_info": {
      "codemirror_mode": {
        "name": "ipython",
        "version": 3
      },
      "file_extension": ".py",
      "mimetype": "text/x-python",
      "name": "python",
      "nbconvert_exporter": "python",
      "pygments_lexer": "ipython3",
      "version": "3.7.9-final"
    }
  },
  "cells": [
    {
      "cell_type": "markdown",
      "metadata": {
        "id": "AaMscQHVKFfw"
      },
      "source": [
        "[![Open In Colab](https://colab.research.google.com/assets/colab-badge.svg)](https://colab.research.google.com/github/mthd98/the-khana/blob/main/W1/1-Python_Basics.ipynb)\n"
      ]
    },
    {
      "cell_type": "markdown",
      "metadata": {
        "id": "vlUfZR5I5mPb"
      },
      "source": [
        "## The Python Interpreter\n",
        "<a id='interpreter'></a>\n",
        "\n",
        "Excecution of Python programs is often performed by an **interpreter**, meaning that program statements are converted to machine executable code at **runtime** (i.e., when the program is actually run) as opposed to **compiled** into executable code before it is run by the end user. This is one of the primary ways we'll interact with Python, especially at first. We'll type some Python code and then hit the `Enter` key. This causes the code to be translated and executed. \n",
        "\n",
        "Interpretation allows great flexibility (interpreted programs can modify their source code at run time), but it's often the case that interpreted programs run much more slowly than their compiled counterparts. It's also often more difficult to find errors in interpreted programs. \n",
        "\n",
        "We can interact with the Python interpreter via a prompt, which looks something like the following.\n",
        "\n",
        "    (base) C:\\Users\\nimda>python\n",
        "    Python 3.6.4 |Anaconda, Inc.| (default, Jan 16 2018, 10:22:32) [MSC v.190064 bit (AMD64)] on win32\n",
        "    Type \"help\", \"copyright\", \"credits\" or \"license\" for more information.\n",
        "    >>> print(\"Hello World\") # note: this will print something to the screen. \n",
        "    Hello World\n",
        "    >>>\n",
        "\n",
        "Above, the `print` function prints out a string representation of the argument. The `#` denotes a comment, and the interpreter skips anything on the line after it (that is, it won't try to interpret anything after the `#`). \n",
        "\n",
        "Of course, we can save Python code into a program file and execute it later, too. \n",
        "\n",
        "\n",
        "### Jupyter Notebooks\n",
        "\n",
        "We'll also interact with Python using Jupyter Notebooks (like this one). When we hit `Run` in the menu bar, we are performing an action analogous to hitting enter from a command prompt. The code in the active cell will be executed. Users should be aware that though we are intereacting with a Web page, there is a Web server and Python enviroment running behind the scenes. This adds a later of complexity, but the ability to mix well-formatted documentation and code makes using Jupyter Notebook worthwhile.\n",
        "\n",
        "\n",
        "<a id='variables'></a>\n",
        "## Python Identifiers and Variables\n",
        "\n",
        "### Identifiers\n",
        "\n",
        "An **identifier** in Python is a word (a string) used to identify a variable, function, class, etc. in a Python program. It can be thought of as a proper name. Identifiers start with a letter (a-Z) or an underscore `_`; this first character is followed by a sequence of letters numbers, and underscores.\n",
        "\n",
        "Certain identifiers, such as `class` or `if` are builtin keywords and cannot be redefined by users. \n",
        "\n",
        "### Variables\n",
        "\n",
        "As in most programming languages, **variables** play a central role in Python. We need a way to store and refer to data in our programs, and variables are the primary way to do this.  Specifically, we assign data values variables using the `=`. After the assignment has been made, we may use the variable to access the data as many times as we like. \n",
        "\n",
        "In general, the righthand side of an assignment is evaluated first (e.g., 1+1 is evaluated to 2), and afterwards the result is stored in the variable specified on the left. That explains why the last line below results in a value of 6 being printed. On evaluation of the righthand side, the current value of `blue_fish` (3) is added to itself, and the resulting value is assigned to `blue_fish`, overwriting the 3."
      ]
    },
    {
      "cell_type": "code",
      "metadata": {
        "colab": {
          "base_uri": "https://localhost:8080/"
        },
        "id": "GSijsPFT5mPg",
        "pycharm": {
          "is_executing": false
        },
        "outputId": "9626ff80-90bd-46a4-d578-013b3c5fa8db"
      },
      "source": [
        "one_fish = 1\n",
        "two_fish = one_fish + 1\n",
        "blue_fish = one_fish + two_fish\n",
        "print(one_fish)\n",
        "print(two_fish)\n",
        "print(blue_fish)\n",
        "blue_fish = blue_fish + blue_fish\n",
        "print(blue_fish)"
      ],
      "execution_count": null,
      "outputs": [
        {
          "output_type": "stream",
          "text": [
            "1\n",
            "2\n",
            "3\n",
            "6\n"
          ],
          "name": "stdout"
        }
      ]
    },
    {
      "cell_type": "markdown",
      "metadata": {
        "id": "OF_xwiDK5mPo"
      },
      "source": [
        "### Dynamic Typing\n",
        "\n",
        "Note that no data type (e.g., integer, string) is specified in an assignment, even the first time a variable is used. In general, variables and types are *not* declared in Python before a value is assigned. Python is said to be a **dynamically typed** language. \n",
        "\n",
        "The below code is perfectly fine in Python, but assigning a number and then a string in another lanauge such as Java would cause an error."
      ]
    },
    {
      "cell_type": "code",
      "metadata": {
        "id": "pCLOdJea5mPp",
        "pycharm": {
          "is_executing": false
        },
        "colab": {
          "base_uri": "https://localhost:8080/"
        },
        "outputId": "71e027a1-a087-4d7a-90e9-876774cc3705"
      },
      "source": [
        "a = 1\n",
        "print(a)\n",
        "a = \"hello\"\n",
        "print(a)"
      ],
      "execution_count": null,
      "outputs": [
        {
          "output_type": "stream",
          "text": [
            "1\n",
            "hello\n"
          ],
          "name": "stdout"
        }
      ]
    },
    {
      "cell_type": "markdown",
      "metadata": {
        "id": "cawiwz685mPw"
      },
      "source": [
        "## Data Types\n",
        "<a id='datatypes'></a>\n",
        "\n",
        "As in most programming languages, each data value in a Python program has a **data type** (even though we typically don't specify it). We'll discuss some of the datatypes here. \n",
        "\n",
        "For a given data value, we can get its type using the `type` function, which takes an argument. The below print expressions show several of the built-in data types (and how literal values are parsed by default). "
      ]
    },
    {
      "cell_type": "code",
      "metadata": {
        "id": "4RUfCH9A5mPw",
        "pycharm": {
          "is_executing": false
        },
        "colab": {
          "base_uri": "https://localhost:8080/"
        },
        "outputId": "55785984-b4ba-4854-e39b-a1efb25fb3a0"
      },
      "source": [
        "print(type(1))  # an integer\n",
        "print(type(2.0)) # a float\n",
        "print(type(\"hi!\")) # a string\n",
        "print(type(True)) # a boolean value \n",
        "print(type([1,2,3,4,5])) # a list (a mutable collection)\n",
        "print(type((1,2,3,4,5))) # a tuple (an immutable collection)\n",
        "print(type({\"fname\":\"john\", \"lname\":\"doe\"})) # a dictionary (a collection of key-value pairs)"
      ],
      "execution_count": null,
      "outputs": [
        {
          "output_type": "stream",
          "text": [
            "<class 'int'>\n",
            "<class 'float'>\n",
            "<class 'str'>\n",
            "<class 'bool'>\n",
            "<class 'list'>\n",
            "<class 'tuple'>\n",
            "<class 'dict'>\n"
          ],
          "name": "stdout"
        }
      ]
    },
    {
      "cell_type": "markdown",
      "metadata": {
        "id": "MU1GP1vi5mP3"
      },
      "source": [
        "<a id='numbers'></a>\n",
        "### Numbers\n",
        "\n",
        "The basic numerical data types of python are:\n",
        "*  `int` (integer values), \n",
        "*  `float` (floating point numbers), and \n",
        "*  `complex` (complex numbers). "
      ]
    },
    {
      "cell_type": "code",
      "metadata": {
        "id": "s7nIy4hq5mP4",
        "pycharm": {
          "is_executing": false
        },
        "colab": {
          "base_uri": "https://localhost:8080/"
        },
        "outputId": "2a0de420-ca4e-4a03-cc1c-8bfe88accbc8"
      },
      "source": [
        "x = 1\n",
        "y = 1.0\n",
        "z = 1 + 2j\n",
        "w = 1E10\n",
        "v = 1.\n",
        "u = 2j\n",
        "print(type(x), \": \", x)\n",
        "print(type(y), \": \", y)\n",
        "print(type(z), \": \", z)\n",
        "print(type(w), \": \", w)\n",
        "print(type(u), \": \", v)\n",
        "print(type(u), \": \", u)\n"
      ],
      "execution_count": null,
      "outputs": [
        {
          "output_type": "stream",
          "text": [
            "<class 'int'> :  1\n",
            "<class 'float'> :  1.0\n",
            "<class 'complex'> :  (1+2j)\n",
            "<class 'float'> :  10000000000.0\n",
            "<class 'complex'> :  1.0\n",
            "<class 'complex'> :  2j\n"
          ],
          "name": "stdout"
        }
      ]
    },
    {
      "cell_type": "markdown",
      "metadata": {
        "id": "UeKvxBCX5mP_"
      },
      "source": [
        "In general, a number written as a simply integer will, unsurprisingly, be interpreted in Python as an `int`.\n",
        "\n",
        "Numbers written using a `.` or scientific notation are interpreted as floats. Numbers written using `j` are interpreted as complex numbers.\n",
        "\n",
        "**NOTE**: Unlike some other languages, Python 3 does not have minimum or maxium integer values (Python 2 does, however). \n",
        "\n",
        "<a id='arithmetic'></a>\n",
        "### Arithmetic\n",
        "\n",
        "The arithmetic operations available in most languages are also present in Python (with a default precedence on operations). "
      ]
    },
    {
      "cell_type": "code",
      "metadata": {
        "id": "ytoO_HRO5mQA",
        "pycharm": {
          "is_executing": false
        },
        "colab": {
          "base_uri": "https://localhost:8080/"
        },
        "outputId": "33791168-8c3b-4c14-c240-51173664dc5f"
      },
      "source": [
        "1+3-(3-2) # simple addition and subtraction"
      ],
      "execution_count": null,
      "outputs": [
        {
          "output_type": "execute_result",
          "data": {
            "text/plain": [
              "3"
            ]
          },
          "metadata": {
            "tags": []
          },
          "execution_count": 5
        }
      ]
    },
    {
      "cell_type": "code",
      "metadata": {
        "id": "JTqqhkAN5mQF",
        "pycharm": {
          "is_executing": false
        },
        "scrolled": false,
        "colab": {
          "base_uri": "https://localhost:8080/"
        },
        "outputId": "b8d69404-a708-422a-cde4-72bb612985fb"
      },
      "source": [
        "4*2.0 # multiplication of an int and a float (yields a float)"
      ],
      "execution_count": null,
      "outputs": [
        {
          "output_type": "execute_result",
          "data": {
            "text/plain": [
              "8.0"
            ]
          },
          "metadata": {
            "tags": []
          },
          "execution_count": 6
        }
      ]
    },
    {
      "cell_type": "code",
      "metadata": {
        "id": "X4ZAefJz5mQL",
        "pycharm": {
          "is_executing": false
        },
        "colab": {
          "base_uri": "https://localhost:8080/"
        },
        "outputId": "024f3404-b748-4838-e2f5-3ea524d53163"
      },
      "source": [
        "5/2 # floating point division"
      ],
      "execution_count": null,
      "outputs": [
        {
          "output_type": "execute_result",
          "data": {
            "text/plain": [
              "2.5"
            ]
          },
          "metadata": {
            "tags": []
          },
          "execution_count": 7
        }
      ]
    },
    {
      "cell_type": "code",
      "metadata": {
        "id": "kkqR6pyv5mQQ",
        "pycharm": {
          "is_executing": false
        },
        "colab": {
          "base_uri": "https://localhost:8080/"
        },
        "outputId": "30b5dcef-d6a0-43fb-89bf-0033b3be2eb5"
      },
      "source": [
        "print(5.6//2) # integer division\n",
        "print(type(5.6//2))"
      ],
      "execution_count": null,
      "outputs": [
        {
          "output_type": "stream",
          "text": [
            "2.0\n",
            "<class 'float'>\n"
          ],
          "name": "stdout"
        }
      ]
    },
    {
      "cell_type": "code",
      "metadata": {
        "id": "MI5Ylv_u5mQV",
        "pycharm": {
          "is_executing": false
        },
        "colab": {
          "base_uri": "https://localhost:8080/"
        },
        "outputId": "20728af7-bd40-4071-8a14-6b16d54e2cb1"
      },
      "source": [
        "5 % 2 # modulo operator (straightforwardly, the integer remainder of 5/2)"
      ],
      "execution_count": null,
      "outputs": [
        {
          "output_type": "execute_result",
          "data": {
            "text/plain": [
              "1"
            ]
          },
          "metadata": {
            "tags": []
          },
          "execution_count": 9
        }
      ]
    },
    {
      "cell_type": "code",
      "metadata": {
        "id": "on5weYPq5mQa",
        "pycharm": {
          "is_executing": false
        },
        "colab": {
          "base_uri": "https://localhost:8080/"
        },
        "outputId": "2897e76c-3e36-4801-80e1-eaa5e30656ea"
      },
      "source": [
        "2 % -5 # (not so intuitive if negative numbers are involved)"
      ],
      "execution_count": null,
      "outputs": [
        {
          "output_type": "execute_result",
          "data": {
            "text/plain": [
              "-3"
            ]
          },
          "metadata": {
            "tags": []
          },
          "execution_count": 10
        }
      ]
    },
    {
      "cell_type": "code",
      "metadata": {
        "id": "mFAqQRpu5mQg",
        "pycharm": {
          "is_executing": false
        },
        "colab": {
          "base_uri": "https://localhost:8080/"
        },
        "outputId": "39b5e581-dd09-401e-efd8-3a49312c2892"
      },
      "source": [
        "2**4 # exponentiation"
      ],
      "execution_count": null,
      "outputs": [
        {
          "output_type": "execute_result",
          "data": {
            "text/plain": [
              "16"
            ]
          },
          "metadata": {
            "tags": []
          },
          "execution_count": 11
        }
      ]
    },
    {
      "cell_type": "markdown",
      "metadata": {
        "id": "9EeC0NMT5mQm"
      },
      "source": [
        "### Data Type of results\n",
        "\n",
        "When two numbers of different types are used in an arithmetic operation, the data type is usually what one would expect, but there are some cases where it's different than either operand. For instance, though 5 and 2 are both integers, the result of `5/2` is a `float`, and the result of `5.2//2` (integer division) is a float. "
      ]
    },
    {
      "cell_type": "markdown",
      "metadata": {
        "id": "085YrXK45mQn"
      },
      "source": [
        "### Strings\n",
        "<a id='strings'></a>\n",
        "Strings in Python (datatype `str`) can be enclosed in single (`'`) or double (`\"`) quotes. It doesn't matter which is used, but the opening and closing marks must be of the same type. The backslash `\\` is used to escape quotes in a string as well as to indicate other escape characters (e.g., `\\n` indicates a new line). Upon printing, the string is formatted appropriately. "
      ]
    },
    {
      "cell_type": "code",
      "metadata": {
        "id": "cBcNDZT_5mQo",
        "pycharm": {
          "is_executing": false
        },
        "colab": {
          "base_uri": "https://localhost:8080/"
        },
        "outputId": "43840669-9a03-493c-e829-ebdd9a5d4a24"
      },
      "source": [
        "print(\"This is a string\")\n",
        "print('this is a string containing \"quotes\"')\n",
        "print(\"this is another string containing \\\"quotes\\\"\")\n",
        "print(\"this is string\\nhas two lines\")"
      ],
      "execution_count": null,
      "outputs": [
        {
          "output_type": "stream",
          "text": [
            "This is a string\n",
            "this is a string containing \"quotes\"\n",
            "this is another string containing \"quotes\"\n",
            "this is string\n",
            "has two lines\n"
          ],
          "name": "stdout"
        }
      ]
    },
    {
      "cell_type": "markdown",
      "metadata": {
        "id": "nGOg3lIX5mQt"
      },
      "source": [
        "To prevent processing of escape characters, you can use indicate a *raw* string by putting an `r` before the string. "
      ]
    },
    {
      "cell_type": "code",
      "metadata": {
        "id": "gLeRn9c75mQu",
        "pycharm": {
          "is_executing": false
        },
        "colab": {
          "base_uri": "https://localhost:8080/"
        },
        "outputId": "76ce34dc-3b8a-4d86-9167-353b1b0ef048"
      },
      "source": [
        "print(r\"this is string \\n has only one line\")"
      ],
      "execution_count": null,
      "outputs": [
        {
          "output_type": "stream",
          "text": [
            "this is string \\n has only one line\n"
          ],
          "name": "stdout"
        }
      ]
    },
    {
      "cell_type": "markdown",
      "metadata": {
        "id": "x0pJwehS5mQy"
      },
      "source": [
        "#### Multiline Strings\n",
        "Multiline strings can be delineated using 3 quotes. If you do not wish to include a line end in the output, you can end the line with `\\`."
      ]
    },
    {
      "cell_type": "code",
      "metadata": {
        "id": "JSJmAq_n5mQz",
        "pycharm": {
          "is_executing": false
        },
        "colab": {
          "base_uri": "https://localhost:8080/"
        },
        "outputId": "f41da3df-8315-495f-d9a0-c1983ecdae12"
      },
      "source": [
        "print(\"\"\"Line 1\n",
        "Line 2\n",
        "Line 3\\\n",
        "Line 3 continued\"\"\")"
      ],
      "execution_count": null,
      "outputs": [
        {
          "output_type": "stream",
          "text": [
            "Line 1\n",
            "Line 2\n",
            "Line 3Line 3 continued\n"
          ],
          "name": "stdout"
        }
      ]
    },
    {
      "cell_type": "markdown",
      "metadata": {
        "id": "EFg25iKI5mQ3"
      },
      "source": [
        "#### String Concatenation \n",
        "Strings can be concatenated. You must be careful when trying to concatenate other types to a string, however. They must be \n",
        "converted to strings first using `str()`. "
      ]
    },
    {
      "cell_type": "code",
      "metadata": {
        "id": "rUTCbY-D5mQ4",
        "pycharm": {
          "is_executing": false
        },
        "colab": {
          "base_uri": "https://localhost:8080/"
        },
        "outputId": "ffa9783e-949b-422a-c264-7e893776b16e"
      },
      "source": [
        "print(\"This\" + \" line contains \" + str(4) + \" components\")\n",
        "print(\"Here are some things converted to strings: \" + str(2.3) + \", \" + str(True) + \", \" + str((1,2)))"
      ],
      "execution_count": null,
      "outputs": [
        {
          "output_type": "stream",
          "text": [
            "This line contains 4 components\n",
            "Here are some things converted to strings: 2.3, True, (1, 2)\n"
          ],
          "name": "stdout"
        }
      ]
    },
    {
      "cell_type": "markdown",
      "metadata": {
        "id": "59xM_wtn5mQ8"
      },
      "source": [
        "`print` can take an arbitrary number of arguments. Leveraging this eliminates the need to explicitly convert data values to strings (because we're no longer attempting to concatenate strings)."
      ]
    },
    {
      "cell_type": "code",
      "metadata": {
        "id": "RtMCkSM35mQ9",
        "pycharm": {
          "is_executing": false
        },
        "colab": {
          "base_uri": "https://localhost:8080/"
        },
        "outputId": "4e922a9d-3a61-410f-e6ce-5e1d8a60821b"
      },
      "source": [
        "print(\"This\" , \"line contains\" , 4, \"components\")\n",
        "print(\"Here are some things converted to strings:\", 2.3, \",\", True, \",\", (1,2))"
      ],
      "execution_count": null,
      "outputs": [
        {
          "output_type": "stream",
          "text": [
            "This line contains 4 components\n",
            "Here are some things converted to strings: 2.3 , True , (1, 2)\n"
          ],
          "name": "stdout"
        }
      ]
    },
    {
      "cell_type": "markdown",
      "metadata": {
        "id": "hKx6NZhE5mRB"
      },
      "source": [
        "Note, however, that `print` will by default insert a space between elements. If you wish to change the separator between items (e.g., to `,`) , add `sep=\",\"` as an argument. "
      ]
    },
    {
      "cell_type": "code",
      "metadata": {
        "id": "CK3MnJ_k5mRB",
        "pycharm": {
          "is_executing": false
        },
        "colab": {
          "base_uri": "https://localhost:8080/"
        },
        "outputId": "4d9326f5-5a9b-4a60-908a-7f27c642c797"
      },
      "source": [
        "print(\"This\" , \"line contains\" , 4, \"components\", sep=\"---\")\n",
        "print(\"Here are some things converted to strings:\", 2.3, \",\", True, \",\", (1,2),sep=\"---\")"
      ],
      "execution_count": null,
      "outputs": [
        {
          "output_type": "stream",
          "text": [
            "This---line contains---4---components\n",
            "Here are some things converted to strings:---2.3---,---True---,---(1, 2)\n"
          ],
          "name": "stdout"
        }
      ]
    },
    {
      "cell_type": "markdown",
      "metadata": {
        "id": "f47-8VYu5mRG"
      },
      "source": [
        "You can also create a string from another string by *multiplying* it with a number"
      ]
    },
    {
      "cell_type": "code",
      "metadata": {
        "id": "zrtiQnD45mRG",
        "pycharm": {
          "is_executing": false
        },
        "colab": {
          "base_uri": "https://localhost:8080/"
        },
        "outputId": "dd02c0a9-f676-4ebc-b012-09b202a9aca0"
      },
      "source": [
        "word1 = \"abba\"\n",
        "word2 = 3*word1\n",
        "print(word2)"
      ],
      "execution_count": null,
      "outputs": [
        {
          "output_type": "stream",
          "text": [
            "abbaabbaabba\n"
          ],
          "name": "stdout"
        }
      ]
    },
    {
      "cell_type": "markdown",
      "metadata": {
        "id": "R1fkdiDo5mRL"
      },
      "source": [
        "Also, if multiple **string literals** (as opposed to variables or string expressions) appear consecutively, they will be combined into one string.  "
      ]
    },
    {
      "cell_type": "code",
      "metadata": {
        "id": "m-iFgnrj5mRL",
        "pycharm": {
          "is_executing": false
        },
        "colab": {
          "base_uri": "https://localhost:8080/"
        },
        "outputId": "026db47d-d67b-4e88-dc64-1cf53a1b242e"
      },
      "source": [
        "a = \"this \" \"is \" \"the \" \"way \" \"the \" \"world \" \"ends.\"\n",
        "print(a)\n",
        "print(type(a))\n",
        "a = \"this \",\"is \", \"the \", \"way \", \"the \", \"world \", \"ends.\"\n",
        "print(a)\n",
        "print(type(a))\n"
      ],
      "execution_count": null,
      "outputs": [
        {
          "output_type": "stream",
          "text": [
            "this is the way the world ends.\n",
            "<class 'str'>\n",
            "('this ', 'is ', 'the ', 'way ', 'the ', 'world ', 'ends.')\n",
            "<class 'tuple'>\n"
          ],
          "name": "stdout"
        }
      ]
    },
    {
      "cell_type": "markdown",
      "metadata": {
        "id": "R458fAKX5mRQ"
      },
      "source": [
        "#### Substrings: Indexing and Slicing\n",
        "\n",
        "A character of a string can be extracted using an index (starting at 0), and a substring can be extracted using **slices**. Slices indicate a range of indexes. The notation is similar to that used for arrays in other languages.\n",
        "\n",
        "It also happens that indexing from the right (staring at -1) is possible. "
      ]
    },
    {
      "cell_type": "code",
      "metadata": {
        "id": "gKf3Zxlp5mRQ",
        "pycharm": {
          "is_executing": false
        },
        "colab": {
          "base_uri": "https://localhost:8080/"
        },
        "outputId": "11a7af61-746e-4e2a-9350-044124af8607"
      },
      "source": [
        "string1 = \"this is the way the world ends.\"\n",
        "print(string1[12]) # the substring at index 12 (1 character).\n",
        "print(string1[0:4]) # from the start of the string to index 4 (but 4 is excluded).\n",
        "print(string1[5:]) # from index 5 to the end of the string.  \n",
        "print(string1[:4]) # from the start of the string to index 4 (exclusive).\n",
        "print(string1[-1]) # The last character of the string. \n",
        "print(string1[-5:-1]) # from index -5 to -1 (but excluding -1).\n",
        "print(string1[-5:]) # from index -5 to the end of the string."
      ],
      "execution_count": null,
      "outputs": [
        {
          "output_type": "stream",
          "text": [
            "w\n",
            "this\n",
            "is the way the world ends.\n",
            "this\n",
            ".\n",
            "ends\n",
            "ends.\n"
          ],
          "name": "stdout"
        }
      ]
    },
    {
      "cell_type": "markdown",
      "metadata": {
        "id": "rqdIy7sd5mRX"
      },
      "source": [
        "**NOTE**: Strings are **immutable**. We cannot reassign a character or sequence in a string as we might assign values to an array in some other programming languages. When the below code is executed, an exception (error) will be raised. "
      ]
    },
    {
      "cell_type": "code",
      "metadata": {
        "id": "aDs9bxzX5mRY",
        "pycharm": {
          "is_executing": false
        }
      },
      "source": [
        "a = \"abc\""
      ],
      "execution_count": null,
      "outputs": []
    },
    {
      "cell_type": "code",
      "metadata": {
        "id": "hiOzpINo5mRb",
        "pycharm": {
          "is_executing": false
        },
        "colab": {
          "base_uri": "https://localhost:8080/",
          "height": 162
        },
        "outputId": "72baaa87-c8cf-4c99-ff9e-aed565fd3b16"
      },
      "source": [
        "a[0] = \"b\" # this will raise an exception.\n"
      ],
      "execution_count": null,
      "outputs": [
        {
          "output_type": "error",
          "ename": "TypeError",
          "evalue": "ignored",
          "traceback": [
            "\u001b[0;31m---------------------------------------------------------------------------\u001b[0m",
            "\u001b[0;31mTypeError\u001b[0m                                 Traceback (most recent call last)",
            "\u001b[0;32m<ipython-input-22-4da7dae318af>\u001b[0m in \u001b[0;36m<module>\u001b[0;34m()\u001b[0m\n\u001b[0;32m----> 1\u001b[0;31m \u001b[0ma\u001b[0m\u001b[0;34m[\u001b[0m\u001b[0;36m0\u001b[0m\u001b[0;34m]\u001b[0m \u001b[0;34m=\u001b[0m \u001b[0;34m\"b\"\u001b[0m \u001b[0;31m# this will raise an exception.\u001b[0m\u001b[0;34m\u001b[0m\u001b[0;34m\u001b[0m\u001b[0m\n\u001b[0m",
            "\u001b[0;31mTypeError\u001b[0m: 'str' object does not support item assignment"
          ]
        }
      ]
    },
    {
      "cell_type": "markdown",
      "metadata": {
        "id": "IPJ2uPbp5mRf"
      },
      "source": [
        "#### Splitting and Joining Strings\n",
        "\n",
        "It's often the case that we want to split strings into multiple substrings, e.g., when reading a comma-delimited list of values. The `split` method of a string does just that. It retuns a list object (lists are covered later). \n",
        "\n",
        "To combine strings using a delimeter (e.g., to create a comma-delimited list), we can use `join`. "
      ]
    },
    {
      "cell_type": "code",
      "metadata": {
        "id": "2oNgBBMi5mRg",
        "pycharm": {
          "is_executing": false
        },
        "colab": {
          "base_uri": "https://localhost:8080/"
        },
        "outputId": "390df685-1da3-47a2-a430-618aa7446f1f"
      },
      "source": [
        "text = \"The quick brown fox jumped over the lazy dog\"\n",
        "spl = text.split() # This returns a list of strings (lists are covered later)\n",
        "print(spl)\n",
        "joined = \",\".join(spl)\n",
        "print(joined) # and this re-joins them, separating words with commas \n",
        "spl = joined.split(\",\") # and this re-splits them, again based on commas\n",
        "print(spl)\n",
        "joined = \"-\".join(spl) # and this re-joins them, separating words with dashes \n",
        "print(joined) \n"
      ],
      "execution_count": null,
      "outputs": [
        {
          "output_type": "stream",
          "text": [
            "['The', 'quick', 'brown', 'fox', 'jumped', 'over', 'the', 'lazy', 'dog']\n",
            "The,quick,brown,fox,jumped,over,the,lazy,dog\n",
            "['The', 'quick', 'brown', 'fox', 'jumped', 'over', 'the', 'lazy', 'dog']\n",
            "The-quick-brown-fox-jumped-over-the-lazy-dog\n"
          ],
          "name": "stdout"
        }
      ]
    },
    {
      "cell_type": "markdown",
      "metadata": {
        "id": "6ZE6Ecsi5mRj"
      },
      "source": [
        "Similarly, to split a multiline string into a list of lines (each a string), we can use `splitlines`. "
      ]
    },
    {
      "cell_type": "code",
      "metadata": {
        "id": "Y7lMLwRn5mRj",
        "pycharm": {
          "is_executing": false
        },
        "colab": {
          "base_uri": "https://localhost:8080/"
        },
        "outputId": "e0789b3f-fd38-4893-b4e0-ed744925f03a"
      },
      "source": [
        "lines = \"\"\"one\n",
        "two\n",
        "three\"\"\"\n",
        "li = lines.splitlines();\n",
        "print(li)"
      ],
      "execution_count": null,
      "outputs": [
        {
          "output_type": "stream",
          "text": [
            "['one', 'two', 'three']\n"
          ],
          "name": "stdout"
        }
      ]
    },
    {
      "cell_type": "markdown",
      "metadata": {
        "id": "lbmPxz1Y5mRm"
      },
      "source": [
        "To join strings into multiple lines, we can again use `join`. "
      ]
    },
    {
      "cell_type": "code",
      "metadata": {
        "id": "_OyseUqx5mRn",
        "pycharm": {
          "is_executing": false
        },
        "colab": {
          "base_uri": "https://localhost:8080/"
        },
        "outputId": "9585ce82-b07a-4554-f919-072477271fbe"
      },
      "source": [
        "lines = [\"one\", \"two\",\"three\"]\n",
        "data = \"\\n\".join(lines)\n",
        "print(data)"
      ],
      "execution_count": null,
      "outputs": [
        {
          "output_type": "stream",
          "text": [
            "one\n",
            "two\n",
            "three\n"
          ],
          "name": "stdout"
        }
      ]
    },
    {
      "cell_type": "markdown",
      "metadata": {
        "id": "Y-ctZsPD5mRr"
      },
      "source": [
        "<a id='boolean'></a>\n",
        "## Boolean Values, and None\n",
        "\n",
        "Python has two Boolean values, `True` and `False`. The normal logical operations (`and`, `or`, `not`) are present. "
      ]
    },
    {
      "cell_type": "code",
      "metadata": {
        "id": "sO_e9UBP5mRr",
        "pycharm": {
          "is_executing": false
        },
        "colab": {
          "base_uri": "https://localhost:8080/"
        },
        "outputId": "e15bc4d4-2d42-4ced-b649-9d1fda00187f"
      },
      "source": [
        "print(True and False)\n",
        "print(True or False)\n",
        "print(not True)"
      ],
      "execution_count": null,
      "outputs": [
        {
          "output_type": "stream",
          "text": [
            "False\n",
            "True\n",
            "False\n"
          ],
          "name": "stdout"
        }
      ]
    },
    {
      "cell_type": "markdown",
      "metadata": {
        "id": "AeUtrc6E5mRv"
      },
      "source": [
        "There is also the value `None` (the only value of the `NoneType` data type). `None` is used to stand for the absence of a value. However, it can be used in place of False, as can zero numerical values (of any numerical type), empty sequences/collections (`[]`,`()`, `{}`, etc.).  \n",
        "\n",
        "Other values are treated as `True`. Note that Boolean expressions are short-circuited. As soon as the interpreter knows enough to compute the appropriate Boolean value of the expression, it stops further evaluation. Also, the retun value of the Boolean expression need not be a Boolean value, as indicated below. The value of the last item evaluated is returned. "
      ]
    },
    {
      "cell_type": "code",
      "metadata": {
        "id": "-oRQuUp-5mRv",
        "pycharm": {
          "is_executing": false
        },
        "colab": {
          "base_uri": "https://localhost:8080/"
        },
        "outputId": "2ba15bbf-b508-4d5e-eb24-1809bb2ad880"
      },
      "source": [
        "print(1 and True)\n",
        "print(True and 66)\n",
        "print(True and \"aa\")\n",
        "print(False and \"aa\")\n",
        "print(True or {})\n",
        "print(not [])\n",
        "print(True and ())\n"
      ],
      "execution_count": null,
      "outputs": [
        {
          "output_type": "stream",
          "text": [
            "True\n",
            "66\n",
            "aa\n",
            "False\n",
            "True\n",
            "True\n",
            "()\n"
          ],
          "name": "stdout"
        }
      ]
    },
    {
      "cell_type": "markdown",
      "metadata": {
        "id": "BvkHes5x5mRx"
      },
      "source": [
        "<a id='comparisons'></a>\n",
        "## Boolean Comparisons"
      ]
    },
    {
      "cell_type": "markdown",
      "metadata": {
        "id": "xci_UG7I5mRz"
      },
      "source": [
        "There are 8 basic comparison operations in Python.\n",
        "\n",
        "\n",
        "|  Symbol | Note | \n",
        "| --- | --- |\n",
        "| `<` |  less than | \n",
        "| `<=` | less than or equal to | \n",
        "| `>` | greater than | \n",
        "| `>=` | greater than or equal to | \n",
        "| `==` | equal to | \n",
        "| `!=` | not equal to | \n",
        "| `is` | identical to (for objects) | \n",
        "| `is not` | not identical to (for objects) | \n",
        "\n",
        "\n",
        "Regarding the first 6, these will work as expected for numerical values. Note, however, that they can be applied to other datatypes as well. Strings are compared on a character-by-character basis, based on a lexicographic ordering. Sequences such as lists are compared on an element by element basis."
      ]
    },
    {
      "cell_type": "code",
      "metadata": {
        "id": "27NTwjrZ5mRz",
        "pycharm": {
          "is_executing": false
        },
        "colab": {
          "base_uri": "https://localhost:8080/"
        },
        "outputId": "68fe3f7a-af7e-482e-bca0-b5165ead4888"
      },
      "source": [
        "\n",
        "print(\"abc\" > \"ac\")\n",
        "print(\"a\" < \"1\")\n",
        "print(\"A\" < \"a\")\n",
        "print((1,1,2) < (1,1,3))"
      ],
      "execution_count": null,
      "outputs": [
        {
          "output_type": "stream",
          "text": [
            "False\n",
            "False\n",
            "True\n",
            "True\n"
          ],
          "name": "stdout"
        }
      ]
    },
    {
      "cell_type": "markdown",
      "metadata": {
        "id": "Ha1WJefw5mR2"
      },
      "source": [
        "Note that `is` is true only if the two items compared are the *same* object, whereas `==` only checks for eqaulity in a weaker sense. Below, the elements of the two lists `x` and `y` have elements that evaluate as being equal, but the two lists are nevertheless distinct in memory. As such, the first `print` statement should yield `True`, while the second should yield `False`."
      ]
    },
    {
      "cell_type": "code",
      "metadata": {
        "id": "jDpzoBIR5mR2",
        "pycharm": {
          "is_executing": false
        },
        "colab": {
          "base_uri": "https://localhost:8080/"
        },
        "outputId": "a45ac2af-c032-48da-d9bf-fefa564176fa"
      },
      "source": [
        "x = (1,1,2)\n",
        "y = (1,1,2)\n",
        "print(x == y)\n",
        "print(x is y)"
      ],
      "execution_count": null,
      "outputs": [
        {
          "output_type": "stream",
          "text": [
            "True\n",
            "False\n"
          ],
          "name": "stdout"
        }
      ]
    },
    {
      "cell_type": "code",
      "metadata": {
        "id": "fD8yRl0c5mR7",
        "pycharm": {
          "is_executing": false
        },
        "colab": {
          "base_uri": "https://localhost:8080/"
        },
        "outputId": "059f045a-7c15-4efc-d110-9bdf8093c71e"
      },
      "source": [
        "x = \"hello\"\n",
        "y = x\n",
        "a = \"hel\"\n",
        "b = \"lo\"\n",
        "z = a + b\n",
        "w = x[:]\n",
        "print(x)\n",
        "print(y)\n",
        "print(z)\n",
        "print(\"x==y: \", x==y)\n",
        "print(\"x==z: \", x==z)\n",
        "print(\"x is y: \", x is y)\n",
        "print(\"x is z: \", x is z)\n",
        "print(\"x is w: \", x is w)"
      ],
      "execution_count": null,
      "outputs": [
        {
          "output_type": "stream",
          "text": [
            "hello\n",
            "hello\n",
            "hello\n",
            "x==y:  True\n",
            "x==z:  True\n",
            "x is y:  True\n",
            "x is z:  False\n",
            "x is w:  True\n"
          ],
          "name": "stdout"
        }
      ]
    },
    {
      "cell_type": "markdown",
      "metadata": {
        "id": "C4o8c6fY5mR-"
      },
      "source": [
        "### The `id()` function\n",
        "\n",
        "The `id()` function can be used to identify an object in memory. It returns an integer value that is guaranteed to uniquely identify an object for the duration of its existence. "
      ]
    },
    {
      "cell_type": "code",
      "metadata": {
        "id": "mB5Mhnep5mR-",
        "pycharm": {
          "is_executing": false
        },
        "colab": {
          "base_uri": "https://localhost:8080/"
        },
        "outputId": "55f0ba33-e03c-4b96-f9c2-630254cc89c9"
      },
      "source": [
        "print(\"id(x): \", id(x))\n",
        "print(\"id(y): \", id(y))\n",
        "print(\"id(z): \", id(z))\n",
        "print(\"id(w): \", id(w))"
      ],
      "execution_count": null,
      "outputs": [
        {
          "output_type": "stream",
          "text": [
            "id(x):  140539018862384\n",
            "id(y):  140539018862384\n",
            "id(z):  140538951488880\n",
            "id(w):  140539018862384\n"
          ],
          "name": "stdout"
        }
      ]
    },
    {
      "cell_type": "markdown",
      "metadata": {
        "id": "7gc7lEz45mSA"
      },
      "source": [
        "<a id=\"conversions\"></a>\n",
        "## Converting between Types\n",
        "\n",
        "Values of certain data types can be converted to values of other datatypes (actually, a new value of the desired data type is produced). If the conversion cannot take place (becuase the datatypes are incompatible), an exception will be raised."
      ]
    },
    {
      "cell_type": "code",
      "metadata": {
        "id": "qdRO7ryn5mSB",
        "pycharm": {
          "is_executing": false
        },
        "colab": {
          "base_uri": "https://localhost:8080/"
        },
        "outputId": "9ae46061-29bf-4959-830b-21723a7abe27"
      },
      "source": [
        "x = 1\n",
        "s = str(x) # convert x to a string\n",
        "s_int = int(s)\n",
        "s_float = float(s)\n",
        "s_comp = complex(s)\n",
        "x_float  = float(x)\n",
        "\n",
        "print(s) \n",
        "print(s_int) # convert to an integer\n",
        "print(s_float) # convert to a floating point number\n",
        "print(s_comp) # convert to a complext number\n",
        "print(x_float)\n",
        "\n",
        "# Let's check their IDs\n",
        "print(id(x))\n",
        "print(id(s))\n",
        "print(id(s_int))\n",
        "print(id(s_float))\n",
        "print(id(x_float))\n",
        "print(id(int(x_float)))"
      ],
      "execution_count": null,
      "outputs": [
        {
          "output_type": "stream",
          "text": [
            "1\n",
            "1\n",
            "1.0\n",
            "(1+0j)\n",
            "1.0\n",
            "93926537898496\n",
            "140538951529264\n",
            "93926537898496\n",
            "140538952028656\n",
            "140538952028464\n",
            "93926537898496\n"
          ],
          "name": "stdout"
        }
      ]
    },
    {
      "cell_type": "markdown",
      "metadata": {
        "id": "k5Z8nEadkb9d"
      },
      "source": [
        "# Lists,Tuples, Sets, and Dictionaries\n",
        "\n",
        "\n",
        "<h2 id=\"tocheading\">Table of Contents</h2>\n",
        "<div id=\"toc\"></div>"
      ]
    },
    {
      "cell_type": "markdown",
      "metadata": {
        "id": "wcSsrn1Ckb9e"
      },
      "source": [
        "<a id='lists'></a>\n",
        "## Lists \n",
        "\n",
        "Many languages (e.g., Java) have what are often called **arrays**. In Python the object most like them are called **lists**. Like arrays in other languages, Python lists are represented syntactically using `[...]` blocks. Their elements can be referenced via indexes, and just like arrays in other languages, Python lists are **mutable** objects. That is, it is possible to change the value of an individual cell in a list.  In this way, Python lists are unlike Python strings (which are immutable). "
      ]
    },
    {
      "cell_type": "code",
      "metadata": {
        "id": "qpnmbfIdkb9f",
        "colab": {
          "base_uri": "https://localhost:8080/"
        },
        "outputId": "eb510433-9e1c-4f18-8b61-9ab9d385f3de"
      },
      "source": [
        "a = [0, 1, 2, 3] #  a list of integers\n",
        "print(a)\n",
        "a[0] = 3 # overwrite the first element of the list\n",
        "print(a)\n",
        "a[1:3] = [4,5]; #overwrite the last two elements of the list (using values from a new list)\n",
        "print(a)"
      ],
      "execution_count": null,
      "outputs": [
        {
          "output_type": "stream",
          "text": [
            "[0, 1, 2, 3]\n",
            "[3, 1, 2, 3]\n",
            "[3, 4, 5, 3]\n"
          ],
          "name": "stdout"
        }
      ]
    },
    {
      "cell_type": "markdown",
      "metadata": {
        "id": "o2purc_jkb9f"
      },
      "source": [
        "Note that some operations on lists return other lists. "
      ]
    },
    {
      "cell_type": "code",
      "metadata": {
        "id": "dICizTkNkb9g",
        "colab": {
          "base_uri": "https://localhost:8080/"
        },
        "outputId": "ab3dbe5d-b52c-424f-fe5d-434d509acc97"
      },
      "source": [
        "a = [1,2,3]\n",
        "b = [4,5,6]\n",
        "c = a + b  \n",
        "print(a)\n",
        "print(b)\n",
        "print(c)\n",
        "print(\"-\"*25)\n",
        "c[0] = 10\n",
        "b[0] = 40\n",
        "print(a)\n",
        "print(b)\n",
        "print(c)"
      ],
      "execution_count": null,
      "outputs": [
        {
          "output_type": "stream",
          "text": [
            "[1, 2, 3]\n",
            "[4, 5, 6]\n",
            "[1, 2, 3, 4, 5, 6]\n",
            "-------------------------\n",
            "[1, 2, 3]\n",
            "[40, 5, 6]\n",
            "[10, 2, 3, 4, 5, 6]\n"
          ],
          "name": "stdout"
        }
      ]
    },
    {
      "cell_type": "markdown",
      "metadata": {
        "id": "9eWWXkVfkb9g"
      },
      "source": [
        "Above, `c` is a new list containing elements copied from `a` and `b`. Subsequent changes to `a` or `b` do not affect `c`, and changes to `c` do not affect `a` or `b`. \n",
        "\n",
        "The length of a list can be obtained using `len()`, and a single element can be added to a list using `append()`. Note the syntax used for each. "
      ]
    },
    {
      "cell_type": "code",
      "metadata": {
        "id": "dmbAQjgpkb9g",
        "colab": {
          "base_uri": "https://localhost:8080/"
        },
        "outputId": "b665ce37-8bce-4241-c63f-cf459c8c7f9e"
      },
      "source": [
        "a = []\n",
        "a.append(1) # add an element to the end of the list. \n",
        "a.append(2)\n",
        "a.append([3,4])\n",
        "print(a)\n",
        "print(\"length of 'a': \", len(a))"
      ],
      "execution_count": null,
      "outputs": [
        {
          "output_type": "stream",
          "text": [
            "[1, 2, [3, 4]]\n",
            "length of 'a':  3\n"
          ],
          "name": "stdout"
        }
      ]
    },
    {
      "cell_type": "markdown",
      "metadata": {
        "id": "3_orbl3hkb9h"
      },
      "source": [
        "Some additional list operations are shown below. Pay careful attention to how `a` and `b` are related."
      ]
    },
    {
      "cell_type": "code",
      "metadata": {
        "id": "x9D0_q3ikb9h",
        "colab": {
          "base_uri": "https://localhost:8080/"
        },
        "outputId": "dad0c16e-fc32-4a8e-c54e-1f1d5cda1c7e"
      },
      "source": [
        "a = [10]\n",
        "a.extend([11,12]) # append elements of one list to the end of another one. \n",
        "b = a\n",
        "c = a.copy() # copy the elements of a to a new list, and then assign it to c. \n",
        "b[0] = 20 \n",
        "c[0] = 30\n",
        "print(\"a:\", a)\n",
        "print(\"b:\", b)\n",
        "print(\"c:\", c)"
      ],
      "execution_count": null,
      "outputs": [
        {
          "output_type": "stream",
          "text": [
            "a: [20, 11, 12]\n",
            "b: [20, 11, 12]\n",
            "c: [30, 11, 12]\n"
          ],
          "name": "stdout"
        }
      ]
    },
    {
      "cell_type": "code",
      "metadata": {
        "id": "Hkxo12APkb9i",
        "colab": {
          "base_uri": "https://localhost:8080/"
        },
        "outputId": "6b8020f8-5318-4469-f2eb-34bef02bc2db"
      },
      "source": [
        "b.reverse() # reverse the elements of the list in place. \n",
        "print(\"a reversed:\", a) \n",
        "b.sort()\n",
        "print(\"a sorted:\", a) \n",
        "a.clear() # empty the list\n",
        "print(\"b is \", b, \" having length \", len(b))"
      ],
      "execution_count": null,
      "outputs": [
        {
          "output_type": "stream",
          "text": [
            "a reversed: [12, 11, 20]\n",
            "a sorted: [11, 12, 20]\n",
            "b is  []  having length  0\n"
          ],
          "name": "stdout"
        }
      ]
    },
    {
      "cell_type": "code",
      "metadata": {
        "id": "EdwHnx1Nkb9j",
        "colab": {
          "base_uri": "https://localhost:8080/"
        },
        "outputId": "dcc118c5-5dc7-4c24-8539-91e0924ab296"
      },
      "source": [
        "list1 = [\"a\", \"b\", \"d\", \"e\"]\n",
        "list1.insert(2, \"c\") #insert element \"c\" at position 2, increasing the length by 1. \n",
        "print(list1)\n",
        "e = list1.pop() # remove the last element of the list. \n",
        "print(\"popped: \", e, list1)\n",
        "list1 = [\"d\", \"b\", \"b\", \"c\", \"d\", \"d\", \"a\"]\n",
        "list1.sort() # sort the list\n",
        "print(\"new list, sorted:\", list1)\n",
        "print(\"count of 'd': \", list1.count(\"d\")) # count the number of times \"d\" occurs\n",
        "print(\"first index of 'd': \", list1.index(\"d\")) # return the index of the first occurrence of \"d\"\n",
        "print(list1)\n",
        "del list1[2] # remove the element at index 2\n",
        "print(\"ele at index 2 removed:\", list1)\n",
        "del list1[2:4] # remove the elements from index 2 to 4. \n",
        "print(\"elements at index 2-4 removed:\",list1)"
      ],
      "execution_count": null,
      "outputs": [
        {
          "output_type": "stream",
          "text": [
            "['a', 'b', 'c', 'd', 'e']\n",
            "popped:  e ['a', 'b', 'c', 'd']\n",
            "new list, sorted: ['a', 'b', 'b', 'c', 'd', 'd', 'd']\n",
            "count of 'd':  3\n",
            "first index of 'd':  4\n",
            "['a', 'b', 'b', 'c', 'd', 'd', 'd']\n",
            "ele at index 2 removed: ['a', 'b', 'c', 'd', 'd', 'd']\n",
            "elements at index 2-4 removed: ['a', 'b', 'd', 'd']\n"
          ],
          "name": "stdout"
        }
      ]
    },
    {
      "cell_type": "markdown",
      "metadata": {
        "id": "zvtGlP3ekb9k"
      },
      "source": [
        "<a id='tuples'></a>\n",
        "## Tuples\n",
        "\n",
        "There also exists an immutable counterpart to a list, the **tuple**.  Elements can also be referenced by index, but (as with Python strings) new values cannot be assigned. Unlike a list, Tuples are created using either `(...)` or simply by using a comma-delimeted sequence of 1 or more elements.   "
      ]
    },
    {
      "cell_type": "code",
      "metadata": {
        "id": "9dFd9r4Ckb9k",
        "colab": {
          "base_uri": "https://localhost:8080/"
        },
        "outputId": "da520e2d-6a60-4eaf-d539-90d3552faecd"
      },
      "source": [
        "a = () # the empty tuple\n",
        "b = (1, 2) # a tuple of 2 elements\n",
        "c = 3, 4, 5 # another way of creating a tuple. \n",
        "d = 6, # a singleton tuple\n",
        "e = (7,) # another singleton tuple\n",
        "print(a)\n",
        "print(b)\n",
        "print(c)\n",
        "print(d) \n",
        "print(len(d))\n",
        "print(e)\n",
        "print(b[1])\n"
      ],
      "execution_count": null,
      "outputs": [
        {
          "output_type": "stream",
          "text": [
            "()\n",
            "(1, 2)\n",
            "(3, 4, 5)\n",
            "(6,)\n",
            "1\n",
            "(7,)\n",
            "2\n"
          ],
          "name": "stdout"
        }
      ]
    },
    {
      "cell_type": "markdown",
      "metadata": {
        "id": "rN-8ilbGkb9l"
      },
      "source": [
        "As with lists, we can combine tuples to form new tuples"
      ]
    },
    {
      "cell_type": "code",
      "metadata": {
        "id": "70s6Qu4rkb9l",
        "colab": {
          "base_uri": "https://localhost:8080/"
        },
        "outputId": "507b565e-2fdb-4feb-eeef-cfcc7b6b9d5a"
      },
      "source": [
        "a = (1,2,3,4)\n",
        "b = \"x\", \"y\", \"z\"\n",
        "c = a[0:3] + b\n",
        "print(c)"
      ],
      "execution_count": null,
      "outputs": [
        {
          "output_type": "stream",
          "text": [
            "(1, 2, 3, 'x', 'y', 'z')\n"
          ],
          "name": "stdout"
        }
      ]
    },
    {
      "cell_type": "markdown",
      "metadata": {
        "id": "tp5Q-11Fkb9m"
      },
      "source": [
        "<a id='sets'></a>\n",
        "## Sets\n",
        "\n",
        "Sets, created using `{...}` or `set(...)` in Python, are unordered collections without duplicate elements. If the same element is added again, the set will not change. \n"
      ]
    },
    {
      "cell_type": "code",
      "metadata": {
        "id": "6uz-ey-Fkb9m",
        "colab": {
          "base_uri": "https://localhost:8080/"
        },
        "outputId": "d74d0eca-4bc7-4356-b8ab-401df428a7f5"
      },
      "source": [
        "a = {'a','b', 'c', 'd'} # create a new set containing these elements\n",
        "b = set('hello world') # create a set containing the distinct characters of 'hello world'\n",
        "print(a) \n",
        "print(b)\n",
        "print(a | b) # print the union of a and b. \n",
        "print(a & b) # print the intersection of a and b.\n",
        "print(a - b) # print elements of a not in b\n",
        "print(b - a) # print elements of b not in a.\n",
        "print(b ^ a) # print elements in either but not both."
      ],
      "execution_count": null,
      "outputs": [
        {
          "output_type": "stream",
          "text": [
            "{'a', 'd', 'c', 'b'}\n",
            "{'l', 'r', 'w', 'e', 'd', 'h', ' ', 'o'}\n",
            "{'l', 'b', 'c', 'r', 'w', 'e', 'd', 'h', ' ', 'a', 'o'}\n",
            "{'d'}\n",
            "{'a', 'c', 'b'}\n",
            "{'l', 'r', 'w', 'e', 'h', ' ', 'o'}\n",
            "{'l', 'b', 'c', 'r', 'w', 'e', 'h', ' ', 'a', 'o'}\n"
          ],
          "name": "stdout"
        }
      ]
    },
    {
      "cell_type": "markdown",
      "metadata": {
        "id": "eHjsWZt8kb9n"
      },
      "source": [
        "Given the below, it appears that `==` is used to evaluate membership. "
      ]
    },
    {
      "cell_type": "code",
      "metadata": {
        "id": "YzzOzVEckb9n",
        "colab": {
          "base_uri": "https://localhost:8080/"
        },
        "outputId": "1f8c0183-25d4-464e-bcf8-a16c68a1f086"
      },
      "source": [
        "a = \"hello\"\n",
        "b = \"hel\"\n",
        "c = \"lo\"\n",
        "d = b + c\n",
        "s = {a,b,c,d}\n",
        "print(\"id(a):\", a)\n",
        "print(\"id(d):\", d)\n",
        "print(s)"
      ],
      "execution_count": null,
      "outputs": [
        {
          "output_type": "stream",
          "text": [
            "id(a): hello\n",
            "id(d): hello\n",
            "{'lo', 'hel', 'hello'}\n"
          ],
          "name": "stdout"
        }
      ]
    },
    {
      "cell_type": "markdown",
      "metadata": {
        "id": "z4Ed9ETAkb9o"
      },
      "source": [
        "<a id='dictionaries'></a>\n",
        "## Dictionaries\n",
        "\n",
        "Dictionaries are collections of key-value pairs. A dictionary can be created using `d = {key1:value1, key2:value2, ...}` syntax, or else from 2-ary tuples using `dictionary()`. New key value pairs can be assigned, and old values referenced, using `d[key]`. "
      ]
    },
    {
      "cell_type": "code",
      "metadata": {
        "id": "io8EijEXkb9p",
        "colab": {
          "base_uri": "https://localhost:8080/"
        },
        "outputId": "31aaadd1-337d-4bf5-f817-6589a0cc8c03"
      },
      "source": [
        "employee = {'last':'smth', 'first':'joe'} \n",
        "employee['middle'] = 'william'\n",
        "employee['last'] = 'smith'\n",
        "addr = {} # an empty dictionary\n",
        "addr['number'] = 1234 \n",
        "addr['street'] = \"Elm St\"\n",
        "addr['city'] = \"Athens\"\n",
        "addr['state'] = \"GA\"\n",
        "addr['zip'] = \"30602\"\n",
        "employee[\"address\"] = addr\n",
        "print(employee)\n",
        "keys= list(employee.keys()) # list the keys of 'employee'\n",
        "print(\"keys: \" + str(sorted(keys)))\n",
        "print('last' in keys) # Print whether 'last' is in keys or not (prints True or False)\n",
        "print('lastt' in keys) # Print whether 'lastt' is in keys or not (prints True or False)\n",
        "\n",
        "employee2 = employee.copy() # create a shallow copy of the employee\n",
        "employee2[\"last\"] =\"jones\" \n",
        "employee2[\"address\"][\"street\"] =\"beech\" # reassign the street name of the employee's address. \n",
        "print(employee)\n",
        "print(employee2)"
      ],
      "execution_count": null,
      "outputs": [
        {
          "output_type": "stream",
          "text": [
            "{'last': 'smith', 'first': 'joe', 'middle': 'william', 'address': {'number': 1234, 'street': 'Elm St', 'city': 'Athens', 'state': 'GA', 'zip': '30602'}}\n",
            "keys: ['address', 'first', 'last', 'middle']\n",
            "True\n",
            "False\n",
            "{'last': 'smith', 'first': 'joe', 'middle': 'william', 'address': {'number': 1234, 'street': 'beech', 'city': 'Athens', 'state': 'GA', 'zip': '30602'}}\n",
            "{'last': 'jones', 'first': 'joe', 'middle': 'william', 'address': {'number': 1234, 'street': 'beech', 'city': 'Athens', 'state': 'GA', 'zip': '30602'}}\n"
          ],
          "name": "stdout"
        }
      ]
    },
    {
      "cell_type": "markdown",
      "metadata": {
        "id": "aHw6g8tekb9q"
      },
      "source": [
        "<a id=\"conversions\"></a>\n",
        "## Conversion Between Types"
      ]
    },
    {
      "cell_type": "code",
      "metadata": {
        "id": "OThtYfdEkb9q",
        "colab": {
          "base_uri": "https://localhost:8080/"
        },
        "outputId": "9fb769d0-0f87-45e6-95f7-12977e595b80"
      },
      "source": [
        "y = (1,2,3,1,1)\n",
        "z = list(y) # convert tuple to a list\n",
        "print(y) \n",
        "print(z) \n",
        "print(tuple(z)) # convert z to a tuple\n",
        "print(set(z)) # convert z to a set\n",
        "\n",
        "w = ((\"one\", 1), (\"two\", 2), (\"three\", 3))\n",
        "v = dict(w)\n",
        "print(v)\n",
        "print(tuple(v))\n",
        "print(tuple(v.keys()))\n",
        "print(tuple(v.values()))"
      ],
      "execution_count": null,
      "outputs": [
        {
          "output_type": "stream",
          "text": [
            "(1, 2, 3, 1, 1)\n",
            "[1, 2, 3, 1, 1]\n",
            "(1, 2, 3, 1, 1)\n",
            "{1, 2, 3}\n",
            "{'one': 1, 'two': 2, 'three': 3}\n",
            "('one', 'two', 'three')\n",
            "('one', 'two', 'three')\n",
            "(1, 2, 3)\n"
          ],
          "name": "stdout"
        }
      ]
    },
    {
      "cell_type": "markdown",
      "metadata": {
        "id": "sZWrcBudkxTl"
      },
      "source": [
        "# Functions\n",
        "\n",
        "<h2 id=\"tocheading\">Table of Contents</h2>\n",
        "<div id=\"toc\"></div>"
      ]
    },
    {
      "cell_type": "markdown",
      "metadata": {
        "id": "6YkB94OJkxTm"
      },
      "source": [
        "<a id='basic'></a>\n",
        "## General Syntax of Functions\n",
        "\n",
        "Below is the definition of a small Python **function** that takes two numbers as arguments and returns their squared difference. \n",
        "\n",
        "A function declaration begins with the `def` keyword, followed by the function name and a list of 0 or more arguments enclosed in parentheses. Note a colon `:` follows the argument list.  There is also an optional string that can be used for generating documentation (a *docstring*) This function returns a value (using `return`), but not all functions have explicit return statements.  "
      ]
    },
    {
      "cell_type": "code",
      "metadata": {
        "id": "Sn_aVvxkkxTn"
      },
      "source": [
        "def squared_diff(a, b):\n",
        "    \"\"\"A trivial arithmetic function\"\"\"\n",
        "    temp = (a - b)\n",
        "    return temp*temp"
      ],
      "execution_count": null,
      "outputs": []
    },
    {
      "cell_type": "markdown",
      "metadata": {
        "id": "rgGhK0HakxTn"
      },
      "source": [
        "Once defined, the function can be invoked any number of times. "
      ]
    },
    {
      "cell_type": "code",
      "metadata": {
        "id": "BJWqUZkEkxTn",
        "colab": {
          "base_uri": "https://localhost:8080/"
        },
        "outputId": "03880915-b30d-43af-b4c4-ea05694c12a4"
      },
      "source": [
        "print(squared_diff(5,1))\n",
        "print(squared_diff(3,6))"
      ],
      "execution_count": null,
      "outputs": [
        {
          "output_type": "stream",
          "text": [
            "16\n",
            "9\n"
          ],
          "name": "stdout"
        }
      ]
    },
    {
      "cell_type": "markdown",
      "metadata": {
        "id": "9dAwWBS3kxTo"
      },
      "source": [
        "### Indenting the Function Body\n",
        "\n",
        "Note that the body of the function is indented. This is what separates the function from the rest of the program in which it is defined. More generally, indentation is used to delineate blocks of code. The exact amount of indentation is not important (4 spaces is typical), but it must be the same amount for each line of the block."
      ]
    },
    {
      "cell_type": "markdown",
      "metadata": {
        "id": "crAGKbEgkxTo"
      },
      "source": [
        "Note that a variable (such as `temp` in the above example) first used in the body of a function cannot be accessed outside the scope of the function body. The memory used for `temp` is reclaimed after the function invocation is complete. The same holds for the variables used as arguments. They are *local* to the function invocation. \n",
        "\n",
        "Once defined, the function's name can be used to assign the function to a variable. The variable serves as an alias. "
      ]
    },
    {
      "cell_type": "code",
      "metadata": {
        "id": "PxsnFSKgkxTp",
        "colab": {
          "base_uri": "https://localhost:8080/"
        },
        "outputId": "defc836b-309f-42a6-f4d5-f1c78d89617b"
      },
      "source": [
        "sd = squared_diff\n",
        "print(sd(5,1))"
      ],
      "execution_count": null,
      "outputs": [
        {
          "output_type": "stream",
          "text": [
            "16\n"
          ],
          "name": "stdout"
        }
      ]
    },
    {
      "cell_type": "markdown",
      "metadata": {
        "id": "-4JNR7uzkxTq"
      },
      "source": [
        "A function without a return statement (or an empty one) does in fact return a value, `None`. "
      ]
    },
    {
      "cell_type": "code",
      "metadata": {
        "id": "nAyyN14WkxTq",
        "colab": {
          "base_uri": "https://localhost:8080/"
        },
        "outputId": "0f89a673-003e-44c8-c700-fa7c2bc4e6d6"
      },
      "source": [
        "def trivial():\n",
        "    print(\"How Many?\")\n",
        "print(trivial())"
      ],
      "execution_count": null,
      "outputs": [
        {
          "output_type": "stream",
          "text": [
            "How Many?\n",
            "None\n"
          ],
          "name": "stdout"
        }
      ]
    },
    {
      "cell_type": "markdown",
      "metadata": {
        "id": "DMGz5_YEkxTr"
      },
      "source": [
        "<a id='nesting'></a>\n",
        "## Nested Functions\n",
        "\n",
        "It's possible to define functions within other functions, and even assign the function to a variable (thereby creating an alias for it). In the below example, `outer` actually returns a new function, created from argument `a`. The new function is assigned to `y` and then invoked. "
      ]
    },
    {
      "cell_type": "code",
      "metadata": {
        "id": "Lx2DzNRhkxTr",
        "colab": {
          "base_uri": "https://localhost:8080/"
        },
        "outputId": "2cd89f9d-5469-4c0b-9e9b-a9e34015cdea"
      },
      "source": [
        "def outer(a):\n",
        "    def inner(b): \n",
        "        return a + b\n",
        "    x = inner\n",
        "    return x\n",
        "y = outer(2)\n",
        "print(y(3))"
      ],
      "execution_count": null,
      "outputs": [
        {
          "output_type": "stream",
          "text": [
            "5\n"
          ],
          "name": "stdout"
        }
      ]
    },
    {
      "cell_type": "markdown",
      "metadata": {
        "id": "uN4ZrQfDkxTr"
      },
      "source": [
        "<a id='defaults'></a>\n",
        "## Default Values\n",
        "\n",
        "Functions can be defined to allow a variable number of arguments. One way of doing this is to use default values as indicated below "
      ]
    },
    {
      "cell_type": "code",
      "metadata": {
        "id": "PFhiNxBikxTs",
        "colab": {
          "base_uri": "https://localhost:8080/"
        },
        "outputId": "cd7b42ee-9b10-410f-eb20-31560e0ad2b5"
      },
      "source": [
        "def f1(a=1, b=2, c=3):\n",
        "    return a+b+c;\n",
        "print(f1()) # returns 6\n",
        "print(f1(2)) # returns 7\n",
        "print(f1(1,4)) # returns 8\n",
        "print(f1(3,4,2)) #returns 9 "
      ],
      "execution_count": null,
      "outputs": [
        {
          "output_type": "stream",
          "text": [
            "6\n",
            "7\n",
            "8\n",
            "9\n"
          ],
          "name": "stdout"
        }
      ]
    },
    {
      "cell_type": "markdown",
      "metadata": {
        "id": "kxLL73fMkxTs"
      },
      "source": [
        "The use of compound objects as default values requires special attention. The default value is only evaluated once, at the time the function is defined rather than invoked. And so, it is possible to change the state of the object with successive function invocations.  "
      ]
    },
    {
      "cell_type": "code",
      "metadata": {
        "id": "YJSi00_zkxTt",
        "colab": {
          "base_uri": "https://localhost:8080/"
        },
        "outputId": "d07d01f3-2a23-4a5e-8a20-5b687b35bc5c"
      },
      "source": [
        "def f2(ele, thelist = []):\n",
        "    thelist.append(ele)\n",
        "    return thelist\n",
        "\n",
        "f2(1)\n",
        "f2(2)\n",
        "result = f2(3)\n",
        "print(result)\n",
        "print(f2(4,[]))"
      ],
      "execution_count": null,
      "outputs": [
        {
          "output_type": "stream",
          "text": [
            "[1, 2, 3]\n",
            "[4]\n"
          ],
          "name": "stdout"
        }
      ]
    },
    {
      "cell_type": "markdown",
      "metadata": {
        "id": "2_cwAK9KkxTt"
      },
      "source": [
        "<a id='keywords'></a>\n",
        "## Keyword Arguments\n",
        "\n",
        "Key value pairs can also be used as arguments, both in the definition of the function *and its invocation*. This permits arguments to be referenced by name. When invoked in this fashion, the order of the arguments does not matter. \n",
        "\n",
        "Note that if key-value pairs are only used for some arguments, they must appear *after* all positional arguments. "
      ]
    },
    {
      "cell_type": "code",
      "metadata": {
        "id": "pnwBgk7mkxTt",
        "colab": {
          "base_uri": "https://localhost:8080/"
        },
        "outputId": "65f7aafc-fddd-48c3-a8e2-6551062721e5"
      },
      "source": [
        "def f3(a, b=2, c=3):\n",
        "    print(  ' a = ' + str(a) +\n",
        "            ' b = ' + str(b) +\n",
        "            ' c = ' + str(c))\n",
        "\n",
        "f3(0)\n",
        "f3(3,2,1)\n",
        "f3(b=2,a=1,c=3)\n",
        "f3(4,c=6,b=5)\n"
      ],
      "execution_count": null,
      "outputs": [
        {
          "output_type": "stream",
          "text": [
            " a = 0 b = 2 c = 3\n",
            " a = 3 b = 2 c = 1\n",
            " a = 1 b = 2 c = 3\n",
            " a = 4 b = 5 c = 6\n"
          ],
          "name": "stdout"
        }
      ]
    },
    {
      "cell_type": "markdown",
      "metadata": {
        "id": "FAS0crhykxTu"
      },
      "source": [
        "<a id='variable_arguments'></a>\n",
        "## Variable Argument Lists\n",
        "\n",
        "In a function definition, a formal argument of the form `*variablename` will collect all optional positional arguments and put them into a list. Similarly, a formal argument of the form `**variablename` will collect all optional keyword arguments and put them into a dictionary. "
      ]
    },
    {
      "cell_type": "code",
      "metadata": {
        "id": "LMPIHfZQkxTu",
        "colab": {
          "base_uri": "https://localhost:8080/"
        },
        "outputId": "83197817-bcbb-4e75-a15a-79a3aba4734f"
      },
      "source": [
        "def f4(arg1, arg2, *more_positional_args, c = 10, **keyword_args):\n",
        "    print(arg1)\n",
        "    print(arg2)\n",
        "    print(more_positional_args)\n",
        "    print(c)\n",
        "    print(keyword_args)\n",
        "\n",
        "f4(1,2,3,4,a=5,b=6,c = 7)\n",
        "\n",
        "print('*'*20)\n",
        "x = (1,2,3,4)\n",
        "y = {'a':'b', 'c':'d'}\n",
        "f4(*x,**y)"
      ],
      "execution_count": null,
      "outputs": [
        {
          "output_type": "stream",
          "text": [
            "1\n",
            "2\n",
            "(3, 4)\n",
            "7\n",
            "{'a': 5, 'b': 6}\n",
            "********************\n",
            "1\n",
            "2\n",
            "(3, 4)\n",
            "d\n",
            "{'a': 'b'}\n"
          ],
          "name": "stdout"
        }
      ]
    },
    {
      "cell_type": "markdown",
      "metadata": {
        "id": "ezyM_eyEkxTv"
      },
      "source": [
        "<a id='anonymous'></a>\n",
        "## Anonymous functions\n",
        "\n",
        "An anoymous function can be created with a `lambda` expression. Note that a function defined via a lambda expression does not have a return statement. Instead, it contains a single statement (written on the same line) whose evaluated value is used as the return statement. "
      ]
    },
    {
      "cell_type": "code",
      "metadata": {
        "id": "iChEZX9zkxTv",
        "colab": {
          "base_uri": "https://localhost:8080/"
        },
        "outputId": "05104bd1-4eef-4f80-f5ab-cffca4c6aaf3"
      },
      "source": [
        "\n",
        "def f5(a):\n",
        "    x = lambda b: b**a\n",
        "    return x; \n",
        "sq = f5(2)\n",
        "print(sq(3))\n",
        "cu = f5(3)\n",
        "print(cu(4))"
      ],
      "execution_count": null,
      "outputs": [
        {
          "output_type": "stream",
          "text": [
            "9\n",
            "64\n"
          ],
          "name": "stdout"
        }
      ]
    },
    {
      "cell_type": "markdown",
      "metadata": {
        "id": "nhLmcx_LkxTv"
      },
      "source": [
        "<a id='scope'></a>\n",
        "## Note about scope\n",
        "\n",
        "In the written program, where a variable is defined plays an important role when creating functions, particulaly when anonymous functions are created. Below, the variable `a` is defined `outside` of the function definition but is referenced inside of it. \n",
        "\n",
        "Below, in the body of `f6`, local variable `b` is assigned the value of `a`, which again is defined outside of the function. When `f6()` is invoked, the current value of `a` (20) is used, *not* the value of `a` that existed when the function was originally defined. "
      ]
    },
    {
      "cell_type": "code",
      "metadata": {
        "id": "bsuWhMz5kxTw",
        "colab": {
          "base_uri": "https://localhost:8080/"
        },
        "outputId": "d724cf15-f167-473e-895c-d84388aa8fbd"
      },
      "source": [
        "a = 10\n",
        "def f6():\n",
        "    b = a\n",
        "    print(a)\n",
        "    print(b)\n",
        "a = 20\n",
        "f6()"
      ],
      "execution_count": null,
      "outputs": [
        {
          "output_type": "stream",
          "text": [
            "20\n",
            "20\n"
          ],
          "name": "stdout"
        }
      ]
    },
    {
      "cell_type": "markdown",
      "metadata": {
        "id": "FWoWE83XkxTw"
      },
      "source": [
        "Something similar happes in the definition of the anymous function created by `f7`. Below, `e` is referenced in the anonymous function, but it is defined elsewhere. Whenever the anonymous function is invoked, the current value of `e` is used. "
      ]
    },
    {
      "cell_type": "code",
      "metadata": {
        "id": "x4B0J0rzkxTw",
        "colab": {
          "base_uri": "https://localhost:8080/"
        },
        "outputId": "726ec792-8f8c-46b0-d421-b29af053aaae"
      },
      "source": [
        "e = 2\n",
        "def f7():\n",
        "    x = lambda b: b**e\n",
        "    return x;\n",
        "exp = f7();\n",
        "print(exp(5))\n",
        "e = 3\n",
        "print(exp(5))"
      ],
      "execution_count": null,
      "outputs": [
        {
          "output_type": "stream",
          "text": [
            "25\n",
            "125\n"
          ],
          "name": "stdout"
        }
      ]
    },
    {
      "cell_type": "code",
      "metadata": {
        "id": "mXUwK8vkkxTx",
        "colab": {
          "base_uri": "https://localhost:8080/"
        },
        "outputId": "01cde5f8-a709-4f24-ffcf-b2f4b9d5a9f0"
      },
      "source": [
        "e = 2\n",
        "def f8():\n",
        "    temp = e\n",
        "    x = lambda b: b**temp\n",
        "    return x;\n",
        "exp = f8();\n",
        "print(exp(5))\n",
        "e = 3\n",
        "print(exp(5))"
      ],
      "execution_count": null,
      "outputs": [
        {
          "output_type": "stream",
          "text": [
            "25\n",
            "25\n"
          ],
          "name": "stdout"
        }
      ]
    },
    {
      "cell_type": "markdown",
      "metadata": {
        "id": "CX2gM2aljWOX"
      },
      "source": [
        "# Namespaces and Scope\n",
        "\n",
        "<h2 id=\"tocheading\">Table of Contents</h2>\n",
        "<div id=\"toc\"></div>"
      ]
    },
    {
      "cell_type": "markdown",
      "metadata": {
        "id": "wzYe7lMDjWOY"
      },
      "source": [
        "<a id='namespaces'></a>\n",
        "## Namespaces\n",
        "\n",
        "When we define a function, the the variables used as arguments to the function (the so-called *formal parameters*) and variables that are defined within the body of the function are all local to that function. Each time the function is invoked, a new **namespace** with associated **symbol table** is created. It is local to that function invocation and maps variable names to values. The same indentifier might be written elsewhere in the program (e.g., in another function definition), but the two occurrences are completely separate. They denote separate variables, for instance, and so changing the value of one does not affect the other. \n",
        "\n",
        "Note that functions are defined within a larger program context, and so namespaces can be nested. When a variable is referenced in the body of a function,  the local symbol table is first examined. If the the variable name is not found, then the enclosing namespace is examined. This is repeated until the **global namespace** is reached. \n",
        "\n",
        "In contrast, if an assignment to a variable appears in the function body, the variable is inferred to be local. This can potentially cause problems, as indicated in `f3` below."
      ]
    },
    {
      "cell_type": "code",
      "metadata": {
        "id": "liWTk-LejWOY",
        "colab": {
          "base_uri": "https://localhost:8080/"
        },
        "outputId": "c31fe83e-5ec2-4fea-d8da-29342d58f769"
      },
      "source": [
        "a = \"1\"\n",
        "\n",
        "def f1():\n",
        "    a = \"2\"\n",
        "    print(\"f1 a: \", a)\n",
        "\n",
        "def f2():\n",
        "    print(\"f2 a: \", a)\n",
        "    \n",
        "f1()\n",
        "f2()\n",
        "print(\"non-function a: \",a)\n",
        "\n",
        "a = \"10\"\n",
        "\n",
        "f1()\n",
        "f2()\n",
        "print(\"non-function a: \", a)"
      ],
      "execution_count": null,
      "outputs": [
        {
          "output_type": "stream",
          "text": [
            "f1 a:  2\n",
            "f2 a:  1\n",
            "non-function a:  1\n",
            "f1 a:  2\n",
            "f2 a:  10\n",
            "non-function a:  10\n"
          ],
          "name": "stdout"
        }
      ]
    },
    {
      "cell_type": "code",
      "metadata": {
        "id": "d6Fi3YYTjWOZ"
      },
      "source": [
        "# Why is this problematic?\n",
        "def f3():\n",
        "    print(\"first f3 a: \" + a) \n",
        "    a = \"3\"\n",
        "    print(\"second f3 a: \" + a)\n",
        "    \n",
        "# f3()"
      ],
      "execution_count": null,
      "outputs": []
    },
    {
      "cell_type": "markdown",
      "metadata": {
        "id": "9wWWsXSVjWOZ"
      },
      "source": [
        "In the above definition of `f3`, an assignment for `a` appears within the function body, and so the variable is inferred to be local. However, it is actually referenced in the print line before the assignment occurs. This will raise an exception, as would attempting to use a variable before it is assigned.  "
      ]
    },
    {
      "cell_type": "markdown",
      "metadata": {
        "id": "FwQ67SGPjWOa"
      },
      "source": [
        "## Examples of namespaces\n",
        "\n",
        "Several namespaces exist, not just the ones user create when defining functions. \n",
        "\n",
        "*  `builtins`: for builtin Python functions, created at start-up of the interpreter. \n",
        "*  `__main__`: the top-level namespace for the interpreter. \n",
        "*  global namespace for each module: created when the module is first read in. \n",
        "*  function invocation namespaces: created when the function is invoked and deleted upon exit.  \n"
      ]
    },
    {
      "cell_type": "markdown",
      "metadata": {
        "id": "WQB1tXp7jWOa"
      },
      "source": [
        "<a id='scope'></a>\n",
        "## Scope\n",
        "\n",
        "**Scope** refers to the textual area of a program where a variable can be directly accessed. Using  the keywords `global` or `nonlocal`, it's possible to access variables existing in a different scope. \n",
        "\n",
        "Below is a slightly modified example taken from the [Python Tutorial](https://docs.python.org/3/tutorial/classes.html#scopes-and-namespaces-example)"
      ]
    },
    {
      "cell_type": "code",
      "metadata": {
        "id": "GlaQDAkHjWOa",
        "colab": {
          "base_uri": "https://localhost:8080/"
        },
        "outputId": "7fd78fc9-9196-4896-f16f-4acafff02efa"
      },
      "source": [
        "# Level 1\n",
        "spam = \"global spam\" # global space\n",
        "\n",
        "def scope_test():\n",
        "    \n",
        "    # Level 2\n",
        "    spam = \"scope_test spam\" # local to scope_test\n",
        "  \n",
        "    def do_local():\n",
        "        # Level 3\n",
        "        spam = \"do_local spam\" # local to do_local\n",
        "\n",
        "    def do_nonlocal():\n",
        "        nonlocal spam  # spam refers to enclosing scope (scope_test)\n",
        "        spam = \"scope_test spam modified\"\n",
        "\n",
        "    def do_global():\n",
        "        global spam # spam refers to global scope\n",
        "        spam = \"global spam modified\"\n",
        "\n",
        "    do_local()\n",
        "    print(\"After local assignment:\", spam)\n",
        "    do_nonlocal()\n",
        "    print(\"After nonlocal assignment:\", spam)\n",
        "    do_global()\n",
        "    print(\"After global assignment:\", spam)\n",
        "\n",
        "scope_test()\n",
        "print(\"In global scope:\", spam)"
      ],
      "execution_count": null,
      "outputs": [
        {
          "output_type": "stream",
          "text": [
            "After local assignment: scope_test spam\n",
            "After nonlocal assignment: scope_test spam modified\n",
            "After global assignment: scope_test spam modified\n",
            "In global scope: global spam modified\n"
          ],
          "name": "stdout"
        }
      ]
    },
    {
      "cell_type": "markdown",
      "metadata": {
        "id": "A-Pf85lljWOb"
      },
      "source": [
        "Above, the call to `do_local()` changes the value of `spam` local to that function (denoted here, *Level 3*). The call to `do_nonlocal()`, however, changes that value at *Level 2*. And the call to `do_global()` changes it at the outermost level (*Level 1*). \n",
        "\n",
        "`global` allows one to change the values of variables not defined in any function, while `nonlocal` permits one to change values of variables in the enclosing context. "
      ]
    },
    {
      "cell_type": "markdown",
      "metadata": {
        "id": "ZLce-CdjkzL8"
      },
      "source": [
        "# Controlling the Flow of Program Execution\n",
        "\n",
        "As in most programing languages, Python allows program execution to branch when certain conditions are met, and it also allows arbitrary execution loops. Without such features, Python would not be very useful (or Turing complete). \n",
        "\n",
        "<h2 id=\"tocheading\">Table of Contents</h2>\n",
        "<div id=\"toc\"></div>"
      ]
    },
    {
      "cell_type": "markdown",
      "metadata": {
        "id": "9zJOA_A0kzL9"
      },
      "source": [
        "## If Statements\n",
        "\n",
        "In Python, *if-then-else* statements are specified using the keywords `if`, `elif` (else if), and `else` (else).  The general form is given below: \n",
        "\n",
        "    if condition1:\n",
        "        do_something\n",
        "    elif condition2:\n",
        "        do_something_else\n",
        "    ...\n",
        "    elif condition_n:\n",
        "        do_something_else\n",
        "    else:\n",
        "        if_all_else_fails_do_this\n",
        "\n",
        "The `elif` and  `else` clauses are optional. There can be many `elif` clauses, but there can be only 1 `else` clause in the `if`-`elif`-`else` sequence."
      ]
    },
    {
      "cell_type": "code",
      "metadata": {
        "id": "ChXSrEH-kzL-",
        "colab": {
          "base_uri": "https://localhost:8080/"
        },
        "outputId": "b7239f12-e162-418a-8e91-895e7cedb503"
      },
      "source": [
        "def number_test(x):\n",
        "    if x > 10:\n",
        "        print(\"value \" + str(x) + \" is greater than 10\")\n",
        "    elif x >= 7 and x < 10:\n",
        "        print(\"value \" + str(x) + \" is in range [7,10)\")\n",
        "    elif x >= 5 and x < 7:\n",
        "        print(\"value \" + str(x) + \" is in range [5,7)\")\n",
        "    else:\n",
        "        print(\"value \" + str(x) + \" is less than 5\")\n",
        "\n",
        "number_test(3)\n",
        "number_test(5)\n",
        "number_test(8)\n",
        "number_test(13)"
      ],
      "execution_count": null,
      "outputs": [
        {
          "output_type": "stream",
          "text": [
            "value 3 is less than 5\n",
            "value 5 is in range [5,7)\n",
            "value 8 is in range [7,10)\n",
            "value 13 is greater than 10\n"
          ],
          "name": "stdout"
        }
      ]
    },
    {
      "cell_type": "markdown",
      "metadata": {
        "id": "QWDUUF9zkzL_"
      },
      "source": [
        "## While Loops\n",
        "\n",
        "Python provides both `while` loops and `for` loops. The former are arguably lower-level but not as natural-looking to a human eye. \n",
        "\n",
        "Below is a simple `while` loop. So long as the condition specified evaluates to a value comparable to `True`, the code in the body of the loop will be executed. As such, without the statement incrementing `i`, the loop would halt. "
      ]
    },
    {
      "cell_type": "code",
      "metadata": {
        "id": "8DkzWw_ukzL_",
        "colab": {
          "base_uri": "https://localhost:8080/"
        },
        "outputId": "0bf53096-2b43-439a-d313-1711eaf4b9b8"
      },
      "source": [
        "string = \"hello world\"\n",
        "length = len(string)\n",
        "i = 0 \n",
        "while i < length:\n",
        "    print(string[i])\n",
        "    i = i + 1 "
      ],
      "execution_count": null,
      "outputs": [
        {
          "output_type": "stream",
          "text": [
            "h\n",
            "e\n",
            "l\n",
            "l\n",
            "o\n",
            " \n",
            "w\n",
            "o\n",
            "r\n",
            "l\n",
            "d\n"
          ],
          "name": "stdout"
        }
      ]
    },
    {
      "cell_type": "markdown",
      "metadata": {
        "id": "E-pqIt_GkzMA"
      },
      "source": [
        "Loops, including `while` loops, can contain `break` statements (which aborts execution of the loop) and `continue` statements (which tell the loop to proceed to the next cycle)."
      ]
    },
    {
      "cell_type": "code",
      "metadata": {
        "id": "_LKmclDYkzMA",
        "colab": {
          "base_uri": "https://localhost:8080/"
        },
        "outputId": "8dafdf13-b8ee-4b3d-9d6d-f4addfff1590"
      },
      "source": [
        "\n",
        "def member(string, element):\n",
        "    length = len(string)\n",
        "    i = 0 \n",
        "    while i < length:\n",
        "        if(string[i] == element):\n",
        "            break\n",
        "        i = i + 1\n",
        "    if(i != length):\n",
        "        print(\"found '\" + element + \"' in '\" + string + \"'\")\n",
        "        return True\n",
        "    else:\n",
        "        print(\"could not find '\" + element + \"' in '\" + string + \"'\")\n",
        "        return False \n",
        "\n",
        "def count(string, element):\n",
        "    length = len(string)\n",
        "    i = 0 \n",
        "    counter = 0; \n",
        "    while i < length:\n",
        "        if(string[i] != element):\n",
        "            i = i + 1\n",
        "            continue\n",
        "        counter = counter + 1\n",
        "        i = i + 1\n",
        "    return counter \n",
        "    \n",
        "member(\"hello world!\", \"r\")\n",
        "member(\"hello world!\", \"z\")\n",
        "print(\"occurrences of 'l': \" + str(count(\"hello world!\", \"!\")))"
      ],
      "execution_count": null,
      "outputs": [
        {
          "output_type": "stream",
          "text": [
            "found 'r' in 'hello world!'\n",
            "could not find 'z' in 'hello world!'\n",
            "occurrences of 'l': 1\n"
          ],
          "name": "stdout"
        }
      ]
    },
    {
      "cell_type": "markdown",
      "metadata": {
        "id": "qn1b52XekzMB"
      },
      "source": [
        "Below we sort a string, identifying its unique members. Then we use a `while` loop together with the previously defined `count` function to count the occurrences of each character. "
      ]
    },
    {
      "cell_type": "code",
      "metadata": {
        "id": "P-k5RA2HkzMC",
        "colab": {
          "base_uri": "https://localhost:8080/"
        },
        "outputId": "4ce7e3e5-75ca-47c6-98f9-811167265ff7"
      },
      "source": [
        "def unique_characters(raw_string):\n",
        "    # instead of set(raw_string), we'll create the set iteratively\n",
        "    # returning its characters as a sorted list\n",
        "    result = set(); \n",
        "    i = 0\n",
        "    while i < length:\n",
        "        result.add(raw_string[i])\n",
        "        i = i + 1\n",
        "    return sorted(list(result))\n",
        "    \n",
        "def character_count(raw_string):\n",
        "    sorted_string = unique_characters(raw_string)\n",
        "    length = len(sorted_string)\n",
        "    i = 0\n",
        "    result = []; \n",
        "    while i < length:\n",
        "        result.append((sorted_string[i], count(raw_string, sorted_string[i])))\n",
        "        i = i + 1\n",
        "    return result\n",
        "\n",
        "print(character_count(\"hello world\"))"
      ],
      "execution_count": null,
      "outputs": [
        {
          "output_type": "stream",
          "text": [
            "[(' ', 1), ('d', 1), ('e', 1), ('h', 1), ('l', 3), ('o', 2), ('r', 1), ('w', 1)]\n"
          ],
          "name": "stdout"
        }
      ]
    },
    {
      "cell_type": "markdown",
      "metadata": {
        "id": "ZVTHSM4kkzMC"
      },
      "source": [
        "It turns out that as far as loops and evaluating the truth of conditional statements are concerned, a great many values and not just `True` and `False` will suffice. E.g., nonzero numbers, or nonempty strings or lists will be taken as `True`, and 0 and empty lists, etc., will be taken as `False`. "
      ]
    },
    {
      "cell_type": "code",
      "metadata": {
        "id": "gide2wqZkzMD",
        "colab": {
          "base_uri": "https://localhost:8080/"
        },
        "outputId": "e8902e49-e044-4af4-ce2e-9fe46aeba970"
      },
      "source": [
        "def cond_test(x,s):\n",
        "    count = 0\n",
        "    print(x,\":\",end=\"\")\n",
        "    while x:\n",
        "        print(s,end=\"\")\n",
        "        count = count + 1\n",
        "        if count > 3:\n",
        "            break\n",
        "    print(\"\")\n",
        "\n",
        "cond_test(True,\"a\")\n",
        "cond_test(1,\"b\")\n",
        "cond_test([6],\"c\")\n",
        "cond_test((\"hello\"),\"c\")\n",
        "cond_test(\"world\",\"c\")\n",
        "cond_test(False,\"a\")\n",
        "cond_test(0,\"a\")\n",
        "cond_test([],\"a\")\n",
        "cond_test({},\"a\")\n",
        "cond_test(\"\",\"a\")"
      ],
      "execution_count": null,
      "outputs": [
        {
          "output_type": "stream",
          "text": [
            "True :aaaa\n",
            "1 :bbbb\n",
            "[6] :cccc\n",
            "hello :cccc\n",
            "world :cccc\n",
            "False :\n",
            "0 :\n",
            "[] :\n",
            "{} :\n",
            " :\n"
          ],
          "name": "stdout"
        }
      ]
    },
    {
      "cell_type": "markdown",
      "metadata": {
        "id": "o6s2x1_FkzMD"
      },
      "source": [
        "## For Loops and the Range function\n",
        "\n",
        "In Python, `for` statements iterate over sequences and utilize the `in` keyword. Like `while` loops, `for` loops can contain `break` and `continue`. They can also contain `else` statements; these are executed when the loop ends via something other than `break`)."
      ]
    },
    {
      "cell_type": "code",
      "metadata": {
        "id": "u3oKEbmDkzME",
        "colab": {
          "base_uri": "https://localhost:8080/"
        },
        "outputId": "d1de42fe-237a-42f7-935c-551c51b74fc1"
      },
      "source": [
        "raw_string = \"hello world\"\n",
        "characters = set(raw_string)\n",
        "for w in characters:\n",
        "    print(w, ',', raw_string.count(w))"
      ],
      "execution_count": null,
      "outputs": [
        {
          "output_type": "stream",
          "text": [
            "l , 3\n",
            "r , 1\n",
            "w , 1\n",
            "e , 1\n",
            "d , 1\n",
            "h , 1\n",
            "  , 1\n",
            "o , 2\n"
          ],
          "name": "stdout"
        }
      ]
    },
    {
      "cell_type": "markdown",
      "metadata": {
        "id": "AknjJNLCkzME"
      },
      "source": [
        "The `range()` function can be used to generate a sequence of numbers, which can then be used in a loop. "
      ]
    },
    {
      "cell_type": "code",
      "metadata": {
        "id": "8NrBd138kzME",
        "colab": {
          "base_uri": "https://localhost:8080/"
        },
        "outputId": "39d16d16-f468-4aac-da5f-b6fddb95e672"
      },
      "source": [
        "x = range(11)\n",
        "for i in x:\n",
        "    print(i, i*i)"
      ],
      "execution_count": null,
      "outputs": [
        {
          "output_type": "stream",
          "text": [
            "0 0\n",
            "1 1\n",
            "2 4\n",
            "3 9\n",
            "4 16\n",
            "5 25\n",
            "6 36\n",
            "7 49\n",
            "8 64\n",
            "9 81\n",
            "10 100\n"
          ],
          "name": "stdout"
        }
      ]
    },
    {
      "cell_type": "markdown",
      "metadata": {
        "id": "_Mn-MisakzMF"
      },
      "source": [
        "Minimum and maximum (exlcusive) values can also be specified, as can an integer step-size."
      ]
    },
    {
      "cell_type": "code",
      "metadata": {
        "id": "kv_Ow0JFkzMF",
        "colab": {
          "base_uri": "https://localhost:8080/"
        },
        "outputId": "be91fd81-f370-4101-f306-7733adf1142f"
      },
      "source": [
        "x = range(20,31,2)\n",
        "for i in x:\n",
        "    print(i)"
      ],
      "execution_count": null,
      "outputs": [
        {
          "output_type": "stream",
          "text": [
            "20\n",
            "22\n",
            "24\n",
            "26\n",
            "28\n",
            "30\n"
          ],
          "name": "stdout"
        }
      ]
    },
    {
      "cell_type": "code",
      "metadata": {
        "id": "xNcjOG08HHbu"
      },
      "source": [
        ""
      ],
      "execution_count": null,
      "outputs": []
    },
    {
      "cell_type": "markdown",
      "metadata": {
        "id": "lzfLpS5wHHuK"
      },
      "source": [
        "#Python Classes/Objects\n",
        "Python is an object oriented programming language.\n",
        "\n",
        "Almost everything in Python is an object, with its properties and methods.\n",
        "\n",
        "A Class is like an object constructor, or a \"blueprint\" for creating objects.\n",
        "\n"
      ]
    },
    {
      "cell_type": "markdown",
      "metadata": {
        "id": "d8rAz2rPHOnr"
      },
      "source": [
        "##Create a Class\n",
        "To create a class, use the keyword class:\n",
        "\n"
      ]
    },
    {
      "cell_type": "code",
      "metadata": {
        "id": "3KGcrs-GHMk2"
      },
      "source": [
        "class MyClass:\n",
        "  x = 5"
      ],
      "execution_count": null,
      "outputs": []
    },
    {
      "cell_type": "markdown",
      "metadata": {
        "id": "VPhNka58HW8P"
      },
      "source": [
        "##Create Object\n",
        "Now we can use the class named MyClass to create objects:\n",
        "\n"
      ]
    },
    {
      "cell_type": "code",
      "metadata": {
        "colab": {
          "base_uri": "https://localhost:8080/"
        },
        "id": "laNJI79ZHMp1",
        "outputId": "c2169175-e3b5-430e-9b77-a6716085b5e0"
      },
      "source": [
        "#Create an object named p1, and print the value of x:\n",
        "\n",
        "p1 = MyClass()\n",
        "print(p1.x)"
      ],
      "execution_count": null,
      "outputs": [
        {
          "output_type": "stream",
          "text": [
            "5\n"
          ],
          "name": "stdout"
        }
      ]
    },
    {
      "cell_type": "markdown",
      "metadata": {
        "id": "V0eK1YW-HfGU"
      },
      "source": [
        "##The __init__() Function\n",
        "The examples above are classes and objects in their simplest form, and are not really useful in real life applications.\n",
        "\n",
        "To understand the meaning of classes we have to understand the built-in __init__() function.\n",
        "\n",
        "All classes have a function called __init__(), which is always executed when the class is being initiated.\n",
        "\n",
        "Use the __init__() function to assign values to object properties, or other operations that are necessary to do when the object is being created:"
      ]
    },
    {
      "cell_type": "code",
      "metadata": {
        "colab": {
          "base_uri": "https://localhost:8080/"
        },
        "id": "0dNCZLpJHeV2",
        "outputId": "41a4a361-e416-4152-f375-8e2202e2ee97"
      },
      "source": [
        "#Create a class named Person, use the __init__() function to assign values for name and age:\n",
        "\n",
        "class Person:\n",
        "  def __init__(self, name, age):\n",
        "    self.name = name\n",
        "    self.age = age\n",
        "\n",
        "p1 = Person(\"John\", 36)\n",
        "p2=Person('ali',40)\n",
        "\n",
        "print(p1.name)\n",
        "print(p1.age)\n",
        "print('*'*40)\n",
        "print(p2.name)\n",
        "print(p2.age)\n",
        "\n",
        "#Note: The __init__() function is called automatically every time the class is being used to create a new object.\n",
        "\n"
      ],
      "execution_count": null,
      "outputs": [
        {
          "output_type": "stream",
          "text": [
            "John\n",
            "36\n",
            "****************************************\n",
            "ali\n",
            "40\n"
          ],
          "name": "stdout"
        }
      ]
    },
    {
      "cell_type": "markdown",
      "metadata": {
        "id": "ZIgJYfZAIJ_T"
      },
      "source": [
        "##Object Methods\n",
        "Objects can also contain methods. Methods in objects are functions that belong to the object.\n",
        "\n",
        "Let us create a method in the Person class:"
      ]
    },
    {
      "cell_type": "code",
      "metadata": {
        "colab": {
          "base_uri": "https://localhost:8080/"
        },
        "id": "m_7AMj4yHeZf",
        "outputId": "e2e094ec-d92f-4448-f822-3a8d0fc14aba"
      },
      "source": [
        "class Person:\n",
        "  def __init__(self, name, age):\n",
        "    self.name = name\n",
        "    self.age = age\n",
        "\n",
        "  def myfunc(self):\n",
        "    print(\"Hello my name is \" + self.name)\n",
        "\n",
        "p1 = Person(\"John\", 36)\n",
        "p1.myfunc()\n",
        "#Note: The self parameter is a reference to the current instance of the class, and is used to access variables that belong to the class."
      ],
      "execution_count": null,
      "outputs": [
        {
          "output_type": "stream",
          "text": [
            "Hello my name is John\n"
          ],
          "name": "stdout"
        }
      ]
    },
    {
      "cell_type": "markdown",
      "metadata": {
        "id": "Ch5apAO8IV9Y"
      },
      "source": [
        "##The self Parameter\n",
        "The self parameter is a reference to the current instance of the class, and is used to access variables that belongs to the class.\n",
        "\n",
        "It does not have to be named self , you can call it whatever you like, but it has to be the first parameter of any function in the class:"
      ]
    },
    {
      "cell_type": "code",
      "metadata": {
        "colab": {
          "base_uri": "https://localhost:8080/"
        },
        "id": "Uci2rpoUIVJU",
        "outputId": "f0fde283-fa54-4285-fe06-9a9c855605ee"
      },
      "source": [
        "class Person:\n",
        "  def __init__(mysillyobject, name, age):\n",
        "    mysillyobject.name = name\n",
        "    mysillyobject.age = age\n",
        "\n",
        "  def myfunc(abc):\n",
        "    print(\"Hello my name is \" + abc.name)\n",
        "\n",
        "p1 = Person(\"John\", 36)\n",
        "p1.myfunc()"
      ],
      "execution_count": null,
      "outputs": [
        {
          "output_type": "stream",
          "text": [
            "Hello my name is John\n"
          ],
          "name": "stdout"
        }
      ]
    },
    {
      "cell_type": "markdown",
      "metadata": {
        "id": "RuEYylyyIykE"
      },
      "source": [
        "##Modify Object Properties\n",
        "You can modify properties on objects like this:"
      ]
    },
    {
      "cell_type": "code",
      "metadata": {
        "id": "lObR5zAUIVNC"
      },
      "source": [
        "p1.age = 40\n"
      ],
      "execution_count": null,
      "outputs": []
    },
    {
      "cell_type": "markdown",
      "metadata": {
        "id": "DZ3usOtgI5c0"
      },
      "source": [
        "##Delete Object Properties\n",
        "You can delete properties on objects by using the del keyword:"
      ]
    },
    {
      "cell_type": "code",
      "metadata": {
        "id": "nctDwQVDIVQ9"
      },
      "source": [
        "del p1.age\n"
      ],
      "execution_count": null,
      "outputs": []
    },
    {
      "cell_type": "code",
      "metadata": {
        "colab": {
          "base_uri": "https://localhost:8080/",
          "height": 162
        },
        "id": "XY3K4GHjIVUd",
        "outputId": "bd024d24-90a0-48d1-dd8d-4d8b3805c63d"
      },
      "source": [
        "p1.age"
      ],
      "execution_count": null,
      "outputs": [
        {
          "output_type": "error",
          "ename": "AttributeError",
          "evalue": "ignored",
          "traceback": [
            "\u001b[0;31m---------------------------------------------------------------------------\u001b[0m",
            "\u001b[0;31mAttributeError\u001b[0m                            Traceback (most recent call last)",
            "\u001b[0;32m<ipython-input-76-bdf2744a45d7>\u001b[0m in \u001b[0;36m<module>\u001b[0;34m()\u001b[0m\n\u001b[0;32m----> 1\u001b[0;31m \u001b[0mp1\u001b[0m\u001b[0;34m.\u001b[0m\u001b[0mage\u001b[0m\u001b[0;34m\u001b[0m\u001b[0;34m\u001b[0m\u001b[0m\n\u001b[0m",
            "\u001b[0;31mAttributeError\u001b[0m: 'Person' object has no attribute 'age'"
          ]
        }
      ]
    },
    {
      "cell_type": "markdown",
      "metadata": {
        "id": "ELbUMKIVJDQu"
      },
      "source": [
        "##Delete Objects\n",
        "You can delete objects by using the del keyword:"
      ]
    },
    {
      "cell_type": "code",
      "metadata": {
        "id": "LbZOFYLiI-jX"
      },
      "source": [
        "del p1\n"
      ],
      "execution_count": null,
      "outputs": []
    },
    {
      "cell_type": "markdown",
      "metadata": {
        "id": "y2FlhfK6JIaE"
      },
      "source": [
        "##The pass Statement\n",
        "class definitions cannot be empty, but if you for some reason have a class definition with no content, put in the pass statement to avoid getting an error."
      ]
    },
    {
      "cell_type": "code",
      "metadata": {
        "id": "26T-MhIBJJzp"
      },
      "source": [
        "class Person:\n",
        "  pass"
      ],
      "execution_count": null,
      "outputs": []
    },
    {
      "cell_type": "markdown",
      "metadata": {
        "id": "tfS6HDtnGbed"
      },
      "source": [
        "#Iterators\n",
        "Python Iterators\n",
        "An iterator is an object that contains a countable number of values.\n",
        "\n",
        "An iterator is an object that can be iterated upon, meaning that you can traverse through all the values.\n",
        "\n",
        "Technically, in Python, an iterator is an object which implements the iterator protocol, which consist of the methods __iter__() and __next__().\n",
        "\n"
      ]
    },
    {
      "cell_type": "markdown",
      "metadata": {
        "id": "ujbqpdMTGiXX"
      },
      "source": [
        "##Iterator vs Iterable\n",
        "Lists, tuples, dictionaries, and sets are all iterable objects. They are iterable containers which you can get an iterator from.\n",
        "\n",
        "All these objects have a iter() method which is used to get an iterator:"
      ]
    },
    {
      "cell_type": "code",
      "metadata": {
        "colab": {
          "base_uri": "https://localhost:8080/"
        },
        "id": "OQxACz7hGhnO",
        "outputId": "a5c68d31-8409-47c6-bf6a-d8ca8ec6f71d"
      },
      "source": [
        "mytuple = (\"apple\", \"banana\", \"cherry\")\n",
        "myit = iter(mytuple)\n",
        "\n",
        "print(next(myit))\n",
        "print(next(myit))\n",
        "print(next(myit))"
      ],
      "execution_count": null,
      "outputs": [
        {
          "output_type": "stream",
          "text": [
            "apple\n",
            "banana\n",
            "cherry\n"
          ],
          "name": "stdout"
        }
      ]
    },
    {
      "cell_type": "markdown",
      "metadata": {
        "id": "gk9i3DtbGpf4"
      },
      "source": [
        "Even strings are iterable objects, and can return an iterator:\n",
        "\n"
      ]
    },
    {
      "cell_type": "code",
      "metadata": {
        "colab": {
          "base_uri": "https://localhost:8080/"
        },
        "id": "JtCT6n4QGecM",
        "outputId": "5ea5e389-3594-403c-8f26-91ef8a71dd40"
      },
      "source": [
        "mystr = \"banana\"\n",
        "myit = iter(mystr)\n",
        "\n",
        "print(next(myit))\n",
        "print(next(myit))\n",
        "print(next(myit))\n",
        "print(next(myit))\n",
        "print(next(myit))\n",
        "print(next(myit))"
      ],
      "execution_count": null,
      "outputs": [
        {
          "output_type": "stream",
          "text": [
            "b\n",
            "a\n",
            "n\n",
            "a\n",
            "n\n",
            "a\n"
          ],
          "name": "stdout"
        }
      ]
    },
    {
      "cell_type": "markdown",
      "metadata": {
        "id": "a_PRi4_oGwVA"
      },
      "source": [
        "##Looping Through an Iterator\n",
        "We can also use a for loop to iterate through an iterable object:\n",
        "\n"
      ]
    },
    {
      "cell_type": "code",
      "metadata": {
        "colab": {
          "base_uri": "https://localhost:8080/"
        },
        "id": "eta_n_1PGsml",
        "outputId": "63a01a67-fa18-466f-bd9e-80b311cc72ba"
      },
      "source": [
        "mytuple = (\"apple\", \"banana\", \"cherry\")\n",
        "\n",
        "for x in mytuple:\n",
        "  print(x)\n",
        "\n",
        "#The for loop actually creates an iterator object and executes the next() method for each loop.\n",
        "\n"
      ],
      "execution_count": null,
      "outputs": [
        {
          "output_type": "stream",
          "text": [
            "apple\n",
            "banana\n",
            "cherry\n"
          ],
          "name": "stdout"
        }
      ]
    },
    {
      "cell_type": "markdown",
      "metadata": {
        "id": "cAw4y1XwJnaU"
      },
      "source": [
        "##Create an Iterator\n",
        "To create an object/class as an iterator you have to implement the methods __iter__() and __next__() to your object.\n",
        "\n",
        "As you have learned in the Python Classes/Objects chapter, all classes have a function called __init__(), which allows you to do some initializing when the object is being created.\n",
        "\n",
        "The __iter__() method acts similar, you can do operations (initializing etc.), but must always return the iterator object itself.\n",
        "\n",
        "The __next__() method also allows you to do operations, and must return the next item in the sequence."
      ]
    },
    {
      "cell_type": "code",
      "metadata": {
        "colab": {
          "base_uri": "https://localhost:8080/"
        },
        "id": "CoOZviE1G1Cx",
        "outputId": "eaff5823-d1c3-4550-d552-b70cdee783bc"
      },
      "source": [
        "class MyNumbers:\n",
        "  def __iter__(self):\n",
        "    self.a = 1\n",
        "    return self\n",
        "\n",
        "  def __next__(self):\n",
        "    x = self.a\n",
        "    self.a += 1\n",
        "    return x\n",
        "\n",
        "myclass = MyNumbers()\n",
        "myiter = iter(myclass)\n",
        "\n",
        "print(next(myiter))\n",
        "print(next(myiter))\n",
        "print(next(myiter))\n",
        "print(next(myiter))\n",
        "print(next(myiter))"
      ],
      "execution_count": null,
      "outputs": [
        {
          "output_type": "stream",
          "text": [
            "1\n",
            "2\n",
            "3\n",
            "4\n",
            "5\n"
          ],
          "name": "stdout"
        }
      ]
    },
    {
      "cell_type": "code",
      "metadata": {
        "id": "SgM_GFaZJvhf"
      },
      "source": [
        ""
      ],
      "execution_count": null,
      "outputs": []
    }
  ]
}