{
  "nbformat": 4,
  "nbformat_minor": 0,
  "metadata": {
    "colab": {
      "name": "ex_W_4_tensorflow.ipynb",
      "provenance": [],
      "collapsed_sections": []
    },
    "kernelspec": {
      "name": "python3",
      "display_name": "Python 3"
    },
    "language_info": {
      "name": "python"
    },
    "accelerator": "GPU"
  },
  "cells": [
    {
      "cell_type": "code",
      "metadata": {
        "id": "YZAF_FdyH_x0"
      },
      "source": [
        "import tensorflow as tf \n",
        "import numpy as np \n",
        "import matplotlib.pyplot as plt\n",
        "from sklearn import metrics,model_selection,preprocessing\n",
        "import pandas as pd\n"
      ],
      "execution_count": 48,
      "outputs": []
    },
    {
      "cell_type": "code",
      "metadata": {
        "id": "0om9IcaBIwm1"
      },
      "source": [
        "(x_train,y_train),(x_test,y_test)=tf.keras.datasets.fashion_mnist.load_data()"
      ],
      "execution_count": 20,
      "outputs": []
    },
    {
      "cell_type": "code",
      "metadata": {
        "id": "xYy7rtdnJPv9"
      },
      "source": [
        "x_train=x_train/255\n",
        "x_test=x_test/255"
      ],
      "execution_count": 21,
      "outputs": []
    },
    {
      "cell_type": "code",
      "metadata": {
        "colab": {
          "base_uri": "https://localhost:8080/",
          "height": 282
        },
        "id": "cmtIvGGjJRwu",
        "outputId": "4f8b9e2b-5970-41fe-8be5-c5bb7200ea39"
      },
      "source": [
        "plt.imshow(x_train[0])"
      ],
      "execution_count": 22,
      "outputs": [
        {
          "output_type": "execute_result",
          "data": {
            "text/plain": [
              "<matplotlib.image.AxesImage at 0x7f926178f090>"
            ]
          },
          "metadata": {},
          "execution_count": 22
        },
        {
          "output_type": "display_data",
          "data": {
            "image/png": "[encoded data removed]",
            "text/plain": [
              "<Figure size 432x288 with 1 Axes>"
            ]
          },
          "metadata": {
            "needs_background": "light"
          }
        }
      ]
    },
    {
      "cell_type": "code",
      "metadata": {
        "colab": {
          "base_uri": "https://localhost:8080/"
        },
        "id": "WLrR4u8IJ0H-",
        "outputId": "0f62fa9f-178e-4975-d2c2-6eef8bda7fb4"
      },
      "source": [
        "y_train[0]"
      ],
      "execution_count": 23,
      "outputs": [
        {
          "output_type": "execute_result",
          "data": {
            "text/plain": [
              "9"
            ]
          },
          "metadata": {},
          "execution_count": 23
        }
      ]
    },
    {
      "cell_type": "code",
      "metadata": {
        "id": "rCju__2QJ6fy"
      },
      "source": [
        "x_train=x_train.reshape(-1,28*28)\n",
        "x_test=x_test.reshape(-1,28*28)"
      ],
      "execution_count": 24,
      "outputs": []
    },
    {
      "cell_type": "code",
      "metadata": {
        "colab": {
          "base_uri": "https://localhost:8080/"
        },
        "id": "yi6KfIeuKe75",
        "outputId": "7260c936-7643-482c-a7e0-1a011582b102"
      },
      "source": [
        "x_train.shape"
      ],
      "execution_count": 25,
      "outputs": [
        {
          "output_type": "execute_result",
          "data": {
            "text/plain": [
              "(60000, 784)"
            ]
          },
          "metadata": {},
          "execution_count": 25
        }
      ]
    },
    {
      "cell_type": "code",
      "metadata": {
        "colab": {
          "base_uri": "https://localhost:8080/"
        },
        "id": "7l8tEjvrKglG",
        "outputId": "157cdd75-311c-44ca-8707-1519b0c9d00f"
      },
      "source": [
        "y_train[:10]"
      ],
      "execution_count": 26,
      "outputs": [
        {
          "output_type": "execute_result",
          "data": {
            "text/plain": [
              "array([9, 0, 0, 3, 0, 2, 7, 2, 5, 5], dtype=uint8)"
            ]
          },
          "metadata": {},
          "execution_count": 26
        }
      ]
    },
    {
      "cell_type": "code",
      "metadata": {
        "id": "AqHdzOqJKoqe"
      },
      "source": [
        "y_train_hot=tf.one_hot(y_train,depth=len(set(y_train)))\n",
        "y_test_hot=tf.one_hot(y_test,depth=len(set(y_train)))"
      ],
      "execution_count": 27,
      "outputs": []
    },
    {
      "cell_type": "code",
      "metadata": {
        "colab": {
          "base_uri": "https://localhost:8080/"
        },
        "id": "g0nC3wUILCLX",
        "outputId": "8e573edc-68f1-4c3d-b6f2-67a9dda7c385"
      },
      "source": [
        "y_train_hot[:10]"
      ],
      "execution_count": 28,
      "outputs": [
        {
          "output_type": "execute_result",
          "data": {
            "text/plain": [
              "<tf.Tensor: shape=(10, 10), dtype=float32, numpy=\n",
              "array([[0., 0., 0., 0., 0., 0., 0., 0., 0., 1.],\n",
              "       [1., 0., 0., 0., 0., 0., 0., 0., 0., 0.],\n",
              "       [1., 0., 0., 0., 0., 0., 0., 0., 0., 0.],\n",
              "       [0., 0., 0., 1., 0., 0., 0., 0., 0., 0.],\n",
              "       [1., 0., 0., 0., 0., 0., 0., 0., 0., 0.],\n",
              "       [0., 0., 1., 0., 0., 0., 0., 0., 0., 0.],\n",
              "       [0., 0., 0., 0., 0., 0., 0., 1., 0., 0.],\n",
              "       [0., 0., 1., 0., 0., 0., 0., 0., 0., 0.],\n",
              "       [0., 0., 0., 0., 0., 1., 0., 0., 0., 0.],\n",
              "       [0., 0., 0., 0., 0., 1., 0., 0., 0., 0.]], dtype=float32)>"
            ]
          },
          "metadata": {},
          "execution_count": 28
        }
      ]
    },
    {
      "cell_type": "code",
      "metadata": {
        "id": "WBkXpJ11M2Rp"
      },
      "source": [
        "x_val=x_train[:5000]\n",
        "y_val=y_train_hot[:5000]\n",
        "x_train=x_train[5000:]\n",
        "y_train_hot=y_train_hot[5000:]"
      ],
      "execution_count": 29,
      "outputs": []
    },
    {
      "cell_type": "code",
      "metadata": {
        "id": "yR5qefbWLGTE"
      },
      "source": [
        "#create the model \n",
        "model=tf.keras.models.Sequential([\n",
        "                                  tf.keras.layers.Input(shape=(784)),\n",
        "                                  tf.keras.layers.Dense(units=128,activation=tf.nn.leaky_relu,kernel_initializer=tf.initializers.he_uniform(seed=42),name='layer_1'),\n",
        "                                  tf.keras.layers.Dropout(0.3),\n",
        "                                  tf.keras.layers.Dense(units=256,activation=tf.nn.leaky_relu,kernel_initializer=tf.initializers.he_uniform(seed=42),name='layer_2'),\n",
        "                                  tf.keras.layers.Dropout(0.4),\n",
        "                                  tf.keras.layers.Dense(units=256,activation=tf.nn.leaky_relu,kernel_initializer=tf.initializers.he_uniform(seed=42),name='layer_3'),\n",
        "                                  tf.keras.layers.Dropout(0.4),\n",
        "                                  tf.keras.layers.Dense(units=512,activation=tf.nn.leaky_relu,kernel_initializer=tf.initializers.he_uniform(seed=42),name='layer_4'),\n",
        "                                  tf.keras.layers.Dropout(0.5),\n",
        "                                  tf.keras.layers.Dense(units=1024,activation=tf.nn.leaky_relu,kernel_initializer=tf.initializers.he_uniform(seed=42),name='layer_5'),\n",
        "                                  tf.keras.layers.Dropout(0.6),\n",
        "                                  tf.keras.layers.Dense(units=512,activation=tf.nn.leaky_relu,kernel_initializer=tf.initializers.he_uniform(seed=42),name='layer_6'),\n",
        "                                  tf.keras.layers.Dropout(0.4),\n",
        "                                  tf.keras.layers.Dense(units=10,activation=tf.nn.softmax,name='output')\n",
        "])"
      ],
      "execution_count": 56,
      "outputs": []
    },
    {
      "cell_type": "code",
      "metadata": {
        "colab": {
          "base_uri": "https://localhost:8080/"
        },
        "id": "wJ1AV1gGL3QA",
        "outputId": "697718fa-3c7b-4fe9-a76f-96d3d0f30eaf"
      },
      "source": [
        "model.summary()"
      ],
      "execution_count": 57,
      "outputs": [
        {
          "output_type": "stream",
          "name": "stdout",
          "text": [
            "Model: \"sequential_6\"\n",
            "_________________________________________________________________\n",
            "Layer (type)                 Output Shape              Param #   \n",
            "=================================================================\n",
            "layer_1 (Dense)              (None, 128)               100480    \n",
            "_________________________________________________________________\n",
            "dropout (Dropout)            (None, 128)               0         \n",
            "_________________________________________________________________\n",
            "layer_2 (Dense)              (None, 256)               33024     \n",
            "_________________________________________________________________\n",
            "dropout_1 (Dropout)          (None, 256)               0         \n",
            "_________________________________________________________________\n",
            "layer_3 (Dense)              (None, 256)               65792     \n",
            "_________________________________________________________________\n",
            "dropout_2 (Dropout)          (None, 256)               0         \n",
            "_________________________________________________________________\n",
            "layer_4 (Dense)              (None, 512)               131584    \n",
            "_________________________________________________________________\n",
            "dropout_3 (Dropout)          (None, 512)               0         \n",
            "_________________________________________________________________\n",
            "layer_5 (Dense)              (None, 1024)              525312    \n",
            "_________________________________________________________________\n",
            "dropout_4 (Dropout)          (None, 1024)              0         \n",
            "_________________________________________________________________\n",
            "layer_6 (Dense)              (None, 512)               524800    \n",
            "_________________________________________________________________\n",
            "dropout_5 (Dropout)          (None, 512)               0         \n",
            "_________________________________________________________________\n",
            "output (Dense)               (None, 10)                5130      \n",
            "=================================================================\n",
            "Total params: 1,386,122\n",
            "Trainable params: 1,386,122\n",
            "Non-trainable params: 0\n",
            "_________________________________________________________________\n"
          ]
        }
      ]
    },
    {
      "cell_type": "code",
      "metadata": {
        "id": "d6KHHxR6L7X7"
      },
      "source": [
        "model.compile(optimizer=tf.optimizers.Adam(),loss=tf.losses.CategoricalCrossentropy(),metrics=['acc'])"
      ],
      "execution_count": 58,
      "outputs": []
    },
    {
      "cell_type": "code",
      "metadata": {
        "colab": {
          "base_uri": "https://localhost:8080/"
        },
        "id": "3qaGYsgGMeL3",
        "outputId": "93dd221b-18ed-4260-a146-1f9c041db794"
      },
      "source": [
        "model.fit(x=x_train,y=y_train_hot,batch_size=32,epochs=10,validation_data=(x_val,y_val))"
      ],
      "execution_count": 59,
      "outputs": [
        {
          "output_type": "stream",
          "name": "stdout",
          "text": [
            "Epoch 1/10\n",
            "1719/1719 [==============================] - 12s 6ms/step - loss: 0.9129 - acc: 0.6777 - val_loss: 0.5213 - val_acc: 0.8136\n",
            "Epoch 2/10\n",
            "1719/1719 [==============================] - 10s 6ms/step - loss: 0.6701 - acc: 0.7690 - val_loss: 0.4862 - val_acc: 0.8174\n",
            "Epoch 3/10\n",
            "1719/1719 [==============================] - 10s 6ms/step - loss: 0.6569 - acc: 0.7763 - val_loss: 0.4416 - val_acc: 0.8482\n",
            "Epoch 4/10\n",
            "1719/1719 [==============================] - 10s 6ms/step - loss: 0.6356 - acc: 0.7865 - val_loss: 0.4772 - val_acc: 0.8554\n",
            "Epoch 5/10\n",
            "1719/1719 [==============================] - 10s 6ms/step - loss: 0.6326 - acc: 0.7908 - val_loss: 0.4649 - val_acc: 0.8416\n",
            "Epoch 6/10\n",
            "1719/1719 [==============================] - 10s 6ms/step - loss: 0.6240 - acc: 0.7952 - val_loss: 0.4735 - val_acc: 0.8496\n",
            "Epoch 7/10\n",
            "1719/1719 [==============================] - 10s 6ms/step - loss: 0.6307 - acc: 0.7955 - val_loss: 0.4550 - val_acc: 0.8490\n",
            "Epoch 8/10\n",
            "1719/1719 [==============================] - 10s 6ms/step - loss: 0.6284 - acc: 0.7978 - val_loss: 0.4510 - val_acc: 0.8590\n",
            "Epoch 9/10\n",
            "1719/1719 [==============================] - 10s 6ms/step - loss: 0.6551 - acc: 0.7915 - val_loss: 0.4521 - val_acc: 0.8610\n",
            "Epoch 10/10\n",
            "1719/1719 [==============================] - 10s 6ms/step - loss: 0.6285 - acc: 0.7985 - val_loss: 0.4557 - val_acc: 0.8472\n"
          ]
        },
        {
          "output_type": "execute_result",
          "data": {
            "text/plain": [
              "<keras.callbacks.History at 0x7f926179ef10>"
            ]
          },
          "metadata": {},
          "execution_count": 59
        }
      ]
    },
    {
      "cell_type": "code",
      "metadata": {
        "colab": {
          "base_uri": "https://localhost:8080/",
          "height": 282
        },
        "id": "XOdh9YicNlEy",
        "outputId": "c3ee2959-b4ed-440e-e217-1eb3de8be0bd"
      },
      "source": [
        "hist_df=pd.DataFrame(model.history.history)\n",
        "hist_df.plot()"
      ],
      "execution_count": 60,
      "outputs": [
        {
          "output_type": "execute_result",
          "data": {
            "text/plain": [
              "<matplotlib.axes._subplots.AxesSubplot at 0x7f92616fd410>"
            ]
          },
          "metadata": {},
          "execution_count": 60
        },
        {
          "output_type": "display_data",
          "data": {
            "image/png": "[encoded data removed]",
            "text/plain": [
              "<Figure size 432x288 with 1 Axes>"
            ]
          },
          "metadata": {
            "needs_background": "light"
          }
        }
      ]
    },
    {
      "cell_type": "code",
      "metadata": {
        "id": "Kux3o2FCQU1G"
      },
      "source": [
        "pred=model.predict(x_test)"
      ],
      "execution_count": 61,
      "outputs": []
    },
    {
      "cell_type": "code",
      "metadata": {
        "colab": {
          "base_uri": "https://localhost:8080/"
        },
        "id": "4qdJkZc9Yauo",
        "outputId": "72d450ff-a13d-49cb-f28c-9b7b741c3b22"
      },
      "source": [
        "tf.argmax(pred,axis=-1)"
      ],
      "execution_count": 66,
      "outputs": [
        {
          "output_type": "execute_result",
          "data": {
            "text/plain": [
              "<tf.Tensor: shape=(10000,), dtype=int64, numpy=array([9, 2, 1, ..., 8, 1, 5])>"
            ]
          },
          "metadata": {},
          "execution_count": 66
        }
      ]
    },
    {
      "cell_type": "code",
      "metadata": {
        "colab": {
          "base_uri": "https://localhost:8080/"
        },
        "id": "ZP4fKuToYbpq",
        "outputId": "defae6d1-826b-4191-ebb4-3fb2b41a8517"
      },
      "source": [
        "y_test"
      ],
      "execution_count": 67,
      "outputs": [
        {
          "output_type": "execute_result",
          "data": {
            "text/plain": [
              "array([9, 2, 1, ..., 8, 1, 5], dtype=uint8)"
            ]
          },
          "metadata": {},
          "execution_count": 67
        }
      ]
    },
    {
      "cell_type": "code",
      "metadata": {
        "colab": {
          "base_uri": "https://localhost:8080/"
        },
        "id": "wKErPJL0Yjvi",
        "outputId": "d29adf9d-13c6-4e9e-c2b6-be29337e3eb5"
      },
      "source": [
        "acc=tf.reduce_mean(tf.metrics.categorical_accuracy(y_test_hot,pred))\n",
        "print('acc:',acc)\n",
        "loss=tf.reduce_mean(tf.metrics.categorical_crossentropy(y_test_hot,pred))\n",
        "print('loss:',loss)\n",
        "pr=metrics.precision_score(y_test,np.argmax(pred,-1),average='weighted')\n",
        "print('pr:',pr)\n",
        "re=metrics.recall_score(y_test,np.argmax(pred,-1),average='weighted')\n",
        "print('re:',re)\n",
        "confusion_matrix=metrics.confusion_matrix(y_test,np.argmax(pred,-1))"
      ],
      "execution_count": 82,
      "outputs": [
        {
          "output_type": "stream",
          "name": "stdout",
          "text": [
            "acc: tf.Tensor(0.8291, shape=(), dtype=float32)\n",
            "loss: tf.Tensor(0.50246954, shape=(), dtype=float32)\n",
            "pr: 0.8472787975928915\n",
            "re: 0.8291\n"
          ]
        }
      ]
    },
    {
      "cell_type": "code",
      "metadata": {
        "colab": {
          "base_uri": "https://localhost:8080/",
          "height": 609
        },
        "id": "Nw6-SoiuY66C",
        "outputId": "4467e18d-9b94-467e-f34e-aa0cdb3404f2"
      },
      "source": [
        "import seaborn as sns\n",
        "plt.figure(figsize=(10,10))\n",
        "sns.heatmap(confusion_matrix,annot=True,)"
      ],
      "execution_count": 86,
      "outputs": [
        {
          "output_type": "execute_result",
          "data": {
            "text/plain": [
              "<matplotlib.axes._subplots.AxesSubplot at 0x7f9260005fd0>"
            ]
          },
          "metadata": {},
          "execution_count": 86
        },
        {
          "output_type": "display_data",
          "data": {
            "image/png": "[encoded data removed]",
            "text/plain": [
              "<Figure size 720x720 with 2 Axes>"
            ]
          },
          "metadata": {
            "needs_background": "light"
          }
        }
      ]
    },
    {
      "cell_type": "code",
      "metadata": {
        "colab": {
          "base_uri": "https://localhost:8080/"
        },
        "id": "2PYJWJ5Ka0TG",
        "outputId": "14e5c058-d636-4885-a9a3-1ef10abee240"
      },
      "source": [
        "!unzip /content/train.csv.zip"
      ],
      "execution_count": 87,
      "outputs": [
        {
          "output_type": "stream",
          "name": "stdout",
          "text": [
            "Archive:  /content/train.csv.zip\n",
            "  inflating: train.csv               \n"
          ]
        }
      ]
    },
    {
      "cell_type": "code",
      "metadata": {
        "id": "xsysnJEkd8Hv"
      },
      "source": [
        "data_df=pd.read_csv('/content/train.csv')"
      ],
      "execution_count": 105,
      "outputs": []
    },
    {
      "cell_type": "code",
      "metadata": {
        "colab": {
          "base_uri": "https://localhost:8080/"
        },
        "id": "mT1dIKA4eDNv",
        "outputId": "3e67cc8f-3eee-4481-9f36-c8b5a56ce20c"
      },
      "source": [
        "data_df.info()"
      ],
      "execution_count": 106,
      "outputs": [
        {
          "output_type": "stream",
          "name": "stdout",
          "text": [
            "<class 'pandas.core.frame.DataFrame'>\n",
            "RangeIndex: 31962 entries, 0 to 31961\n",
            "Data columns (total 3 columns):\n",
            " #   Column  Non-Null Count  Dtype \n",
            "---  ------  --------------  ----- \n",
            " 0   id      31962 non-null  int64 \n",
            " 1   label   31962 non-null  int64 \n",
            " 2   tweet   31962 non-null  object\n",
            "dtypes: int64(2), object(1)\n",
            "memory usage: 749.2+ KB\n"
          ]
        }
      ]
    },
    {
      "cell_type": "code",
      "metadata": {
        "id": "w3GCQBZ4eEnG"
      },
      "source": [
        "x=data_df.tweet\n",
        "y=data_df.label"
      ],
      "execution_count": 107,
      "outputs": []
    },
    {
      "cell_type": "code",
      "metadata": {
        "colab": {
          "base_uri": "https://localhost:8080/"
        },
        "id": "C5JfgR73eTVn",
        "outputId": "d32afc59-96de-4c15-a1c4-11e0a9141134"
      },
      "source": [
        "x"
      ],
      "execution_count": 108,
      "outputs": [
        {
          "output_type": "execute_result",
          "data": {
            "text/plain": [
              "0         @user when a father is dysfunctional and is s...\n",
              "1        @user @user thanks for #lyft credit i can't us...\n",
              "2                                      bihday your majesty\n",
              "3        #model   i love u take with u all the time in ...\n",
              "4                   factsguide: society now    #motivation\n",
              "                               ...                        \n",
              "31957    ate @user isz that youuu?ðððððð...\n",
              "31958      to see nina turner on the airwaves trying to...\n",
              "31959    listening to sad songs on a monday morning otw...\n",
              "31960    @user #sikh #temple vandalised in in #calgary,...\n",
              "31961                     thank you @user for you follow  \n",
              "Name: tweet, Length: 31962, dtype: object"
            ]
          },
          "metadata": {},
          "execution_count": 108
        }
      ]
    },
    {
      "cell_type": "code",
      "metadata": {
        "colab": {
          "base_uri": "https://localhost:8080/",
          "height": 282
        },
        "id": "zjqWpBwXeUGP",
        "outputId": "79f1473c-9f0c-4439-bd8e-daad3e554eba"
      },
      "source": [
        "y.hist()"
      ],
      "execution_count": 109,
      "outputs": [
        {
          "output_type": "execute_result",
          "data": {
            "text/plain": [
              "<matplotlib.axes._subplots.AxesSubplot at 0x7f925f239f90>"
            ]
          },
          "metadata": {},
          "execution_count": 109
        },
        {
          "output_type": "display_data",
          "data": {
            "image/png": "[encoded data removed]",
            "text/plain": [
              "<Figure size 432x288 with 1 Axes>"
            ]
          },
          "metadata": {
            "needs_background": "light"
          }
        }
      ]
    },
    {
      "cell_type": "code",
      "metadata": {
        "colab": {
          "base_uri": "https://localhost:8080/"
        },
        "id": "zGKQTe7peV-P",
        "outputId": "b3915aae-a935-4366-93c4-f85c7ec8bc3b"
      },
      "source": [
        "sum(y==1)"
      ],
      "execution_count": 110,
      "outputs": [
        {
          "output_type": "execute_result",
          "data": {
            "text/plain": [
              "2242"
            ]
          },
          "metadata": {},
          "execution_count": 110
        }
      ]
    },
    {
      "cell_type": "code",
      "metadata": {
        "id": "E7CRwg0rfUhc"
      },
      "source": [
        "data_y_ones=data_df[(y==1) ]\n",
        "data_y_zeros=data_df[(y==0) ].iloc[:2242]"
      ],
      "execution_count": 111,
      "outputs": []
    },
    {
      "cell_type": "code",
      "metadata": {
        "id": "F1-ThLPbfjev"
      },
      "source": [
        "new_data_df=data_y_ones.append(data_y_zeros)"
      ],
      "execution_count": 115,
      "outputs": []
    },
    {
      "cell_type": "code",
      "metadata": {
        "colab": {
          "base_uri": "https://localhost:8080/",
          "height": 331
        },
        "id": "11DhN9gaf6ou",
        "outputId": "b61e874c-76fb-4d2c-bc81-4dd10fb94e39"
      },
      "source": [
        "new_data_df.hist()"
      ],
      "execution_count": 116,
      "outputs": [
        {
          "output_type": "execute_result",
          "data": {
            "text/plain": [
              "array([[<matplotlib.axes._subplots.AxesSubplot object at 0x7f925f0b4d90>,\n",
              "        <matplotlib.axes._subplots.AxesSubplot object at 0x7f925f0d89d0>]],\n",
              "      dtype=object)"
            ]
          },
          "metadata": {},
          "execution_count": 116
        },
        {
          "output_type": "display_data",
          "data": {
            "image/png": "[encoded data removed]",
            "text/plain": [
              "<Figure size 432x288 with 2 Axes>"
            ]
          },
          "metadata": {
            "needs_background": "light"
          }
        }
      ]
    },
    {
      "cell_type": "code",
      "metadata": {
        "id": "zKj9Cx_JeiID"
      },
      "source": [
        "x=new_data_df.tweet\n",
        "y=new_data_df.label"
      ],
      "execution_count": 117,
      "outputs": []
    },
    {
      "cell_type": "code",
      "metadata": {
        "colab": {
          "base_uri": "https://localhost:8080/",
          "height": 282
        },
        "id": "NHgWIvJXgX9j",
        "outputId": "e622fb8f-43e0-4df2-e919-c49488162d15"
      },
      "source": [
        "y.hist()"
      ],
      "execution_count": 118,
      "outputs": [
        {
          "output_type": "execute_result",
          "data": {
            "text/plain": [
              "<matplotlib.axes._subplots.AxesSubplot at 0x7f925f010190>"
            ]
          },
          "metadata": {},
          "execution_count": 118
        },
        {
          "output_type": "display_data",
          "data": {
            "image/png": "[encoded data removed]",
            "text/plain": [
              "<Figure size 432x288 with 1 Axes>"
            ]
          },
          "metadata": {
            "needs_background": "light"
          }
        }
      ]
    },
    {
      "cell_type": "code",
      "metadata": {
        "colab": {
          "base_uri": "https://localhost:8080/"
        },
        "id": "6axq7yp-gbGT",
        "outputId": "7ae6892e-97ab-4d25-e729-26ea0d36fac3"
      },
      "source": [
        "x"
      ],
      "execution_count": 119,
      "outputs": [
        {
          "output_type": "execute_result",
          "data": {
            "text/plain": [
              "13      @user #cnn calls #michigan middle school 'buil...\n",
              "14      no comment!  in #australia   #opkillingbay #se...\n",
              "17                                 retweet if you agree! \n",
              "23        @user @user lumpy says i am a . prove it lumpy.\n",
              "34      it's unbelievable that in the 21st century we'...\n",
              "                              ...                        \n",
              "2404    found my future husband on the plane to marbs ...\n",
              "2405     , excited, clapping, unbreakable kimmy schmid...\n",
              "2406    not long until the england v wales match! the ...\n",
              "2407               nude rear naughty naked school girls  \n",
              "2408    \"uk now has the highest average level of stude...\n",
              "Name: tweet, Length: 4484, dtype: object"
            ]
          },
          "metadata": {},
          "execution_count": 119
        }
      ]
    },
    {
      "cell_type": "code",
      "metadata": {
        "id": "81vcq2P-ghPD"
      },
      "source": [
        "tokinzer=tf.keras.preprocessing.text.Tokenizer(num_words=5000,)\n",
        "tokinzer.fit_on_texts(x)\n",
        "new_x=tokinzer.texts_to_sequences(x)\n",
        "new_x=tf.keras.preprocessing.sequence.pad_sequences(new_x,maxlen=len(max(new_x,key=len)),padding='post')"
      ],
      "execution_count": 131,
      "outputs": []
    },
    {
      "cell_type": "code",
      "metadata": {
        "colab": {
          "base_uri": "https://localhost:8080/"
        },
        "id": "MlYkTJCLgtKz",
        "outputId": "533b4386-fa3e-40bf-a402-bf2e36473592"
      },
      "source": [
        "new_x.shape"
      ],
      "execution_count": 134,
      "outputs": [
        {
          "output_type": "execute_result",
          "data": {
            "text/plain": [
              "(4484, 30)"
            ]
          },
          "metadata": {},
          "execution_count": 134
        }
      ]
    },
    {
      "cell_type": "code",
      "metadata": {
        "id": "fMEVZKSXg8j7"
      },
      "source": [
        "x_train,x_test,y_train,y_test=model_selection.train_test_split(new_x,y,test_size=0.1,stratify=y,random_state=42)"
      ],
      "execution_count": 135,
      "outputs": []
    },
    {
      "cell_type": "code",
      "metadata": {
        "id": "RNSYFuIkhj-r"
      },
      "source": [
        "#create the model \n",
        "#create the model \n",
        "model=tf.keras.models.Sequential([\n",
        "                                  tf.keras.layers.Input(shape=(30)),\n",
        "                                  tf.keras.layers.Embedding(5000,30),\n",
        "                                  tf.keras.layers.Flatten(),\n",
        "                                  \n",
        "                                  tf.keras.layers.Dense(1,activation=tf.nn.sigmoid)\n",
        "                                  \n",
        "])"
      ],
      "execution_count": 166,
      "outputs": []
    },
    {
      "cell_type": "code",
      "metadata": {
        "colab": {
          "base_uri": "https://localhost:8080/"
        },
        "id": "zTUwOLjJj4tz",
        "outputId": "6f44c467-9ba9-427a-dc33-438278ac77c1"
      },
      "source": [
        "model.summary()"
      ],
      "execution_count": 167,
      "outputs": [
        {
          "output_type": "stream",
          "name": "stdout",
          "text": [
            "Model: \"sequential_14\"\n",
            "_________________________________________________________________\n",
            "Layer (type)                 Output Shape              Param #   \n",
            "=================================================================\n",
            "embedding_3 (Embedding)      (None, 30, 30)            150000    \n",
            "_________________________________________________________________\n",
            "flatten_3 (Flatten)          (None, 900)               0         \n",
            "_________________________________________________________________\n",
            "dense_7 (Dense)              (None, 1)                 901       \n",
            "=================================================================\n",
            "Total params: 150,901\n",
            "Trainable params: 150,901\n",
            "Non-trainable params: 0\n",
            "_________________________________________________________________\n"
          ]
        }
      ]
    },
    {
      "cell_type": "code",
      "metadata": {
        "id": "Az3eeyXzj98Y"
      },
      "source": [
        "model.compile(optimizer=tf.optimizers.Adam(),loss=tf.losses.BinaryCrossentropy(),metrics=['acc'])"
      ],
      "execution_count": 168,
      "outputs": []
    },
    {
      "cell_type": "code",
      "metadata": {
        "colab": {
          "base_uri": "https://localhost:8080/",
          "height": 1000
        },
        "id": "BGLYZfZmkM_4",
        "outputId": "3fc6eaba-f642-40a7-bd20-522e032224cd"
      },
      "source": [
        "model.fit(x=x_train,y=y_train,batch_size=64,epochs=100,validation_data=(x_test,y_test))"
      ],
      "execution_count": 169,
      "outputs": [
        {
          "output_type": "stream",
          "name": "stdout",
          "text": [
            "Epoch 1/100\n"
          ]
        },
        {
          "output_type": "stream",
          "name": "stderr",
          "text": [
            "Exception ignored in: <function IteratorResourceDeleter.__del__ at 0x7f92ec64e830>\n",
            "Traceback (most recent call last):\n",
            "  File \"/usr/local/lib/python3.7/dist-packages/tensorflow/python/data/ops/iterator_ops.py\", line 546, in __del__\n",
            "    handle=self._handle, deleter=self._deleter)\n",
            "  File \"/usr/local/lib/python3.7/dist-packages/tensorflow/python/ops/gen_dataset_ops.py\", line 1264, in delete_iterator\n",
            "    _ctx, \"DeleteIterator\", name, handle, deleter)\n",
            "KeyboardInterrupt: \n"
          ]
        },
        {
          "output_type": "stream",
          "name": "stdout",
          "text": [
            "64/64 [==============================] - 51s 8ms/step - loss: 0.6739 - acc: 0.6188 - val_loss: 0.6467 - val_acc: 0.6682\n",
            "Epoch 2/100\n",
            "64/64 [==============================] - 0s 6ms/step - loss: 0.5840 - acc: 0.7544 - val_loss: 0.5626 - val_acc: 0.7149\n",
            "Epoch 3/100\n",
            "64/64 [==============================] - 0s 6ms/step - loss: 0.4550 - acc: 0.8260 - val_loss: 0.4784 - val_acc: 0.7751\n",
            "Epoch 4/100\n",
            "64/64 [==============================] - 0s 6ms/step - loss: 0.3354 - acc: 0.8969 - val_loss: 0.4095 - val_acc: 0.8330\n",
            "Epoch 5/100\n",
            "64/64 [==============================] - 0s 6ms/step - loss: 0.2491 - acc: 0.9413 - val_loss: 0.3740 - val_acc: 0.8396\n",
            "Epoch 6/100\n",
            "64/64 [==============================] - 0s 6ms/step - loss: 0.1876 - acc: 0.9569 - val_loss: 0.3504 - val_acc: 0.8530\n",
            "Epoch 7/100\n",
            "64/64 [==============================] - 0s 6ms/step - loss: 0.1449 - acc: 0.9710 - val_loss: 0.3376 - val_acc: 0.8597\n",
            "Epoch 8/100\n",
            "64/64 [==============================] - 0s 6ms/step - loss: 0.1142 - acc: 0.9799 - val_loss: 0.3258 - val_acc: 0.8664\n",
            "Epoch 9/100\n",
            "64/64 [==============================] - 0s 6ms/step - loss: 0.0912 - acc: 0.9856 - val_loss: 0.3268 - val_acc: 0.8619\n",
            "Epoch 10/100\n",
            "64/64 [==============================] - 0s 6ms/step - loss: 0.0744 - acc: 0.9896 - val_loss: 0.3228 - val_acc: 0.8641\n",
            "Epoch 11/100\n",
            "64/64 [==============================] - 0s 6ms/step - loss: 0.0607 - acc: 0.9938 - val_loss: 0.3265 - val_acc: 0.8619\n",
            "Epoch 12/100\n",
            "64/64 [==============================] - 0s 5ms/step - loss: 0.0509 - acc: 0.9943 - val_loss: 0.3208 - val_acc: 0.8686\n",
            "Epoch 13/100\n",
            "64/64 [==============================] - 0s 6ms/step - loss: 0.0431 - acc: 0.9955 - val_loss: 0.3274 - val_acc: 0.8686\n",
            "Epoch 14/100\n",
            "64/64 [==============================] - 0s 6ms/step - loss: 0.0367 - acc: 0.9965 - val_loss: 0.3280 - val_acc: 0.8731\n",
            "Epoch 15/100\n",
            "64/64 [==============================] - 0s 6ms/step - loss: 0.0316 - acc: 0.9973 - val_loss: 0.3307 - val_acc: 0.8797\n",
            "Epoch 16/100\n",
            "64/64 [==============================] - 0s 6ms/step - loss: 0.0274 - acc: 0.9980 - val_loss: 0.3314 - val_acc: 0.8797\n",
            "Epoch 17/100\n",
            "64/64 [==============================] - 0s 5ms/step - loss: 0.0239 - acc: 0.9983 - val_loss: 0.3388 - val_acc: 0.8753\n",
            "Epoch 18/100\n",
            "64/64 [==============================] - 0s 6ms/step - loss: 0.0211 - acc: 0.9990 - val_loss: 0.3368 - val_acc: 0.8797\n",
            "Epoch 19/100\n",
            "64/64 [==============================] - 0s 6ms/step - loss: 0.0187 - acc: 0.9990 - val_loss: 0.3464 - val_acc: 0.8753\n",
            "Epoch 20/100\n",
            "64/64 [==============================] - 0s 6ms/step - loss: 0.0165 - acc: 0.9990 - val_loss: 0.3451 - val_acc: 0.8753\n",
            "Epoch 21/100\n",
            "64/64 [==============================] - 0s 6ms/step - loss: 0.0148 - acc: 0.9990 - val_loss: 0.3505 - val_acc: 0.8775\n",
            "Epoch 22/100\n",
            "64/64 [==============================] - 0s 6ms/step - loss: 0.0133 - acc: 0.9993 - val_loss: 0.3566 - val_acc: 0.8775\n",
            "Epoch 23/100\n",
            "64/64 [==============================] - 0s 5ms/step - loss: 0.0120 - acc: 0.9995 - val_loss: 0.3578 - val_acc: 0.8753\n",
            "Epoch 24/100\n",
            "64/64 [==============================] - 0s 6ms/step - loss: 0.0108 - acc: 0.9998 - val_loss: 0.3670 - val_acc: 0.8731\n",
            "Epoch 25/100\n",
            "64/64 [==============================] - 0s 6ms/step - loss: 0.0098 - acc: 0.9998 - val_loss: 0.3680 - val_acc: 0.8753\n",
            "Epoch 26/100\n",
            "64/64 [==============================] - 0s 6ms/step - loss: 0.0090 - acc: 0.9998 - val_loss: 0.3691 - val_acc: 0.8753\n",
            "Epoch 27/100\n",
            "64/64 [==============================] - 0s 6ms/step - loss: 0.0082 - acc: 0.9998 - val_loss: 0.3740 - val_acc: 0.8753\n",
            "Epoch 28/100\n",
            "64/64 [==============================] - 0s 5ms/step - loss: 0.0075 - acc: 0.9998 - val_loss: 0.3830 - val_acc: 0.8753\n",
            "Epoch 29/100\n",
            "64/64 [==============================] - 0s 6ms/step - loss: 0.0069 - acc: 0.9998 - val_loss: 0.3834 - val_acc: 0.8731\n",
            "Epoch 30/100\n",
            "64/64 [==============================] - 0s 6ms/step - loss: 0.0063 - acc: 0.9998 - val_loss: 0.3801 - val_acc: 0.8775\n",
            "Epoch 31/100\n",
            "64/64 [==============================] - 0s 6ms/step - loss: 0.0059 - acc: 0.9998 - val_loss: 0.3888 - val_acc: 0.8753\n",
            "Epoch 32/100\n",
            "64/64 [==============================] - 0s 6ms/step - loss: 0.0054 - acc: 0.9998 - val_loss: 0.3910 - val_acc: 0.8753\n",
            "Epoch 33/100\n",
            "64/64 [==============================] - 0s 6ms/step - loss: 0.0051 - acc: 0.9998 - val_loss: 0.3916 - val_acc: 0.8753\n",
            "Epoch 34/100\n",
            "64/64 [==============================] - 0s 6ms/step - loss: 0.0047 - acc: 0.9998 - val_loss: 0.3974 - val_acc: 0.8753\n",
            "Epoch 35/100\n",
            "64/64 [==============================] - 0s 6ms/step - loss: 0.0044 - acc: 0.9998 - val_loss: 0.4061 - val_acc: 0.8753\n",
            "Epoch 36/100\n",
            "64/64 [==============================] - 0s 6ms/step - loss: 0.0041 - acc: 0.9998 - val_loss: 0.4043 - val_acc: 0.8775\n",
            "Epoch 37/100\n",
            "64/64 [==============================] - 0s 6ms/step - loss: 0.0038 - acc: 0.9998 - val_loss: 0.4029 - val_acc: 0.8753\n",
            "Epoch 38/100\n",
            "64/64 [==============================] - 0s 6ms/step - loss: 0.0036 - acc: 0.9998 - val_loss: 0.4088 - val_acc: 0.8731\n",
            "Epoch 39/100\n",
            "64/64 [==============================] - 0s 6ms/step - loss: 0.0033 - acc: 0.9998 - val_loss: 0.4121 - val_acc: 0.8753\n",
            "Epoch 40/100\n",
            "64/64 [==============================] - 0s 6ms/step - loss: 0.0031 - acc: 0.9998 - val_loss: 0.4213 - val_acc: 0.8753\n",
            "Epoch 41/100\n",
            "64/64 [==============================] - 0s 6ms/step - loss: 0.0029 - acc: 0.9998 - val_loss: 0.4202 - val_acc: 0.8753\n",
            "Epoch 42/100\n",
            "64/64 [==============================] - 0s 5ms/step - loss: 0.0027 - acc: 1.0000 - val_loss: 0.4223 - val_acc: 0.8753\n",
            "Epoch 43/100\n",
            "61/64 [===========================>..] - ETA: 0s - loss: 0.0026 - acc: 1.0000"
          ]
        },
        {
          "output_type": "error",
          "ename": "KeyboardInterrupt",
          "evalue": "ignored",
          "traceback": [
            "\u001b[0;31m---------------------------------------------------------------------------\u001b[0m",
            "\u001b[0;31mKeyboardInterrupt\u001b[0m                         Traceback (most recent call last)",
            "\u001b[0;32m<ipython-input-169-4cec098028b0>\u001b[0m in \u001b[0;36m<module>\u001b[0;34m()\u001b[0m\n\u001b[0;32m----> 1\u001b[0;31m \u001b[0mmodel\u001b[0m\u001b[0;34m.\u001b[0m\u001b[0mfit\u001b[0m\u001b[0;34m(\u001b[0m\u001b[0mx\u001b[0m\u001b[0;34m=\u001b[0m\u001b[0mx_train\u001b[0m\u001b[0;34m,\u001b[0m\u001b[0my\u001b[0m\u001b[0;34m=\u001b[0m\u001b[0my_train\u001b[0m\u001b[0;34m,\u001b[0m\u001b[0mbatch_size\u001b[0m\u001b[0;34m=\u001b[0m\u001b[0;36m64\u001b[0m\u001b[0;34m,\u001b[0m\u001b[0mepochs\u001b[0m\u001b[0;34m=\u001b[0m\u001b[0;36m100\u001b[0m\u001b[0;34m,\u001b[0m\u001b[0mvalidation_data\u001b[0m\u001b[0;34m=\u001b[0m\u001b[0;34m(\u001b[0m\u001b[0mx_test\u001b[0m\u001b[0;34m,\u001b[0m\u001b[0my_test\u001b[0m\u001b[0;34m)\u001b[0m\u001b[0;34m)\u001b[0m\u001b[0;34m\u001b[0m\u001b[0;34m\u001b[0m\u001b[0m\n\u001b[0m",
            "\u001b[0;32m/usr/local/lib/python3.7/dist-packages/keras/engine/training.py\u001b[0m in \u001b[0;36mfit\u001b[0;34m(self, x, y, batch_size, epochs, verbose, callbacks, validation_split, validation_data, shuffle, class_weight, sample_weight, initial_epoch, steps_per_epoch, validation_steps, validation_batch_size, validation_freq, max_queue_size, workers, use_multiprocessing)\u001b[0m\n\u001b[1;32m   1224\u001b[0m               \u001b[0muse_multiprocessing\u001b[0m\u001b[0;34m=\u001b[0m\u001b[0muse_multiprocessing\u001b[0m\u001b[0;34m,\u001b[0m\u001b[0;34m\u001b[0m\u001b[0;34m\u001b[0m\u001b[0m\n\u001b[1;32m   1225\u001b[0m               \u001b[0mreturn_dict\u001b[0m\u001b[0;34m=\u001b[0m\u001b[0;32mTrue\u001b[0m\u001b[0;34m,\u001b[0m\u001b[0;34m\u001b[0m\u001b[0;34m\u001b[0m\u001b[0m\n\u001b[0;32m-> 1226\u001b[0;31m               _use_cached_eval_dataset=True)\n\u001b[0m\u001b[1;32m   1227\u001b[0m           \u001b[0mval_logs\u001b[0m \u001b[0;34m=\u001b[0m \u001b[0;34m{\u001b[0m\u001b[0;34m'val_'\u001b[0m \u001b[0;34m+\u001b[0m \u001b[0mname\u001b[0m\u001b[0;34m:\u001b[0m \u001b[0mval\u001b[0m \u001b[0;32mfor\u001b[0m \u001b[0mname\u001b[0m\u001b[0;34m,\u001b[0m \u001b[0mval\u001b[0m \u001b[0;32min\u001b[0m \u001b[0mval_logs\u001b[0m\u001b[0;34m.\u001b[0m\u001b[0mitems\u001b[0m\u001b[0;34m(\u001b[0m\u001b[0;34m)\u001b[0m\u001b[0;34m}\u001b[0m\u001b[0;34m\u001b[0m\u001b[0;34m\u001b[0m\u001b[0m\n\u001b[1;32m   1228\u001b[0m           \u001b[0mepoch_logs\u001b[0m\u001b[0;34m.\u001b[0m\u001b[0mupdate\u001b[0m\u001b[0;34m(\u001b[0m\u001b[0mval_logs\u001b[0m\u001b[0;34m)\u001b[0m\u001b[0;34m\u001b[0m\u001b[0;34m\u001b[0m\u001b[0m\n",
            "\u001b[0;32m/usr/local/lib/python3.7/dist-packages/keras/engine/training.py\u001b[0m in \u001b[0;36mevaluate\u001b[0;34m(self, x, y, batch_size, verbose, sample_weight, steps, callbacks, max_queue_size, workers, use_multiprocessing, return_dict, **kwargs)\u001b[0m\n\u001b[1;32m   1494\u001b[0m       \u001b[0mcallbacks\u001b[0m\u001b[0;34m.\u001b[0m\u001b[0mon_test_begin\u001b[0m\u001b[0;34m(\u001b[0m\u001b[0;34m)\u001b[0m\u001b[0;34m\u001b[0m\u001b[0;34m\u001b[0m\u001b[0m\n\u001b[1;32m   1495\u001b[0m       \u001b[0;32mfor\u001b[0m \u001b[0m_\u001b[0m\u001b[0;34m,\u001b[0m \u001b[0miterator\u001b[0m \u001b[0;32min\u001b[0m \u001b[0mdata_handler\u001b[0m\u001b[0;34m.\u001b[0m\u001b[0menumerate_epochs\u001b[0m\u001b[0;34m(\u001b[0m\u001b[0;34m)\u001b[0m\u001b[0;34m:\u001b[0m  \u001b[0;31m# Single epoch.\u001b[0m\u001b[0;34m\u001b[0m\u001b[0;34m\u001b[0m\u001b[0m\n\u001b[0;32m-> 1496\u001b[0;31m         \u001b[0mself\u001b[0m\u001b[0;34m.\u001b[0m\u001b[0mreset_metrics\u001b[0m\u001b[0;34m(\u001b[0m\u001b[0;34m)\u001b[0m\u001b[0;34m\u001b[0m\u001b[0;34m\u001b[0m\u001b[0m\n\u001b[0m\u001b[1;32m   1497\u001b[0m         \u001b[0;32mwith\u001b[0m \u001b[0mdata_handler\u001b[0m\u001b[0;34m.\u001b[0m\u001b[0mcatch_stop_iteration\u001b[0m\u001b[0;34m(\u001b[0m\u001b[0;34m)\u001b[0m\u001b[0;34m:\u001b[0m\u001b[0;34m\u001b[0m\u001b[0;34m\u001b[0m\u001b[0m\n\u001b[1;32m   1498\u001b[0m           \u001b[0;32mfor\u001b[0m \u001b[0mstep\u001b[0m \u001b[0;32min\u001b[0m \u001b[0mdata_handler\u001b[0m\u001b[0;34m.\u001b[0m\u001b[0msteps\u001b[0m\u001b[0;34m(\u001b[0m\u001b[0;34m)\u001b[0m\u001b[0;34m:\u001b[0m\u001b[0;34m\u001b[0m\u001b[0;34m\u001b[0m\u001b[0m\n",
            "\u001b[0;32m/usr/local/lib/python3.7/dist-packages/keras/engine/training.py\u001b[0m in \u001b[0;36mreset_metrics\u001b[0;34m(self)\u001b[0m\n\u001b[1;32m   1796\u001b[0m     \"\"\"\n\u001b[1;32m   1797\u001b[0m     \u001b[0;32mfor\u001b[0m \u001b[0mm\u001b[0m \u001b[0;32min\u001b[0m \u001b[0mself\u001b[0m\u001b[0;34m.\u001b[0m\u001b[0mmetrics\u001b[0m\u001b[0;34m:\u001b[0m\u001b[0;34m\u001b[0m\u001b[0;34m\u001b[0m\u001b[0m\n\u001b[0;32m-> 1798\u001b[0;31m       \u001b[0mm\u001b[0m\u001b[0;34m.\u001b[0m\u001b[0mreset_state\u001b[0m\u001b[0;34m(\u001b[0m\u001b[0;34m)\u001b[0m\u001b[0;34m\u001b[0m\u001b[0;34m\u001b[0m\u001b[0m\n\u001b[0m\u001b[1;32m   1799\u001b[0m \u001b[0;34m\u001b[0m\u001b[0m\n\u001b[1;32m   1800\u001b[0m   def train_on_batch(self,\n",
            "\u001b[0;32m/usr/local/lib/python3.7/dist-packages/keras/metrics.py\u001b[0m in \u001b[0;36mreset_state\u001b[0;34m(self)\u001b[0m\n\u001b[1;32m    258\u001b[0m       \u001b[0;32mreturn\u001b[0m \u001b[0mself\u001b[0m\u001b[0;34m.\u001b[0m\u001b[0mreset_states\u001b[0m\u001b[0;34m(\u001b[0m\u001b[0;34m)\u001b[0m\u001b[0;34m\u001b[0m\u001b[0;34m\u001b[0m\u001b[0m\n\u001b[1;32m    259\u001b[0m     \u001b[0;32melse\u001b[0m\u001b[0;34m:\u001b[0m\u001b[0;34m\u001b[0m\u001b[0;34m\u001b[0m\u001b[0m\n\u001b[0;32m--> 260\u001b[0;31m       \u001b[0mbackend\u001b[0m\u001b[0;34m.\u001b[0m\u001b[0mbatch_set_value\u001b[0m\u001b[0;34m(\u001b[0m\u001b[0;34m[\u001b[0m\u001b[0;34m(\u001b[0m\u001b[0mv\u001b[0m\u001b[0;34m,\u001b[0m \u001b[0;36m0\u001b[0m\u001b[0;34m)\u001b[0m \u001b[0;32mfor\u001b[0m \u001b[0mv\u001b[0m \u001b[0;32min\u001b[0m \u001b[0mself\u001b[0m\u001b[0;34m.\u001b[0m\u001b[0mvariables\u001b[0m\u001b[0;34m]\u001b[0m\u001b[0;34m)\u001b[0m\u001b[0;34m\u001b[0m\u001b[0;34m\u001b[0m\u001b[0m\n\u001b[0m\u001b[1;32m    261\u001b[0m \u001b[0;34m\u001b[0m\u001b[0m\n\u001b[1;32m    262\u001b[0m   \u001b[0;34m@\u001b[0m\u001b[0mabc\u001b[0m\u001b[0;34m.\u001b[0m\u001b[0mabstractmethod\u001b[0m\u001b[0;34m\u001b[0m\u001b[0;34m\u001b[0m\u001b[0m\n",
            "\u001b[0;32m/usr/local/lib/python3.7/dist-packages/tensorflow/python/util/dispatch.py\u001b[0m in \u001b[0;36mwrapper\u001b[0;34m(*args, **kwargs)\u001b[0m\n\u001b[1;32m    204\u001b[0m     \u001b[0;34m\"\"\"Call target, and fall back on dispatchers if there is a TypeError.\"\"\"\u001b[0m\u001b[0;34m\u001b[0m\u001b[0;34m\u001b[0m\u001b[0m\n\u001b[1;32m    205\u001b[0m     \u001b[0;32mtry\u001b[0m\u001b[0;34m:\u001b[0m\u001b[0;34m\u001b[0m\u001b[0;34m\u001b[0m\u001b[0m\n\u001b[0;32m--> 206\u001b[0;31m       \u001b[0;32mreturn\u001b[0m \u001b[0mtarget\u001b[0m\u001b[0;34m(\u001b[0m\u001b[0;34m*\u001b[0m\u001b[0margs\u001b[0m\u001b[0;34m,\u001b[0m \u001b[0;34m**\u001b[0m\u001b[0mkwargs\u001b[0m\u001b[0;34m)\u001b[0m\u001b[0;34m\u001b[0m\u001b[0;34m\u001b[0m\u001b[0m\n\u001b[0m\u001b[1;32m    207\u001b[0m     \u001b[0;32mexcept\u001b[0m \u001b[0;34m(\u001b[0m\u001b[0mTypeError\u001b[0m\u001b[0;34m,\u001b[0m \u001b[0mValueError\u001b[0m\u001b[0;34m)\u001b[0m\u001b[0;34m:\u001b[0m\u001b[0;34m\u001b[0m\u001b[0;34m\u001b[0m\u001b[0m\n\u001b[1;32m    208\u001b[0m       \u001b[0;31m# Note: convert_to_eager_tensor currently raises a ValueError, not a\u001b[0m\u001b[0;34m\u001b[0m\u001b[0;34m\u001b[0m\u001b[0;34m\u001b[0m\u001b[0m\n",
            "\u001b[0;32m/usr/local/lib/python3.7/dist-packages/keras/backend.py\u001b[0m in \u001b[0;36mbatch_set_value\u001b[0;34m(tuples)\u001b[0m\n\u001b[1;32m   3773\u001b[0m   \u001b[0;32mif\u001b[0m \u001b[0mtf\u001b[0m\u001b[0;34m.\u001b[0m\u001b[0mcompat\u001b[0m\u001b[0;34m.\u001b[0m\u001b[0mv1\u001b[0m\u001b[0;34m.\u001b[0m\u001b[0mexecuting_eagerly_outside_functions\u001b[0m\u001b[0;34m(\u001b[0m\u001b[0;34m)\u001b[0m\u001b[0;34m:\u001b[0m\u001b[0;34m\u001b[0m\u001b[0;34m\u001b[0m\u001b[0m\n\u001b[1;32m   3774\u001b[0m     \u001b[0;32mfor\u001b[0m \u001b[0mx\u001b[0m\u001b[0;34m,\u001b[0m \u001b[0mvalue\u001b[0m \u001b[0;32min\u001b[0m \u001b[0mtuples\u001b[0m\u001b[0;34m:\u001b[0m\u001b[0;34m\u001b[0m\u001b[0;34m\u001b[0m\u001b[0m\n\u001b[0;32m-> 3775\u001b[0;31m       \u001b[0mx\u001b[0m\u001b[0;34m.\u001b[0m\u001b[0massign\u001b[0m\u001b[0;34m(\u001b[0m\u001b[0mnp\u001b[0m\u001b[0;34m.\u001b[0m\u001b[0masarray\u001b[0m\u001b[0;34m(\u001b[0m\u001b[0mvalue\u001b[0m\u001b[0;34m,\u001b[0m \u001b[0mdtype\u001b[0m\u001b[0;34m=\u001b[0m\u001b[0mdtype_numpy\u001b[0m\u001b[0;34m(\u001b[0m\u001b[0mx\u001b[0m\u001b[0;34m)\u001b[0m\u001b[0;34m)\u001b[0m\u001b[0;34m)\u001b[0m\u001b[0;34m\u001b[0m\u001b[0;34m\u001b[0m\u001b[0m\n\u001b[0m\u001b[1;32m   3776\u001b[0m   \u001b[0;32melse\u001b[0m\u001b[0;34m:\u001b[0m\u001b[0;34m\u001b[0m\u001b[0;34m\u001b[0m\u001b[0m\n\u001b[1;32m   3777\u001b[0m     \u001b[0;32mwith\u001b[0m \u001b[0mget_graph\u001b[0m\u001b[0;34m(\u001b[0m\u001b[0;34m)\u001b[0m\u001b[0;34m.\u001b[0m\u001b[0mas_default\u001b[0m\u001b[0;34m(\u001b[0m\u001b[0;34m)\u001b[0m\u001b[0;34m:\u001b[0m\u001b[0;34m\u001b[0m\u001b[0;34m\u001b[0m\u001b[0m\n",
            "\u001b[0;32m/usr/local/lib/python3.7/dist-packages/tensorflow/python/ops/resource_variable_ops.py\u001b[0m in \u001b[0;36massign\u001b[0;34m(self, value, use_locking, name, read_value)\u001b[0m\n\u001b[1;32m    891\u001b[0m     \u001b[0;31m# initialize the variable.\u001b[0m\u001b[0;34m\u001b[0m\u001b[0;34m\u001b[0m\u001b[0;34m\u001b[0m\u001b[0m\n\u001b[1;32m    892\u001b[0m     \u001b[0;32mwith\u001b[0m \u001b[0m_handle_graph\u001b[0m\u001b[0;34m(\u001b[0m\u001b[0mself\u001b[0m\u001b[0;34m.\u001b[0m\u001b[0mhandle\u001b[0m\u001b[0;34m)\u001b[0m\u001b[0;34m:\u001b[0m\u001b[0;34m\u001b[0m\u001b[0;34m\u001b[0m\u001b[0m\n\u001b[0;32m--> 893\u001b[0;31m       \u001b[0mvalue_tensor\u001b[0m \u001b[0;34m=\u001b[0m \u001b[0mops\u001b[0m\u001b[0;34m.\u001b[0m\u001b[0mconvert_to_tensor\u001b[0m\u001b[0;34m(\u001b[0m\u001b[0mvalue\u001b[0m\u001b[0;34m,\u001b[0m \u001b[0mdtype\u001b[0m\u001b[0;34m=\u001b[0m\u001b[0mself\u001b[0m\u001b[0;34m.\u001b[0m\u001b[0mdtype\u001b[0m\u001b[0;34m)\u001b[0m\u001b[0;34m\u001b[0m\u001b[0;34m\u001b[0m\u001b[0m\n\u001b[0m\u001b[1;32m    894\u001b[0m       \u001b[0;32mif\u001b[0m \u001b[0;32mnot\u001b[0m \u001b[0mself\u001b[0m\u001b[0;34m.\u001b[0m\u001b[0m_shape\u001b[0m\u001b[0;34m.\u001b[0m\u001b[0mis_compatible_with\u001b[0m\u001b[0;34m(\u001b[0m\u001b[0mvalue_tensor\u001b[0m\u001b[0;34m.\u001b[0m\u001b[0mshape\u001b[0m\u001b[0;34m)\u001b[0m\u001b[0;34m:\u001b[0m\u001b[0;34m\u001b[0m\u001b[0;34m\u001b[0m\u001b[0m\n\u001b[1;32m    895\u001b[0m         \u001b[0;32mif\u001b[0m \u001b[0mself\u001b[0m\u001b[0;34m.\u001b[0m\u001b[0mname\u001b[0m \u001b[0;32mis\u001b[0m \u001b[0;32mNone\u001b[0m\u001b[0;34m:\u001b[0m\u001b[0;34m\u001b[0m\u001b[0;34m\u001b[0m\u001b[0m\n",
            "\u001b[0;32m/usr/local/lib/python3.7/dist-packages/tensorflow/python/profiler/trace.py\u001b[0m in \u001b[0;36mwrapped\u001b[0;34m(*args, **kwargs)\u001b[0m\n\u001b[1;32m    161\u001b[0m         \u001b[0;32mwith\u001b[0m \u001b[0mTrace\u001b[0m\u001b[0;34m(\u001b[0m\u001b[0mtrace_name\u001b[0m\u001b[0;34m,\u001b[0m \u001b[0;34m**\u001b[0m\u001b[0mtrace_kwargs\u001b[0m\u001b[0;34m)\u001b[0m\u001b[0;34m:\u001b[0m\u001b[0;34m\u001b[0m\u001b[0;34m\u001b[0m\u001b[0m\n\u001b[1;32m    162\u001b[0m           \u001b[0;32mreturn\u001b[0m \u001b[0mfunc\u001b[0m\u001b[0;34m(\u001b[0m\u001b[0;34m*\u001b[0m\u001b[0margs\u001b[0m\u001b[0;34m,\u001b[0m \u001b[0;34m**\u001b[0m\u001b[0mkwargs\u001b[0m\u001b[0;34m)\u001b[0m\u001b[0;34m\u001b[0m\u001b[0;34m\u001b[0m\u001b[0m\n\u001b[0;32m--> 163\u001b[0;31m       \u001b[0;32mreturn\u001b[0m \u001b[0mfunc\u001b[0m\u001b[0;34m(\u001b[0m\u001b[0;34m*\u001b[0m\u001b[0margs\u001b[0m\u001b[0;34m,\u001b[0m \u001b[0;34m**\u001b[0m\u001b[0mkwargs\u001b[0m\u001b[0;34m)\u001b[0m\u001b[0;34m\u001b[0m\u001b[0;34m\u001b[0m\u001b[0m\n\u001b[0m\u001b[1;32m    164\u001b[0m \u001b[0;34m\u001b[0m\u001b[0m\n\u001b[1;32m    165\u001b[0m     \u001b[0;32mreturn\u001b[0m \u001b[0mwrapped\u001b[0m\u001b[0;34m\u001b[0m\u001b[0;34m\u001b[0m\u001b[0m\n",
            "\u001b[0;32m/usr/local/lib/python3.7/dist-packages/tensorflow/python/framework/ops.py\u001b[0m in \u001b[0;36mconvert_to_tensor\u001b[0;34m(value, dtype, name, as_ref, preferred_dtype, dtype_hint, ctx, accepted_result_types)\u001b[0m\n\u001b[1;32m   1564\u001b[0m \u001b[0;34m\u001b[0m\u001b[0m\n\u001b[1;32m   1565\u001b[0m     \u001b[0;32mif\u001b[0m \u001b[0mret\u001b[0m \u001b[0;32mis\u001b[0m \u001b[0;32mNone\u001b[0m\u001b[0;34m:\u001b[0m\u001b[0;34m\u001b[0m\u001b[0;34m\u001b[0m\u001b[0m\n\u001b[0;32m-> 1566\u001b[0;31m       \u001b[0mret\u001b[0m \u001b[0;34m=\u001b[0m \u001b[0mconversion_func\u001b[0m\u001b[0;34m(\u001b[0m\u001b[0mvalue\u001b[0m\u001b[0;34m,\u001b[0m \u001b[0mdtype\u001b[0m\u001b[0;34m=\u001b[0m\u001b[0mdtype\u001b[0m\u001b[0;34m,\u001b[0m \u001b[0mname\u001b[0m\u001b[0;34m=\u001b[0m\u001b[0mname\u001b[0m\u001b[0;34m,\u001b[0m \u001b[0mas_ref\u001b[0m\u001b[0;34m=\u001b[0m\u001b[0mas_ref\u001b[0m\u001b[0;34m)\u001b[0m\u001b[0;34m\u001b[0m\u001b[0;34m\u001b[0m\u001b[0m\n\u001b[0m\u001b[1;32m   1567\u001b[0m \u001b[0;34m\u001b[0m\u001b[0m\n\u001b[1;32m   1568\u001b[0m     \u001b[0;32mif\u001b[0m \u001b[0mret\u001b[0m \u001b[0;32mis\u001b[0m \u001b[0mNotImplemented\u001b[0m\u001b[0;34m:\u001b[0m\u001b[0;34m\u001b[0m\u001b[0;34m\u001b[0m\u001b[0m\n",
            "\u001b[0;32m/usr/local/lib/python3.7/dist-packages/tensorflow/python/framework/tensor_conversion_registry.py\u001b[0m in \u001b[0;36m_default_conversion_function\u001b[0;34m(***failed resolving arguments***)\u001b[0m\n\u001b[1;32m     50\u001b[0m \u001b[0;32mdef\u001b[0m \u001b[0m_default_conversion_function\u001b[0m\u001b[0;34m(\u001b[0m\u001b[0mvalue\u001b[0m\u001b[0;34m,\u001b[0m \u001b[0mdtype\u001b[0m\u001b[0;34m,\u001b[0m \u001b[0mname\u001b[0m\u001b[0;34m,\u001b[0m \u001b[0mas_ref\u001b[0m\u001b[0;34m)\u001b[0m\u001b[0;34m:\u001b[0m\u001b[0;34m\u001b[0m\u001b[0;34m\u001b[0m\u001b[0m\n\u001b[1;32m     51\u001b[0m   \u001b[0;32mdel\u001b[0m \u001b[0mas_ref\u001b[0m  \u001b[0;31m# Unused.\u001b[0m\u001b[0;34m\u001b[0m\u001b[0;34m\u001b[0m\u001b[0m\n\u001b[0;32m---> 52\u001b[0;31m   \u001b[0;32mreturn\u001b[0m \u001b[0mconstant_op\u001b[0m\u001b[0;34m.\u001b[0m\u001b[0mconstant\u001b[0m\u001b[0;34m(\u001b[0m\u001b[0mvalue\u001b[0m\u001b[0;34m,\u001b[0m \u001b[0mdtype\u001b[0m\u001b[0;34m,\u001b[0m \u001b[0mname\u001b[0m\u001b[0;34m=\u001b[0m\u001b[0mname\u001b[0m\u001b[0;34m)\u001b[0m\u001b[0;34m\u001b[0m\u001b[0;34m\u001b[0m\u001b[0m\n\u001b[0m\u001b[1;32m     53\u001b[0m \u001b[0;34m\u001b[0m\u001b[0m\n\u001b[1;32m     54\u001b[0m \u001b[0;34m\u001b[0m\u001b[0m\n",
            "\u001b[0;32m/usr/local/lib/python3.7/dist-packages/tensorflow/python/framework/constant_op.py\u001b[0m in \u001b[0;36mconstant\u001b[0;34m(value, dtype, shape, name)\u001b[0m\n\u001b[1;32m    270\u001b[0m   \"\"\"\n\u001b[1;32m    271\u001b[0m   return _constant_impl(value, dtype, shape, name, verify_shape=False,\n\u001b[0;32m--> 272\u001b[0;31m                         allow_broadcast=True)\n\u001b[0m\u001b[1;32m    273\u001b[0m \u001b[0;34m\u001b[0m\u001b[0m\n\u001b[1;32m    274\u001b[0m \u001b[0;34m\u001b[0m\u001b[0m\n",
            "\u001b[0;32m/usr/local/lib/python3.7/dist-packages/tensorflow/python/framework/constant_op.py\u001b[0m in \u001b[0;36m_constant_impl\u001b[0;34m(value, dtype, shape, name, verify_shape, allow_broadcast)\u001b[0m\n\u001b[1;32m    281\u001b[0m       \u001b[0;32mwith\u001b[0m \u001b[0mtrace\u001b[0m\u001b[0;34m.\u001b[0m\u001b[0mTrace\u001b[0m\u001b[0;34m(\u001b[0m\u001b[0;34m\"tf.constant\"\u001b[0m\u001b[0;34m)\u001b[0m\u001b[0;34m:\u001b[0m\u001b[0;34m\u001b[0m\u001b[0;34m\u001b[0m\u001b[0m\n\u001b[1;32m    282\u001b[0m         \u001b[0;32mreturn\u001b[0m \u001b[0m_constant_eager_impl\u001b[0m\u001b[0;34m(\u001b[0m\u001b[0mctx\u001b[0m\u001b[0;34m,\u001b[0m \u001b[0mvalue\u001b[0m\u001b[0;34m,\u001b[0m \u001b[0mdtype\u001b[0m\u001b[0;34m,\u001b[0m \u001b[0mshape\u001b[0m\u001b[0;34m,\u001b[0m \u001b[0mverify_shape\u001b[0m\u001b[0;34m)\u001b[0m\u001b[0;34m\u001b[0m\u001b[0;34m\u001b[0m\u001b[0m\n\u001b[0;32m--> 283\u001b[0;31m     \u001b[0;32mreturn\u001b[0m \u001b[0m_constant_eager_impl\u001b[0m\u001b[0;34m(\u001b[0m\u001b[0mctx\u001b[0m\u001b[0;34m,\u001b[0m \u001b[0mvalue\u001b[0m\u001b[0;34m,\u001b[0m \u001b[0mdtype\u001b[0m\u001b[0;34m,\u001b[0m \u001b[0mshape\u001b[0m\u001b[0;34m,\u001b[0m \u001b[0mverify_shape\u001b[0m\u001b[0;34m)\u001b[0m\u001b[0;34m\u001b[0m\u001b[0;34m\u001b[0m\u001b[0m\n\u001b[0m\u001b[1;32m    284\u001b[0m \u001b[0;34m\u001b[0m\u001b[0m\n\u001b[1;32m    285\u001b[0m   \u001b[0mg\u001b[0m \u001b[0;34m=\u001b[0m \u001b[0mops\u001b[0m\u001b[0;34m.\u001b[0m\u001b[0mget_default_graph\u001b[0m\u001b[0;34m(\u001b[0m\u001b[0;34m)\u001b[0m\u001b[0;34m\u001b[0m\u001b[0;34m\u001b[0m\u001b[0m\n",
            "\u001b[0;32m/usr/local/lib/python3.7/dist-packages/tensorflow/python/framework/constant_op.py\u001b[0m in \u001b[0;36m_constant_eager_impl\u001b[0;34m(ctx, value, dtype, shape, verify_shape)\u001b[0m\n\u001b[1;32m    306\u001b[0m \u001b[0;32mdef\u001b[0m \u001b[0m_constant_eager_impl\u001b[0m\u001b[0;34m(\u001b[0m\u001b[0mctx\u001b[0m\u001b[0;34m,\u001b[0m \u001b[0mvalue\u001b[0m\u001b[0;34m,\u001b[0m \u001b[0mdtype\u001b[0m\u001b[0;34m,\u001b[0m \u001b[0mshape\u001b[0m\u001b[0;34m,\u001b[0m \u001b[0mverify_shape\u001b[0m\u001b[0;34m)\u001b[0m\u001b[0;34m:\u001b[0m\u001b[0;34m\u001b[0m\u001b[0;34m\u001b[0m\u001b[0m\n\u001b[1;32m    307\u001b[0m   \u001b[0;34m\"\"\"Creates a constant on the current device.\"\"\"\u001b[0m\u001b[0;34m\u001b[0m\u001b[0;34m\u001b[0m\u001b[0m\n\u001b[0;32m--> 308\u001b[0;31m   \u001b[0mt\u001b[0m \u001b[0;34m=\u001b[0m \u001b[0mconvert_to_eager_tensor\u001b[0m\u001b[0;34m(\u001b[0m\u001b[0mvalue\u001b[0m\u001b[0;34m,\u001b[0m \u001b[0mctx\u001b[0m\u001b[0;34m,\u001b[0m \u001b[0mdtype\u001b[0m\u001b[0;34m)\u001b[0m\u001b[0;34m\u001b[0m\u001b[0;34m\u001b[0m\u001b[0m\n\u001b[0m\u001b[1;32m    309\u001b[0m   \u001b[0;32mif\u001b[0m \u001b[0mshape\u001b[0m \u001b[0;32mis\u001b[0m \u001b[0;32mNone\u001b[0m\u001b[0;34m:\u001b[0m\u001b[0;34m\u001b[0m\u001b[0;34m\u001b[0m\u001b[0m\n\u001b[1;32m    310\u001b[0m     \u001b[0;32mreturn\u001b[0m \u001b[0mt\u001b[0m\u001b[0;34m\u001b[0m\u001b[0;34m\u001b[0m\u001b[0m\n",
            "\u001b[0;32m/usr/local/lib/python3.7/dist-packages/tensorflow/python/framework/constant_op.py\u001b[0m in \u001b[0;36mconvert_to_eager_tensor\u001b[0;34m(value, ctx, dtype)\u001b[0m\n\u001b[1;32m    104\u001b[0m       \u001b[0mdtype\u001b[0m \u001b[0;34m=\u001b[0m \u001b[0mdtypes\u001b[0m\u001b[0;34m.\u001b[0m\u001b[0mas_dtype\u001b[0m\u001b[0;34m(\u001b[0m\u001b[0mdtype\u001b[0m\u001b[0;34m)\u001b[0m\u001b[0;34m.\u001b[0m\u001b[0mas_datatype_enum\u001b[0m\u001b[0;34m\u001b[0m\u001b[0;34m\u001b[0m\u001b[0m\n\u001b[1;32m    105\u001b[0m   \u001b[0mctx\u001b[0m\u001b[0;34m.\u001b[0m\u001b[0mensure_initialized\u001b[0m\u001b[0;34m(\u001b[0m\u001b[0;34m)\u001b[0m\u001b[0;34m\u001b[0m\u001b[0;34m\u001b[0m\u001b[0m\n\u001b[0;32m--> 106\u001b[0;31m   \u001b[0;32mreturn\u001b[0m \u001b[0mops\u001b[0m\u001b[0;34m.\u001b[0m\u001b[0mEagerTensor\u001b[0m\u001b[0;34m(\u001b[0m\u001b[0mvalue\u001b[0m\u001b[0;34m,\u001b[0m \u001b[0mctx\u001b[0m\u001b[0;34m.\u001b[0m\u001b[0mdevice_name\u001b[0m\u001b[0;34m,\u001b[0m \u001b[0mdtype\u001b[0m\u001b[0;34m)\u001b[0m\u001b[0;34m\u001b[0m\u001b[0;34m\u001b[0m\u001b[0m\n\u001b[0m\u001b[1;32m    107\u001b[0m \u001b[0;34m\u001b[0m\u001b[0m\n\u001b[1;32m    108\u001b[0m \u001b[0;34m\u001b[0m\u001b[0m\n",
            "\u001b[0;31mKeyboardInterrupt\u001b[0m: "
          ]
        }
      ]
    },
    {
      "cell_type": "code",
      "metadata": {
        "colab": {
          "base_uri": "https://localhost:8080/",
          "height": 417
        },
        "id": "oEeMcf_dkaJl",
        "outputId": "aa58a617-b4c4-44d8-b6e0-8b0499f4f8d6"
      },
      "source": [
        "data_df=pd.read_csv('/content/sample_data/california_housing_train.csv')\n",
        "data_df"
      ],
      "execution_count": 171,
      "outputs": [
        {
          "output_type": "execute_result",
          "data": {
            "text/html": [
              "<div>\n",
              "<style scoped>\n",
              "    .dataframe tbody tr th:only-of-type {\n",
              "        vertical-align: middle;\n",
              "    }\n",
              "\n",
              "    .dataframe tbody tr th {\n",
              "        vertical-align: top;\n",
              "    }\n",
              "\n",
              "    .dataframe thead th {\n",
              "        text-align: right;\n",
              "    }\n",
              "</style>\n",
              "<table border=\"1\" class=\"dataframe\">\n",
              "  <thead>\n",
              "    <tr style=\"text-align: right;\">\n",
              "      <th></th>\n",
              "      <th>longitude</th>\n",
              "      <th>latitude</th>\n",
              "      <th>housing_median_age</th>\n",
              "      <th>total_rooms</th>\n",
              "      <th>total_bedrooms</th>\n",
              "      <th>population</th>\n",
              "      <th>households</th>\n",
              "      <th>median_income</th>\n",
              "      <th>median_house_value</th>\n",
              "    </tr>\n",
              "  </thead>\n",
              "  <tbody>\n",
              "    <tr>\n",
              "      <th>0</th>\n",
              "      <td>-114.31</td>\n",
              "      <td>34.19</td>\n",
              "      <td>15.0</td>\n",
              "      <td>5612.0</td>\n",
              "      <td>1283.0</td>\n",
              "      <td>1015.0</td>\n",
              "      <td>472.0</td>\n",
              "      <td>1.4936</td>\n",
              "      <td>66900.0</td>\n",
              "    </tr>\n",
              "    <tr>\n",
              "      <th>1</th>\n",
              "      <td>-114.47</td>\n",
              "      <td>34.40</td>\n",
              "      <td>19.0</td>\n",
              "      <td>7650.0</td>\n",
              "      <td>1901.0</td>\n",
              "      <td>1129.0</td>\n",
              "      <td>463.0</td>\n",
              "      <td>1.8200</td>\n",
              "      <td>80100.0</td>\n",
              "    </tr>\n",
              "    <tr>\n",
              "      <th>2</th>\n",
              "      <td>-114.56</td>\n",
              "      <td>33.69</td>\n",
              "      <td>17.0</td>\n",
              "      <td>720.0</td>\n",
              "      <td>174.0</td>\n",
              "      <td>333.0</td>\n",
              "      <td>117.0</td>\n",
              "      <td>1.6509</td>\n",
              "      <td>85700.0</td>\n",
              "    </tr>\n",
              "    <tr>\n",
              "      <th>3</th>\n",
              "      <td>-114.57</td>\n",
              "      <td>33.64</td>\n",
              "      <td>14.0</td>\n",
              "      <td>1501.0</td>\n",
              "      <td>337.0</td>\n",
              "      <td>515.0</td>\n",
              "      <td>226.0</td>\n",
              "      <td>3.1917</td>\n",
              "      <td>73400.0</td>\n",
              "    </tr>\n",
              "    <tr>\n",
              "      <th>4</th>\n",
              "      <td>-114.57</td>\n",
              "      <td>33.57</td>\n",
              "      <td>20.0</td>\n",
              "      <td>1454.0</td>\n",
              "      <td>326.0</td>\n",
              "      <td>624.0</td>\n",
              "      <td>262.0</td>\n",
              "      <td>1.9250</td>\n",
              "      <td>65500.0</td>\n",
              "    </tr>\n",
              "    <tr>\n",
              "      <th>...</th>\n",
              "      <td>...</td>\n",
              "      <td>...</td>\n",
              "      <td>...</td>\n",
              "      <td>...</td>\n",
              "      <td>...</td>\n",
              "      <td>...</td>\n",
              "      <td>...</td>\n",
              "      <td>...</td>\n",
              "      <td>...</td>\n",
              "    </tr>\n",
              "    <tr>\n",
              "      <th>16995</th>\n",
              "      <td>-124.26</td>\n",
              "      <td>40.58</td>\n",
              "      <td>52.0</td>\n",
              "      <td>2217.0</td>\n",
              "      <td>394.0</td>\n",
              "      <td>907.0</td>\n",
              "      <td>369.0</td>\n",
              "      <td>2.3571</td>\n",
              "      <td>111400.0</td>\n",
              "    </tr>\n",
              "    <tr>\n",
              "      <th>16996</th>\n",
              "      <td>-124.27</td>\n",
              "      <td>40.69</td>\n",
              "      <td>36.0</td>\n",
              "      <td>2349.0</td>\n",
              "      <td>528.0</td>\n",
              "      <td>1194.0</td>\n",
              "      <td>465.0</td>\n",
              "      <td>2.5179</td>\n",
              "      <td>79000.0</td>\n",
              "    </tr>\n",
              "    <tr>\n",
              "      <th>16997</th>\n",
              "      <td>-124.30</td>\n",
              "      <td>41.84</td>\n",
              "      <td>17.0</td>\n",
              "      <td>2677.0</td>\n",
              "      <td>531.0</td>\n",
              "      <td>1244.0</td>\n",
              "      <td>456.0</td>\n",
              "      <td>3.0313</td>\n",
              "      <td>103600.0</td>\n",
              "    </tr>\n",
              "    <tr>\n",
              "      <th>16998</th>\n",
              "      <td>-124.30</td>\n",
              "      <td>41.80</td>\n",
              "      <td>19.0</td>\n",
              "      <td>2672.0</td>\n",
              "      <td>552.0</td>\n",
              "      <td>1298.0</td>\n",
              "      <td>478.0</td>\n",
              "      <td>1.9797</td>\n",
              "      <td>85800.0</td>\n",
              "    </tr>\n",
              "    <tr>\n",
              "      <th>16999</th>\n",
              "      <td>-124.35</td>\n",
              "      <td>40.54</td>\n",
              "      <td>52.0</td>\n",
              "      <td>1820.0</td>\n",
              "      <td>300.0</td>\n",
              "      <td>806.0</td>\n",
              "      <td>270.0</td>\n",
              "      <td>3.0147</td>\n",
              "      <td>94600.0</td>\n",
              "    </tr>\n",
              "  </tbody>\n",
              "</table>\n",
              "<p>17000 rows × 9 columns</p>\n",
              "</div>"
            ],
            "text/plain": [
              "       longitude  latitude  ...  median_income  median_house_value\n",
              "0        -114.31     34.19  ...         1.4936             66900.0\n",
              "1        -114.47     34.40  ...         1.8200             80100.0\n",
              "2        -114.56     33.69  ...         1.6509             85700.0\n",
              "3        -114.57     33.64  ...         3.1917             73400.0\n",
              "4        -114.57     33.57  ...         1.9250             65500.0\n",
              "...          ...       ...  ...            ...                 ...\n",
              "16995    -124.26     40.58  ...         2.3571            111400.0\n",
              "16996    -124.27     40.69  ...         2.5179             79000.0\n",
              "16997    -124.30     41.84  ...         3.0313            103600.0\n",
              "16998    -124.30     41.80  ...         1.9797             85800.0\n",
              "16999    -124.35     40.54  ...         3.0147             94600.0\n",
              "\n",
              "[17000 rows x 9 columns]"
            ]
          },
          "metadata": {},
          "execution_count": 171
        }
      ]
    },
    {
      "cell_type": "code",
      "metadata": {
        "id": "gi4VcXv6mhR5"
      },
      "source": [
        "x=data_df.iloc[:,:-1]\n",
        "y=data_df.iloc[:,-1]"
      ],
      "execution_count": 172,
      "outputs": []
    },
    {
      "cell_type": "code",
      "metadata": {
        "colab": {
          "base_uri": "https://localhost:8080/",
          "height": 295
        },
        "id": "ZEkg0G60myQ1",
        "outputId": "566f924e-e7b1-4e05-9e2b-afed294aac21"
      },
      "source": [
        "x.describe()"
      ],
      "execution_count": 173,
      "outputs": [
        {
          "output_type": "execute_result",
          "data": {
            "text/html": [
              "<div>\n",
              "<style scoped>\n",
              "    .dataframe tbody tr th:only-of-type {\n",
              "        vertical-align: middle;\n",
              "    }\n",
              "\n",
              "    .dataframe tbody tr th {\n",
              "        vertical-align: top;\n",
              "    }\n",
              "\n",
              "    .dataframe thead th {\n",
              "        text-align: right;\n",
              "    }\n",
              "</style>\n",
              "<table border=\"1\" class=\"dataframe\">\n",
              "  <thead>\n",
              "    <tr style=\"text-align: right;\">\n",
              "      <th></th>\n",
              "      <th>longitude</th>\n",
              "      <th>latitude</th>\n",
              "      <th>housing_median_age</th>\n",
              "      <th>total_rooms</th>\n",
              "      <th>total_bedrooms</th>\n",
              "      <th>population</th>\n",
              "      <th>households</th>\n",
              "      <th>median_income</th>\n",
              "    </tr>\n",
              "  </thead>\n",
              "  <tbody>\n",
              "    <tr>\n",
              "      <th>count</th>\n",
              "      <td>17000.000000</td>\n",
              "      <td>17000.000000</td>\n",
              "      <td>17000.000000</td>\n",
              "      <td>17000.000000</td>\n",
              "      <td>17000.000000</td>\n",
              "      <td>17000.000000</td>\n",
              "      <td>17000.000000</td>\n",
              "      <td>17000.000000</td>\n",
              "    </tr>\n",
              "    <tr>\n",
              "      <th>mean</th>\n",
              "      <td>-119.562108</td>\n",
              "      <td>35.625225</td>\n",
              "      <td>28.589353</td>\n",
              "      <td>2643.664412</td>\n",
              "      <td>539.410824</td>\n",
              "      <td>1429.573941</td>\n",
              "      <td>501.221941</td>\n",
              "      <td>3.883578</td>\n",
              "    </tr>\n",
              "    <tr>\n",
              "      <th>std</th>\n",
              "      <td>2.005166</td>\n",
              "      <td>2.137340</td>\n",
              "      <td>12.586937</td>\n",
              "      <td>2179.947071</td>\n",
              "      <td>421.499452</td>\n",
              "      <td>1147.852959</td>\n",
              "      <td>384.520841</td>\n",
              "      <td>1.908157</td>\n",
              "    </tr>\n",
              "    <tr>\n",
              "      <th>min</th>\n",
              "      <td>-124.350000</td>\n",
              "      <td>32.540000</td>\n",
              "      <td>1.000000</td>\n",
              "      <td>2.000000</td>\n",
              "      <td>1.000000</td>\n",
              "      <td>3.000000</td>\n",
              "      <td>1.000000</td>\n",
              "      <td>0.499900</td>\n",
              "    </tr>\n",
              "    <tr>\n",
              "      <th>25%</th>\n",
              "      <td>-121.790000</td>\n",
              "      <td>33.930000</td>\n",
              "      <td>18.000000</td>\n",
              "      <td>1462.000000</td>\n",
              "      <td>297.000000</td>\n",
              "      <td>790.000000</td>\n",
              "      <td>282.000000</td>\n",
              "      <td>2.566375</td>\n",
              "    </tr>\n",
              "    <tr>\n",
              "      <th>50%</th>\n",
              "      <td>-118.490000</td>\n",
              "      <td>34.250000</td>\n",
              "      <td>29.000000</td>\n",
              "      <td>2127.000000</td>\n",
              "      <td>434.000000</td>\n",
              "      <td>1167.000000</td>\n",
              "      <td>409.000000</td>\n",
              "      <td>3.544600</td>\n",
              "    </tr>\n",
              "    <tr>\n",
              "      <th>75%</th>\n",
              "      <td>-118.000000</td>\n",
              "      <td>37.720000</td>\n",
              "      <td>37.000000</td>\n",
              "      <td>3151.250000</td>\n",
              "      <td>648.250000</td>\n",
              "      <td>1721.000000</td>\n",
              "      <td>605.250000</td>\n",
              "      <td>4.767000</td>\n",
              "    </tr>\n",
              "    <tr>\n",
              "      <th>max</th>\n",
              "      <td>-114.310000</td>\n",
              "      <td>41.950000</td>\n",
              "      <td>52.000000</td>\n",
              "      <td>37937.000000</td>\n",
              "      <td>6445.000000</td>\n",
              "      <td>35682.000000</td>\n",
              "      <td>6082.000000</td>\n",
              "      <td>15.000100</td>\n",
              "    </tr>\n",
              "  </tbody>\n",
              "</table>\n",
              "</div>"
            ],
            "text/plain": [
              "          longitude      latitude  ...    households  median_income\n",
              "count  17000.000000  17000.000000  ...  17000.000000   17000.000000\n",
              "mean    -119.562108     35.625225  ...    501.221941       3.883578\n",
              "std        2.005166      2.137340  ...    384.520841       1.908157\n",
              "min     -124.350000     32.540000  ...      1.000000       0.499900\n",
              "25%     -121.790000     33.930000  ...    282.000000       2.566375\n",
              "50%     -118.490000     34.250000  ...    409.000000       3.544600\n",
              "75%     -118.000000     37.720000  ...    605.250000       4.767000\n",
              "max     -114.310000     41.950000  ...   6082.000000      15.000100\n",
              "\n",
              "[8 rows x 8 columns]"
            ]
          },
          "metadata": {},
          "execution_count": 173
        }
      ]
    },
    {
      "cell_type": "code",
      "metadata": {
        "colab": {
          "base_uri": "https://localhost:8080/",
          "height": 284
        },
        "id": "fsTWS0XRnDIY",
        "outputId": "0e167b57-e1b5-4ee5-a634-5dd36581c75e"
      },
      "source": [
        "y.hist()"
      ],
      "execution_count": 175,
      "outputs": [
        {
          "output_type": "execute_result",
          "data": {
            "text/plain": [
              "<matplotlib.axes._subplots.AxesSubplot at 0x7f9253f5d150>"
            ]
          },
          "metadata": {},
          "execution_count": 175
        },
        {
          "output_type": "display_data",
          "data": {
            "image/png": "[encoded data removed]",
            "text/plain": [
              "<Figure size 432x288 with 1 Axes>"
            ]
          },
          "metadata": {
            "needs_background": "light"
          }
        }
      ]
    },
    {
      "cell_type": "code",
      "metadata": {
        "id": "maDODRDTm0ZZ"
      },
      "source": [
        "x_norm=preprocessing.StandardScaler()\n",
        "new_x=x_norm.fit_transform(x)\n",
        "y_norm=preprocessing.MinMaxScaler()\n",
        "new_y=y_norm.fit_transform(np.array(y).reshape(-1,1))"
      ],
      "execution_count": 178,
      "outputs": []
    },
    {
      "cell_type": "code",
      "metadata": {
        "id": "DMqeZM4_m8wf"
      },
      "source": [
        "x_train,x_test,y_train,y_test=model_selection.train_test_split(new_x,new_y,test_size=0.1,random_state=42)"
      ],
      "execution_count": 180,
      "outputs": []
    },
    {
      "cell_type": "code",
      "metadata": {
        "id": "K_AnPDjNnl11"
      },
      "source": [
        "\n",
        "#create the model \n",
        "model=tf.keras.models.Sequential([\n",
        "                                  tf.keras.layers.Input(shape=(8)),\n",
        "                                  tf.keras.layers.Dense(units=64,activation=tf.nn.leaky_relu,kernel_initializer=tf.initializers.he_uniform(seed=42),name='layer_1'),\n",
        "                                  tf.keras.layers.Dropout(0.2),\n",
        "                                  tf.keras.layers.Dense(units=128,activation=tf.nn.leaky_relu,kernel_initializer=tf.initializers.he_uniform(seed=42),name='layer_2'),\n",
        "                                  tf.keras.layers.Dropout(0.3),\n",
        "                                  tf.keras.layers.Dense(units=1,activation=tf.nn.relu)\n",
        "])\n"
      ],
      "execution_count": 184,
      "outputs": []
    },
    {
      "cell_type": "code",
      "metadata": {
        "id": "3RCjd_P5n_7Y"
      },
      "source": [
        "model.compile(optimizer=tf.optimizers.Adam(),loss=tf.losses.MeanSquaredError())"
      ],
      "execution_count": 185,
      "outputs": []
    },
    {
      "cell_type": "code",
      "metadata": {
        "colab": {
          "base_uri": "https://localhost:8080/"
        },
        "id": "OIQzguVOoKdS",
        "outputId": "d6242e59-adc7-4b0e-d441-8caa9843c9fa"
      },
      "source": [
        "model.fit(x=x_train,y=y_train,epochs=100,batch_size=32,validation_data=(x_test,y_test))"
      ],
      "execution_count": 186,
      "outputs": [
        {
          "output_type": "stream",
          "name": "stdout",
          "text": [
            "Epoch 1/100\n",
            "479/479 [==============================] - 2s 4ms/step - loss: 0.2011 - val_loss: 0.1694\n",
            "Epoch 2/100\n",
            "479/479 [==============================] - 2s 3ms/step - loss: 0.1305 - val_loss: 0.0468\n",
            "Epoch 3/100\n",
            "479/479 [==============================] - 2s 3ms/step - loss: 0.0553 - val_loss: 0.0275\n",
            "Epoch 4/100\n",
            "479/479 [==============================] - 2s 3ms/step - loss: 0.0302 - val_loss: 0.0219\n",
            "Epoch 5/100\n",
            "479/479 [==============================] - 2s 3ms/step - loss: 0.0244 - val_loss: 0.0200\n",
            "Epoch 6/100\n",
            "479/479 [==============================] - 2s 3ms/step - loss: 0.0227 - val_loss: 0.0231\n",
            "Epoch 7/100\n",
            "479/479 [==============================] - 2s 3ms/step - loss: 0.0215 - val_loss: 0.0183\n",
            "Epoch 8/100\n",
            "479/479 [==============================] - 2s 3ms/step - loss: 0.0207 - val_loss: 0.0183\n",
            "Epoch 9/100\n",
            "479/479 [==============================] - 2s 3ms/step - loss: 0.0199 - val_loss: 0.0173\n",
            "Epoch 10/100\n",
            "479/479 [==============================] - 2s 3ms/step - loss: 0.0193 - val_loss: 0.0182\n",
            "Epoch 11/100\n",
            "479/479 [==============================] - 2s 3ms/step - loss: 0.0193 - val_loss: 0.0163\n",
            "Epoch 12/100\n",
            "479/479 [==============================] - 2s 3ms/step - loss: 0.0187 - val_loss: 0.0168\n",
            "Epoch 13/100\n",
            "479/479 [==============================] - 2s 3ms/step - loss: 0.0182 - val_loss: 0.0162\n",
            "Epoch 14/100\n",
            "479/479 [==============================] - 2s 3ms/step - loss: 0.0179 - val_loss: 0.0161\n",
            "Epoch 15/100\n",
            "479/479 [==============================] - 2s 3ms/step - loss: 0.0176 - val_loss: 0.0158\n",
            "Epoch 16/100\n",
            "479/479 [==============================] - 2s 3ms/step - loss: 0.0173 - val_loss: 0.0163\n",
            "Epoch 17/100\n",
            "479/479 [==============================] - 2s 3ms/step - loss: 0.0170 - val_loss: 0.0155\n",
            "Epoch 18/100\n",
            "479/479 [==============================] - 2s 3ms/step - loss: 0.0169 - val_loss: 0.0155\n",
            "Epoch 19/100\n",
            "479/479 [==============================] - 2s 3ms/step - loss: 0.0168 - val_loss: 0.0153\n",
            "Epoch 20/100\n",
            "479/479 [==============================] - 2s 3ms/step - loss: 0.0163 - val_loss: 0.0156\n",
            "Epoch 21/100\n",
            "479/479 [==============================] - 2s 3ms/step - loss: 0.0164 - val_loss: 0.0151\n",
            "Epoch 22/100\n",
            "479/479 [==============================] - 2s 3ms/step - loss: 0.0163 - val_loss: 0.0151\n",
            "Epoch 23/100\n",
            "479/479 [==============================] - 2s 3ms/step - loss: 0.0162 - val_loss: 0.0147\n",
            "Epoch 24/100\n",
            "479/479 [==============================] - 2s 3ms/step - loss: 0.0160 - val_loss: 0.0150\n",
            "Epoch 25/100\n",
            "479/479 [==============================] - 2s 3ms/step - loss: 0.0159 - val_loss: 0.0154\n",
            "Epoch 26/100\n",
            "479/479 [==============================] - 2s 3ms/step - loss: 0.0157 - val_loss: 0.0147\n",
            "Epoch 27/100\n",
            "479/479 [==============================] - 2s 3ms/step - loss: 0.0157 - val_loss: 0.0145\n",
            "Epoch 28/100\n",
            "479/479 [==============================] - 2s 3ms/step - loss: 0.0154 - val_loss: 0.0146\n",
            "Epoch 29/100\n",
            "479/479 [==============================] - 2s 3ms/step - loss: 0.0156 - val_loss: 0.0154\n",
            "Epoch 30/100\n",
            "479/479 [==============================] - 2s 3ms/step - loss: 0.0152 - val_loss: 0.0147\n",
            "Epoch 31/100\n",
            "479/479 [==============================] - 2s 3ms/step - loss: 0.0154 - val_loss: 0.0147\n",
            "Epoch 32/100\n",
            "479/479 [==============================] - 2s 3ms/step - loss: 0.0151 - val_loss: 0.0141\n",
            "Epoch 33/100\n",
            "479/479 [==============================] - 2s 3ms/step - loss: 0.0154 - val_loss: 0.0143\n",
            "Epoch 34/100\n",
            "479/479 [==============================] - 2s 3ms/step - loss: 0.0151 - val_loss: 0.0141\n",
            "Epoch 35/100\n",
            "479/479 [==============================] - 2s 3ms/step - loss: 0.0150 - val_loss: 0.0142\n",
            "Epoch 36/100\n",
            "479/479 [==============================] - 2s 3ms/step - loss: 0.0151 - val_loss: 0.0142\n",
            "Epoch 37/100\n",
            "479/479 [==============================] - 2s 3ms/step - loss: 0.0150 - val_loss: 0.0141\n",
            "Epoch 38/100\n",
            "479/479 [==============================] - 2s 3ms/step - loss: 0.0149 - val_loss: 0.0136\n",
            "Epoch 39/100\n",
            "479/479 [==============================] - 2s 3ms/step - loss: 0.0148 - val_loss: 0.0138\n",
            "Epoch 40/100\n",
            "479/479 [==============================] - 2s 3ms/step - loss: 0.0150 - val_loss: 0.0140\n",
            "Epoch 41/100\n",
            "479/479 [==============================] - 2s 3ms/step - loss: 0.0148 - val_loss: 0.0134\n",
            "Epoch 42/100\n",
            "479/479 [==============================] - 2s 3ms/step - loss: 0.0147 - val_loss: 0.0141\n",
            "Epoch 43/100\n",
            "479/479 [==============================] - 2s 3ms/step - loss: 0.0148 - val_loss: 0.0134\n",
            "Epoch 44/100\n",
            "479/479 [==============================] - 2s 3ms/step - loss: 0.0147 - val_loss: 0.0133\n",
            "Epoch 45/100\n",
            "479/479 [==============================] - 2s 3ms/step - loss: 0.0149 - val_loss: 0.0138\n",
            "Epoch 46/100\n",
            "479/479 [==============================] - 2s 3ms/step - loss: 0.0145 - val_loss: 0.0135\n",
            "Epoch 47/100\n",
            "479/479 [==============================] - 2s 3ms/step - loss: 0.0146 - val_loss: 0.0148\n",
            "Epoch 48/100\n",
            "479/479 [==============================] - 2s 3ms/step - loss: 0.0146 - val_loss: 0.0134\n",
            "Epoch 49/100\n",
            "479/479 [==============================] - 2s 3ms/step - loss: 0.0145 - val_loss: 0.0133\n",
            "Epoch 50/100\n",
            "479/479 [==============================] - 2s 3ms/step - loss: 0.0146 - val_loss: 0.0141\n",
            "Epoch 51/100\n",
            "479/479 [==============================] - 2s 3ms/step - loss: 0.0146 - val_loss: 0.0131\n",
            "Epoch 52/100\n",
            "479/479 [==============================] - 2s 3ms/step - loss: 0.0145 - val_loss: 0.0144\n",
            "Epoch 53/100\n",
            "479/479 [==============================] - 2s 3ms/step - loss: 0.0144 - val_loss: 0.0135\n",
            "Epoch 54/100\n",
            "479/479 [==============================] - 2s 3ms/step - loss: 0.0144 - val_loss: 0.0138\n",
            "Epoch 55/100\n",
            "479/479 [==============================] - 2s 3ms/step - loss: 0.0143 - val_loss: 0.0133\n",
            "Epoch 56/100\n",
            "479/479 [==============================] - 2s 3ms/step - loss: 0.0143 - val_loss: 0.0147\n",
            "Epoch 57/100\n",
            "479/479 [==============================] - 2s 3ms/step - loss: 0.0144 - val_loss: 0.0132\n",
            "Epoch 58/100\n",
            "479/479 [==============================] - 2s 3ms/step - loss: 0.0145 - val_loss: 0.0132\n",
            "Epoch 59/100\n",
            "479/479 [==============================] - 2s 3ms/step - loss: 0.0143 - val_loss: 0.0134\n",
            "Epoch 60/100\n",
            "479/479 [==============================] - 2s 3ms/step - loss: 0.0143 - val_loss: 0.0133\n",
            "Epoch 61/100\n",
            "479/479 [==============================] - 2s 3ms/step - loss: 0.0145 - val_loss: 0.0168\n",
            "Epoch 62/100\n",
            "479/479 [==============================] - 2s 3ms/step - loss: 0.0147 - val_loss: 0.0131\n",
            "Epoch 63/100\n",
            "479/479 [==============================] - 2s 3ms/step - loss: 0.0142 - val_loss: 0.0133\n",
            "Epoch 64/100\n",
            "479/479 [==============================] - 2s 3ms/step - loss: 0.0143 - val_loss: 0.0139\n",
            "Epoch 65/100\n",
            "479/479 [==============================] - 2s 3ms/step - loss: 0.0143 - val_loss: 0.0130\n",
            "Epoch 66/100\n",
            "479/479 [==============================] - 2s 3ms/step - loss: 0.0143 - val_loss: 0.0131\n",
            "Epoch 67/100\n",
            "479/479 [==============================] - 2s 3ms/step - loss: 0.0142 - val_loss: 0.0130\n",
            "Epoch 68/100\n",
            "479/479 [==============================] - 2s 3ms/step - loss: 0.0145 - val_loss: 0.0131\n",
            "Epoch 69/100\n",
            "479/479 [==============================] - 2s 3ms/step - loss: 0.0142 - val_loss: 0.0129\n",
            "Epoch 70/100\n",
            "479/479 [==============================] - 2s 3ms/step - loss: 0.0144 - val_loss: 0.0136\n",
            "Epoch 71/100\n",
            "479/479 [==============================] - 2s 3ms/step - loss: 0.0141 - val_loss: 0.0131\n",
            "Epoch 72/100\n",
            "479/479 [==============================] - 2s 3ms/step - loss: 0.0141 - val_loss: 0.0132\n",
            "Epoch 73/100\n",
            "479/479 [==============================] - 2s 3ms/step - loss: 0.0140 - val_loss: 0.0134\n",
            "Epoch 74/100\n",
            "479/479 [==============================] - 2s 3ms/step - loss: 0.0144 - val_loss: 0.0135\n",
            "Epoch 75/100\n",
            "479/479 [==============================] - 2s 3ms/step - loss: 0.0142 - val_loss: 0.0132\n",
            "Epoch 76/100\n",
            "479/479 [==============================] - 2s 3ms/step - loss: 0.0141 - val_loss: 0.0129\n",
            "Epoch 77/100\n",
            "479/479 [==============================] - 2s 3ms/step - loss: 0.0141 - val_loss: 0.0135\n",
            "Epoch 78/100\n",
            "479/479 [==============================] - 2s 3ms/step - loss: 0.0142 - val_loss: 0.0132\n",
            "Epoch 79/100\n",
            "479/479 [==============================] - 2s 3ms/step - loss: 0.0142 - val_loss: 0.0131\n",
            "Epoch 80/100\n",
            "479/479 [==============================] - 2s 3ms/step - loss: 0.0141 - val_loss: 0.0134\n",
            "Epoch 81/100\n",
            "479/479 [==============================] - 2s 3ms/step - loss: 0.0139 - val_loss: 0.0131\n",
            "Epoch 82/100\n",
            "479/479 [==============================] - 2s 3ms/step - loss: 0.0140 - val_loss: 0.0131\n",
            "Epoch 83/100\n",
            "479/479 [==============================] - 2s 3ms/step - loss: 0.0141 - val_loss: 0.0132\n",
            "Epoch 84/100\n",
            "479/479 [==============================] - 2s 3ms/step - loss: 0.0141 - val_loss: 0.0129\n",
            "Epoch 85/100\n",
            "479/479 [==============================] - 2s 3ms/step - loss: 0.0144 - val_loss: 0.0134\n",
            "Epoch 86/100\n",
            "479/479 [==============================] - 2s 3ms/step - loss: 0.0140 - val_loss: 0.0129\n",
            "Epoch 87/100\n",
            "479/479 [==============================] - 2s 3ms/step - loss: 0.0142 - val_loss: 0.0127\n",
            "Epoch 88/100\n",
            "479/479 [==============================] - 2s 3ms/step - loss: 0.0140 - val_loss: 0.0131\n",
            "Epoch 89/100\n",
            "479/479 [==============================] - 2s 3ms/step - loss: 0.0140 - val_loss: 0.0129\n",
            "Epoch 90/100\n",
            "479/479 [==============================] - 2s 3ms/step - loss: 0.0139 - val_loss: 0.0128\n",
            "Epoch 91/100\n",
            "479/479 [==============================] - 2s 3ms/step - loss: 0.0142 - val_loss: 0.0129\n",
            "Epoch 92/100\n",
            "479/479 [==============================] - 2s 3ms/step - loss: 0.0142 - val_loss: 0.0135\n",
            "Epoch 93/100\n",
            "479/479 [==============================] - 2s 3ms/step - loss: 0.0142 - val_loss: 0.0132\n",
            "Epoch 94/100\n",
            "479/479 [==============================] - 2s 3ms/step - loss: 0.0141 - val_loss: 0.0129\n",
            "Epoch 95/100\n",
            "479/479 [==============================] - 2s 3ms/step - loss: 0.0140 - val_loss: 0.0130\n",
            "Epoch 96/100\n",
            "479/479 [==============================] - 2s 3ms/step - loss: 0.0137 - val_loss: 0.0130\n",
            "Epoch 97/100\n",
            "479/479 [==============================] - 2s 3ms/step - loss: 0.0139 - val_loss: 0.0135\n",
            "Epoch 98/100\n",
            "479/479 [==============================] - 2s 3ms/step - loss: 0.0140 - val_loss: 0.0130\n",
            "Epoch 99/100\n",
            "479/479 [==============================] - 2s 3ms/step - loss: 0.0140 - val_loss: 0.0130\n",
            "Epoch 100/100\n",
            "479/479 [==============================] - 2s 3ms/step - loss: 0.0147 - val_loss: 0.0138\n"
          ]
        },
        {
          "output_type": "execute_result",
          "data": {
            "text/plain": [
              "<keras.callbacks.History at 0x7f925407a890>"
            ]
          },
          "metadata": {},
          "execution_count": 186
        }
      ]
    },
    {
      "cell_type": "code",
      "metadata": {
        "id": "8rkWdRKEoXez"
      },
      "source": [
        ""
      ],
      "execution_count": null,
      "outputs": []
    }
  ]
}